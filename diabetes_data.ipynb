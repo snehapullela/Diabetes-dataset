{
 "cells": [
  {
   "cell_type": "markdown",
   "metadata": {
    "id": "ptDIdVloa4jB"
   },
   "source": [
    "# CSI - 5155 ML project \n",
    "## Supervised and Semi-supervised Learning on clinical diabetes dataset"
   ]
  },
  {
   "cell_type": "markdown",
   "metadata": {
    "id": "WztpjkUwl_O8"
   },
   "source": [
    "###Importing all the packages"
   ]
  },
  {
   "cell_type": "code",
   "execution_count": 114,
   "metadata": {
    "colab": {
     "base_uri": "https://localhost:8080/"
    },
    "id": "za5YYsS6-D4B",
    "outputId": "e0eaa7b8-335b-4365-8868-bb37271c6208"
   },
   "outputs": [
    {
     "name": "stdout",
     "output_type": "stream",
     "text": [
      "Requirement already satisfied: category_encoders in /usr/local/lib/python3.6/dist-packages (2.2.2)\n",
      "Requirement already satisfied: scikit-learn>=0.20.0 in /usr/local/lib/python3.6/dist-packages (from category_encoders) (0.23.2)\n",
      "Requirement already satisfied: pandas>=0.21.1 in /usr/local/lib/python3.6/dist-packages (from category_encoders) (1.1.5)\n",
      "Requirement already satisfied: statsmodels>=0.9.0 in /usr/local/lib/python3.6/dist-packages (from category_encoders) (0.10.2)\n",
      "Requirement already satisfied: numpy>=1.14.0 in /usr/local/lib/python3.6/dist-packages (from category_encoders) (1.18.5)\n",
      "Requirement already satisfied: scipy>=1.0.0 in /usr/local/lib/python3.6/dist-packages (from category_encoders) (1.4.1)\n",
      "Requirement already satisfied: patsy>=0.5.1 in /usr/local/lib/python3.6/dist-packages (from category_encoders) (0.5.1)\n",
      "Requirement already satisfied: joblib>=0.11 in /usr/local/lib/python3.6/dist-packages (from scikit-learn>=0.20.0->category_encoders) (0.17.0)\n",
      "Requirement already satisfied: threadpoolctl>=2.0.0 in /usr/local/lib/python3.6/dist-packages (from scikit-learn>=0.20.0->category_encoders) (2.1.0)\n",
      "Requirement already satisfied: pytz>=2017.2 in /usr/local/lib/python3.6/dist-packages (from pandas>=0.21.1->category_encoders) (2018.9)\n",
      "Requirement already satisfied: python-dateutil>=2.7.3 in /usr/local/lib/python3.6/dist-packages (from pandas>=0.21.1->category_encoders) (2.8.1)\n",
      "Requirement already satisfied: six in /usr/local/lib/python3.6/dist-packages (from patsy>=0.5.1->category_encoders) (1.15.0)\n",
      "Requirement already up-to-date: imbalanced-learn in /usr/local/lib/python3.6/dist-packages (0.7.0)\n",
      "Requirement already satisfied, skipping upgrade: joblib>=0.11 in /usr/local/lib/python3.6/dist-packages (from imbalanced-learn) (0.17.0)\n",
      "Requirement already satisfied, skipping upgrade: scikit-learn>=0.23 in /usr/local/lib/python3.6/dist-packages (from imbalanced-learn) (0.23.2)\n",
      "Requirement already satisfied, skipping upgrade: scipy>=0.19.1 in /usr/local/lib/python3.6/dist-packages (from imbalanced-learn) (1.4.1)\n",
      "Requirement already satisfied, skipping upgrade: numpy>=1.13.3 in /usr/local/lib/python3.6/dist-packages (from imbalanced-learn) (1.18.5)\n",
      "Requirement already satisfied, skipping upgrade: threadpoolctl>=2.0.0 in /usr/local/lib/python3.6/dist-packages (from scikit-learn>=0.23->imbalanced-learn) (2.1.0)\n"
     ]
    }
   ],
   "source": [
    "!pip install category_encoders\n",
    "!pip install -U imbalanced-learn\n",
    "import pandas as pd\n",
    "import numpy as np\n",
    "import matplotlib.pyplot as plt\n",
    "import seaborn as sns\n",
    "from sklearn.preprocessing import OneHotEncoder\n",
    "from sklearn import preprocessing\n",
    "from sklearn.preprocessing import LabelEncoder\n",
    "import warnings\n",
    "warnings.filterwarnings(\"ignore\")\n",
    "import timeit\n",
    "from sklearn.neural_network import MLPClassifier\n",
    "from sklearn.model_selection import train_test_split\n",
    "from imblearn.over_sampling import RandomOverSampler\n",
    "from sklearn.model_selection import cross_val_score, cross_val_predict\n",
    "from sklearn.tree import DecisionTreeClassifier\n",
    "from sklearn.ensemble import RandomForestClassifier\n",
    "from sklearn.naive_bayes import MultinomialNB,GaussianNB\n",
    "from sklearn.svm import LinearSVC\n",
    "from sklearn.svm import SVC\n",
    "from sklearn.ensemble import GradientBoostingClassifier\n",
    "from sklearn.neighbors import KNeighborsClassifier\n",
    "\n",
    "\n",
    "from sklearn.metrics import accuracy_score, f1_score\n",
    "from sklearn.metrics import roc_auc_score\n",
    "from sklearn.metrics import confusion_matrix,classification_report\n",
    "from sklearn.metrics import roc_curve, auc\n",
    "import sklearn.metrics as metrics\n",
    "from sklearn.metrics import precision_score\n",
    "from sklearn.metrics import recall_score\n",
    "\n",
    "\n",
    "from sklearn.preprocessing import OrdinalEncoder\n",
    "from sklearn.preprocessing import StandardScaler\n",
    "from sklearn.preprocessing import MinMaxScaler\n",
    "from IPython.display import display\n",
    "from sklearn.tree import export_graphviz\n",
    "import graphviz\n",
    "from graphviz import Source\n",
    "import pydotplus\n",
    "import collections\n",
    "from IPython.display import Image  \n",
    "from sklearn import tree\n",
    "from mlxtend.plotting import plot_decision_regions\n",
    "from sklearn.decomposition import PCA\n",
    "from sklearn.utils import shuffle\n",
    "from prettytable import PrettyTable\n",
    "from sklearn.manifold import TSNE\n",
    "from sklearn.inspection import permutation_importance\n",
    "from datetime import datetime\n",
    "\n"
   ]
  },
  {
   "cell_type": "code",
   "execution_count": 115,
   "metadata": {
    "colab": {
     "base_uri": "https://localhost:8080/"
    },
    "id": "eiBoMVoM-I4H",
    "outputId": "21c4c1a0-3202-491a-e488-deb9a37cd07e"
   },
   "outputs": [
    {
     "name": "stdout",
     "output_type": "stream",
     "text": [
      "Drive already mounted at /content/drive; to attempt to forcibly remount, call drive.mount(\"/content/drive\", force_remount=True).\n"
     ]
    }
   ],
   "source": [
    "#making connection to google drive\n",
    "from google.colab import drive\n",
    "drive.mount('/content/drive')\n"
   ]
  },
  {
   "cell_type": "markdown",
   "metadata": {
    "id": "JPx7krIZbkXE"
   },
   "source": [
    "# A: Feature engineering, supervised learning & evaluation of results "
   ]
  },
  {
   "cell_type": "code",
   "execution_count": 116,
   "metadata": {
    "id": "5l8f2DBL-M7c"
   },
   "outputs": [],
   "source": [
    "#loading the data\n",
    "data=pd.read_csv('/content/drive/MyDrive/diabetic_data.csv')"
   ]
  },
  {
   "cell_type": "markdown",
   "metadata": {
    "id": "VTtzUKRH7dwd"
   },
   "source": [
    "## Data Cleaning"
   ]
  },
  {
   "cell_type": "code",
   "execution_count": 117,
   "metadata": {
    "id": "a4QKXDoR-Tqr"
   },
   "outputs": [],
   "source": [
    "#replacing question marks with nan value\n",
    "data= data.replace(\"?\", np.nan)"
   ]
  },
  {
   "cell_type": "code",
   "execution_count": 118,
   "metadata": {
    "colab": {
     "base_uri": "https://localhost:8080/"
    },
    "id": "lCsCukME_i5f",
    "outputId": "f5a9d08f-df59-47b9-9d89-1125179df8cc"
   },
   "outputs": [
    {
     "name": "stdout",
     "output_type": "stream",
     "text": [
      "encounter_id                 0.00\n",
      "patient_nbr                  0.00\n",
      "race                         2.23\n",
      "gender                       0.00\n",
      "age                          0.00\n",
      "weight                      96.86\n",
      "admission_type_id            0.00\n",
      "discharge_disposition_id     0.00\n",
      "admission_source_id          0.00\n",
      "time_in_hospital             0.00\n",
      "payer_code                  39.56\n",
      "medical_specialty           49.08\n",
      "num_lab_procedures           0.00\n",
      "num_procedures               0.00\n",
      "num_medications              0.00\n",
      "number_outpatient            0.00\n",
      "number_emergency             0.00\n",
      "number_inpatient             0.00\n",
      "diag_1                       0.02\n",
      "diag_2                       0.35\n",
      "diag_3                       1.40\n",
      "number_diagnoses             0.00\n",
      "max_glu_serum                0.00\n",
      "A1Cresult                    0.00\n",
      "metformin                    0.00\n",
      "repaglinide                  0.00\n",
      "nateglinide                  0.00\n",
      "chlorpropamide               0.00\n",
      "glimepiride                  0.00\n",
      "acetohexamide                0.00\n",
      "glipizide                    0.00\n",
      "glyburide                    0.00\n",
      "tolbutamide                  0.00\n",
      "pioglitazone                 0.00\n",
      "rosiglitazone                0.00\n",
      "acarbose                     0.00\n",
      "miglitol                     0.00\n",
      "troglitazone                 0.00\n",
      "tolazamide                   0.00\n",
      "examide                      0.00\n",
      "citoglipton                  0.00\n",
      "insulin                      0.00\n",
      "glyburide-metformin          0.00\n",
      "glipizide-metformin          0.00\n",
      "glimepiride-pioglitazone     0.00\n",
      "metformin-rosiglitazone      0.00\n",
      "metformin-pioglitazone       0.00\n",
      "change                       0.00\n",
      "diabetesMed                  0.00\n",
      "readmitted                   0.00\n",
      "dtype: float64\n"
     ]
    }
   ],
   "source": [
    "#checking the percentage of the null values\n",
    "print(round(data.isnull().mean()*100,2))"
   ]
  },
  {
   "cell_type": "code",
   "execution_count": 119,
   "metadata": {
    "id": "k9L6-JoX9tpd"
   },
   "outputs": [],
   "source": [
    "#taking on the first encounter of the patient and dropping the rest\n",
    "data = data.drop_duplicates(subset = ['patient_nbr'], keep = 'first')"
   ]
  },
  {
   "cell_type": "code",
   "execution_count": 120,
   "metadata": {
    "id": "LhEWNmWW_jPD"
   },
   "outputs": [],
   "source": [
    "# as we can see that 96.86% of the rows are empty in weight column, it is better to drop it. Same goes with other columns.\n",
    "data = data.drop(columns = ['encounter_id', 'patient_nbr', 'weight','payer_code', 'medical_specialty'])"
   ]
  },
  {
   "cell_type": "code",
   "execution_count": 121,
   "metadata": {
    "id": "SIisbm5DBvQN"
   },
   "outputs": [],
   "source": [
    "#gender consists of an Unknown/Invalid value which can be removed\n",
    "data = data[(data.gender!= 'Unknown/Invalid')]"
   ]
  },
  {
   "cell_type": "code",
   "execution_count": 122,
   "metadata": {
    "colab": {
     "base_uri": "https://localhost:8080/"
    },
    "id": "W1M_QJgm_lQe",
    "outputId": "8240d3f0-a956-4232-c799-a9d6ced03547"
   },
   "outputs": [
    {
     "name": "stdout",
     "output_type": "stream",
     "text": [
      "race                        2.72\n",
      "gender                      0.00\n",
      "age                         0.00\n",
      "admission_type_id           0.00\n",
      "discharge_disposition_id    0.00\n",
      "admission_source_id         0.00\n",
      "time_in_hospital            0.00\n",
      "num_lab_procedures          0.00\n",
      "num_procedures              0.00\n",
      "num_medications             0.00\n",
      "number_outpatient           0.00\n",
      "number_emergency            0.00\n",
      "number_inpatient            0.00\n",
      "diag_1                      0.02\n",
      "diag_2                      0.41\n",
      "diag_3                      1.71\n",
      "number_diagnoses            0.00\n",
      "max_glu_serum               0.00\n",
      "A1Cresult                   0.00\n",
      "metformin                   0.00\n",
      "repaglinide                 0.00\n",
      "nateglinide                 0.00\n",
      "chlorpropamide              0.00\n",
      "glimepiride                 0.00\n",
      "acetohexamide               0.00\n",
      "glipizide                   0.00\n",
      "glyburide                   0.00\n",
      "tolbutamide                 0.00\n",
      "pioglitazone                0.00\n",
      "rosiglitazone               0.00\n",
      "acarbose                    0.00\n",
      "miglitol                    0.00\n",
      "troglitazone                0.00\n",
      "tolazamide                  0.00\n",
      "examide                     0.00\n",
      "citoglipton                 0.00\n",
      "insulin                     0.00\n",
      "glyburide-metformin         0.00\n",
      "glipizide-metformin         0.00\n",
      "glimepiride-pioglitazone    0.00\n",
      "metformin-rosiglitazone     0.00\n",
      "metformin-pioglitazone      0.00\n",
      "change                      0.00\n",
      "diabetesMed                 0.00\n",
      "readmitted                  0.00\n",
      "dtype: float64\n"
     ]
    }
   ],
   "source": [
    "#checking the percentage of null values\n",
    "print(round(data.isnull().mean()*100,2))"
   ]
  },
  {
   "cell_type": "code",
   "execution_count": 123,
   "metadata": {
    "colab": {
     "base_uri": "https://localhost:8080/",
     "height": 605
    },
    "id": "rgGDQTpr-qNv",
    "outputId": "8ea5b590-4142-4de6-a4f1-fb606872ee31"
   },
   "outputs": [
    {
     "data": {
      "text/html": [
       "<div>\n",
       "<style scoped>\n",
       "    .dataframe tbody tr th:only-of-type {\n",
       "        vertical-align: middle;\n",
       "    }\n",
       "\n",
       "    .dataframe tbody tr th {\n",
       "        vertical-align: top;\n",
       "    }\n",
       "\n",
       "    .dataframe thead th {\n",
       "        text-align: right;\n",
       "    }\n",
       "</style>\n",
       "<table border=\"1\" class=\"dataframe\">\n",
       "  <thead>\n",
       "    <tr style=\"text-align: right;\">\n",
       "      <th></th>\n",
       "      <th>race</th>\n",
       "      <th>gender</th>\n",
       "      <th>age</th>\n",
       "      <th>admission_type_id</th>\n",
       "      <th>discharge_disposition_id</th>\n",
       "      <th>admission_source_id</th>\n",
       "      <th>time_in_hospital</th>\n",
       "      <th>num_lab_procedures</th>\n",
       "      <th>num_procedures</th>\n",
       "      <th>num_medications</th>\n",
       "      <th>number_outpatient</th>\n",
       "      <th>number_emergency</th>\n",
       "      <th>number_inpatient</th>\n",
       "      <th>diag_1</th>\n",
       "      <th>diag_2</th>\n",
       "      <th>diag_3</th>\n",
       "      <th>number_diagnoses</th>\n",
       "      <th>max_glu_serum</th>\n",
       "      <th>A1Cresult</th>\n",
       "      <th>metformin</th>\n",
       "      <th>repaglinide</th>\n",
       "      <th>nateglinide</th>\n",
       "      <th>chlorpropamide</th>\n",
       "      <th>glimepiride</th>\n",
       "      <th>acetohexamide</th>\n",
       "      <th>glipizide</th>\n",
       "      <th>glyburide</th>\n",
       "      <th>tolbutamide</th>\n",
       "      <th>pioglitazone</th>\n",
       "      <th>rosiglitazone</th>\n",
       "      <th>acarbose</th>\n",
       "      <th>miglitol</th>\n",
       "      <th>troglitazone</th>\n",
       "      <th>tolazamide</th>\n",
       "      <th>examide</th>\n",
       "      <th>citoglipton</th>\n",
       "      <th>insulin</th>\n",
       "      <th>glyburide-metformin</th>\n",
       "      <th>glipizide-metformin</th>\n",
       "      <th>glimepiride-pioglitazone</th>\n",
       "      <th>metformin-rosiglitazone</th>\n",
       "      <th>metformin-pioglitazone</th>\n",
       "      <th>change</th>\n",
       "      <th>diabetesMed</th>\n",
       "      <th>readmitted</th>\n",
       "    </tr>\n",
       "  </thead>\n",
       "  <tbody>\n",
       "    <tr>\n",
       "      <th>0</th>\n",
       "      <td>Caucasian</td>\n",
       "      <td>Female</td>\n",
       "      <td>[0-10)</td>\n",
       "      <td>6</td>\n",
       "      <td>25</td>\n",
       "      <td>1</td>\n",
       "      <td>1</td>\n",
       "      <td>41</td>\n",
       "      <td>0</td>\n",
       "      <td>1</td>\n",
       "      <td>0</td>\n",
       "      <td>0</td>\n",
       "      <td>0</td>\n",
       "      <td>250.83</td>\n",
       "      <td>NaN</td>\n",
       "      <td>NaN</td>\n",
       "      <td>1</td>\n",
       "      <td>None</td>\n",
       "      <td>None</td>\n",
       "      <td>No</td>\n",
       "      <td>No</td>\n",
       "      <td>No</td>\n",
       "      <td>No</td>\n",
       "      <td>No</td>\n",
       "      <td>No</td>\n",
       "      <td>No</td>\n",
       "      <td>No</td>\n",
       "      <td>No</td>\n",
       "      <td>No</td>\n",
       "      <td>No</td>\n",
       "      <td>No</td>\n",
       "      <td>No</td>\n",
       "      <td>No</td>\n",
       "      <td>No</td>\n",
       "      <td>No</td>\n",
       "      <td>No</td>\n",
       "      <td>No</td>\n",
       "      <td>No</td>\n",
       "      <td>No</td>\n",
       "      <td>No</td>\n",
       "      <td>No</td>\n",
       "      <td>No</td>\n",
       "      <td>No</td>\n",
       "      <td>No</td>\n",
       "      <td>NO</td>\n",
       "    </tr>\n",
       "    <tr>\n",
       "      <th>1</th>\n",
       "      <td>Caucasian</td>\n",
       "      <td>Female</td>\n",
       "      <td>[10-20)</td>\n",
       "      <td>1</td>\n",
       "      <td>1</td>\n",
       "      <td>7</td>\n",
       "      <td>3</td>\n",
       "      <td>59</td>\n",
       "      <td>0</td>\n",
       "      <td>18</td>\n",
       "      <td>0</td>\n",
       "      <td>0</td>\n",
       "      <td>0</td>\n",
       "      <td>276</td>\n",
       "      <td>250.01</td>\n",
       "      <td>255</td>\n",
       "      <td>9</td>\n",
       "      <td>None</td>\n",
       "      <td>None</td>\n",
       "      <td>No</td>\n",
       "      <td>No</td>\n",
       "      <td>No</td>\n",
       "      <td>No</td>\n",
       "      <td>No</td>\n",
       "      <td>No</td>\n",
       "      <td>No</td>\n",
       "      <td>No</td>\n",
       "      <td>No</td>\n",
       "      <td>No</td>\n",
       "      <td>No</td>\n",
       "      <td>No</td>\n",
       "      <td>No</td>\n",
       "      <td>No</td>\n",
       "      <td>No</td>\n",
       "      <td>No</td>\n",
       "      <td>No</td>\n",
       "      <td>Up</td>\n",
       "      <td>No</td>\n",
       "      <td>No</td>\n",
       "      <td>No</td>\n",
       "      <td>No</td>\n",
       "      <td>No</td>\n",
       "      <td>Ch</td>\n",
       "      <td>Yes</td>\n",
       "      <td>&gt;30</td>\n",
       "    </tr>\n",
       "    <tr>\n",
       "      <th>2</th>\n",
       "      <td>AfricanAmerican</td>\n",
       "      <td>Female</td>\n",
       "      <td>[20-30)</td>\n",
       "      <td>1</td>\n",
       "      <td>1</td>\n",
       "      <td>7</td>\n",
       "      <td>2</td>\n",
       "      <td>11</td>\n",
       "      <td>5</td>\n",
       "      <td>13</td>\n",
       "      <td>2</td>\n",
       "      <td>0</td>\n",
       "      <td>1</td>\n",
       "      <td>648</td>\n",
       "      <td>250</td>\n",
       "      <td>V27</td>\n",
       "      <td>6</td>\n",
       "      <td>None</td>\n",
       "      <td>None</td>\n",
       "      <td>No</td>\n",
       "      <td>No</td>\n",
       "      <td>No</td>\n",
       "      <td>No</td>\n",
       "      <td>No</td>\n",
       "      <td>No</td>\n",
       "      <td>Steady</td>\n",
       "      <td>No</td>\n",
       "      <td>No</td>\n",
       "      <td>No</td>\n",
       "      <td>No</td>\n",
       "      <td>No</td>\n",
       "      <td>No</td>\n",
       "      <td>No</td>\n",
       "      <td>No</td>\n",
       "      <td>No</td>\n",
       "      <td>No</td>\n",
       "      <td>No</td>\n",
       "      <td>No</td>\n",
       "      <td>No</td>\n",
       "      <td>No</td>\n",
       "      <td>No</td>\n",
       "      <td>No</td>\n",
       "      <td>No</td>\n",
       "      <td>Yes</td>\n",
       "      <td>NO</td>\n",
       "    </tr>\n",
       "    <tr>\n",
       "      <th>3</th>\n",
       "      <td>Caucasian</td>\n",
       "      <td>Male</td>\n",
       "      <td>[30-40)</td>\n",
       "      <td>1</td>\n",
       "      <td>1</td>\n",
       "      <td>7</td>\n",
       "      <td>2</td>\n",
       "      <td>44</td>\n",
       "      <td>1</td>\n",
       "      <td>16</td>\n",
       "      <td>0</td>\n",
       "      <td>0</td>\n",
       "      <td>0</td>\n",
       "      <td>8</td>\n",
       "      <td>250.43</td>\n",
       "      <td>403</td>\n",
       "      <td>7</td>\n",
       "      <td>None</td>\n",
       "      <td>None</td>\n",
       "      <td>No</td>\n",
       "      <td>No</td>\n",
       "      <td>No</td>\n",
       "      <td>No</td>\n",
       "      <td>No</td>\n",
       "      <td>No</td>\n",
       "      <td>No</td>\n",
       "      <td>No</td>\n",
       "      <td>No</td>\n",
       "      <td>No</td>\n",
       "      <td>No</td>\n",
       "      <td>No</td>\n",
       "      <td>No</td>\n",
       "      <td>No</td>\n",
       "      <td>No</td>\n",
       "      <td>No</td>\n",
       "      <td>No</td>\n",
       "      <td>Up</td>\n",
       "      <td>No</td>\n",
       "      <td>No</td>\n",
       "      <td>No</td>\n",
       "      <td>No</td>\n",
       "      <td>No</td>\n",
       "      <td>Ch</td>\n",
       "      <td>Yes</td>\n",
       "      <td>NO</td>\n",
       "    </tr>\n",
       "    <tr>\n",
       "      <th>4</th>\n",
       "      <td>Caucasian</td>\n",
       "      <td>Male</td>\n",
       "      <td>[40-50)</td>\n",
       "      <td>1</td>\n",
       "      <td>1</td>\n",
       "      <td>7</td>\n",
       "      <td>1</td>\n",
       "      <td>51</td>\n",
       "      <td>0</td>\n",
       "      <td>8</td>\n",
       "      <td>0</td>\n",
       "      <td>0</td>\n",
       "      <td>0</td>\n",
       "      <td>197</td>\n",
       "      <td>157</td>\n",
       "      <td>250</td>\n",
       "      <td>5</td>\n",
       "      <td>None</td>\n",
       "      <td>None</td>\n",
       "      <td>No</td>\n",
       "      <td>No</td>\n",
       "      <td>No</td>\n",
       "      <td>No</td>\n",
       "      <td>No</td>\n",
       "      <td>No</td>\n",
       "      <td>Steady</td>\n",
       "      <td>No</td>\n",
       "      <td>No</td>\n",
       "      <td>No</td>\n",
       "      <td>No</td>\n",
       "      <td>No</td>\n",
       "      <td>No</td>\n",
       "      <td>No</td>\n",
       "      <td>No</td>\n",
       "      <td>No</td>\n",
       "      <td>No</td>\n",
       "      <td>Steady</td>\n",
       "      <td>No</td>\n",
       "      <td>No</td>\n",
       "      <td>No</td>\n",
       "      <td>No</td>\n",
       "      <td>No</td>\n",
       "      <td>Ch</td>\n",
       "      <td>Yes</td>\n",
       "      <td>NO</td>\n",
       "    </tr>\n",
       "    <tr>\n",
       "      <th>...</th>\n",
       "      <td>...</td>\n",
       "      <td>...</td>\n",
       "      <td>...</td>\n",
       "      <td>...</td>\n",
       "      <td>...</td>\n",
       "      <td>...</td>\n",
       "      <td>...</td>\n",
       "      <td>...</td>\n",
       "      <td>...</td>\n",
       "      <td>...</td>\n",
       "      <td>...</td>\n",
       "      <td>...</td>\n",
       "      <td>...</td>\n",
       "      <td>...</td>\n",
       "      <td>...</td>\n",
       "      <td>...</td>\n",
       "      <td>...</td>\n",
       "      <td>...</td>\n",
       "      <td>...</td>\n",
       "      <td>...</td>\n",
       "      <td>...</td>\n",
       "      <td>...</td>\n",
       "      <td>...</td>\n",
       "      <td>...</td>\n",
       "      <td>...</td>\n",
       "      <td>...</td>\n",
       "      <td>...</td>\n",
       "      <td>...</td>\n",
       "      <td>...</td>\n",
       "      <td>...</td>\n",
       "      <td>...</td>\n",
       "      <td>...</td>\n",
       "      <td>...</td>\n",
       "      <td>...</td>\n",
       "      <td>...</td>\n",
       "      <td>...</td>\n",
       "      <td>...</td>\n",
       "      <td>...</td>\n",
       "      <td>...</td>\n",
       "      <td>...</td>\n",
       "      <td>...</td>\n",
       "      <td>...</td>\n",
       "      <td>...</td>\n",
       "      <td>...</td>\n",
       "      <td>...</td>\n",
       "    </tr>\n",
       "    <tr>\n",
       "      <th>101754</th>\n",
       "      <td>Caucasian</td>\n",
       "      <td>Female</td>\n",
       "      <td>[70-80)</td>\n",
       "      <td>1</td>\n",
       "      <td>1</td>\n",
       "      <td>7</td>\n",
       "      <td>9</td>\n",
       "      <td>50</td>\n",
       "      <td>2</td>\n",
       "      <td>33</td>\n",
       "      <td>0</td>\n",
       "      <td>0</td>\n",
       "      <td>0</td>\n",
       "      <td>574</td>\n",
       "      <td>574</td>\n",
       "      <td>250.02</td>\n",
       "      <td>9</td>\n",
       "      <td>None</td>\n",
       "      <td>&gt;7</td>\n",
       "      <td>No</td>\n",
       "      <td>No</td>\n",
       "      <td>No</td>\n",
       "      <td>No</td>\n",
       "      <td>No</td>\n",
       "      <td>No</td>\n",
       "      <td>No</td>\n",
       "      <td>Up</td>\n",
       "      <td>No</td>\n",
       "      <td>No</td>\n",
       "      <td>No</td>\n",
       "      <td>No</td>\n",
       "      <td>No</td>\n",
       "      <td>No</td>\n",
       "      <td>No</td>\n",
       "      <td>No</td>\n",
       "      <td>No</td>\n",
       "      <td>Steady</td>\n",
       "      <td>No</td>\n",
       "      <td>No</td>\n",
       "      <td>No</td>\n",
       "      <td>No</td>\n",
       "      <td>No</td>\n",
       "      <td>Ch</td>\n",
       "      <td>Yes</td>\n",
       "      <td>&gt;30</td>\n",
       "    </tr>\n",
       "    <tr>\n",
       "      <th>101755</th>\n",
       "      <td>Other</td>\n",
       "      <td>Female</td>\n",
       "      <td>[40-50)</td>\n",
       "      <td>1</td>\n",
       "      <td>1</td>\n",
       "      <td>7</td>\n",
       "      <td>14</td>\n",
       "      <td>73</td>\n",
       "      <td>6</td>\n",
       "      <td>26</td>\n",
       "      <td>0</td>\n",
       "      <td>1</td>\n",
       "      <td>0</td>\n",
       "      <td>592</td>\n",
       "      <td>599</td>\n",
       "      <td>518</td>\n",
       "      <td>9</td>\n",
       "      <td>None</td>\n",
       "      <td>&gt;8</td>\n",
       "      <td>No</td>\n",
       "      <td>No</td>\n",
       "      <td>No</td>\n",
       "      <td>No</td>\n",
       "      <td>No</td>\n",
       "      <td>No</td>\n",
       "      <td>Steady</td>\n",
       "      <td>No</td>\n",
       "      <td>No</td>\n",
       "      <td>No</td>\n",
       "      <td>No</td>\n",
       "      <td>No</td>\n",
       "      <td>No</td>\n",
       "      <td>No</td>\n",
       "      <td>No</td>\n",
       "      <td>No</td>\n",
       "      <td>No</td>\n",
       "      <td>Up</td>\n",
       "      <td>No</td>\n",
       "      <td>No</td>\n",
       "      <td>No</td>\n",
       "      <td>No</td>\n",
       "      <td>No</td>\n",
       "      <td>Ch</td>\n",
       "      <td>Yes</td>\n",
       "      <td>&gt;30</td>\n",
       "    </tr>\n",
       "    <tr>\n",
       "      <th>101756</th>\n",
       "      <td>Other</td>\n",
       "      <td>Female</td>\n",
       "      <td>[60-70)</td>\n",
       "      <td>1</td>\n",
       "      <td>1</td>\n",
       "      <td>7</td>\n",
       "      <td>2</td>\n",
       "      <td>46</td>\n",
       "      <td>6</td>\n",
       "      <td>17</td>\n",
       "      <td>1</td>\n",
       "      <td>1</td>\n",
       "      <td>1</td>\n",
       "      <td>996</td>\n",
       "      <td>585</td>\n",
       "      <td>403</td>\n",
       "      <td>9</td>\n",
       "      <td>None</td>\n",
       "      <td>None</td>\n",
       "      <td>No</td>\n",
       "      <td>No</td>\n",
       "      <td>No</td>\n",
       "      <td>No</td>\n",
       "      <td>No</td>\n",
       "      <td>No</td>\n",
       "      <td>No</td>\n",
       "      <td>No</td>\n",
       "      <td>No</td>\n",
       "      <td>No</td>\n",
       "      <td>No</td>\n",
       "      <td>No</td>\n",
       "      <td>No</td>\n",
       "      <td>No</td>\n",
       "      <td>No</td>\n",
       "      <td>No</td>\n",
       "      <td>No</td>\n",
       "      <td>Steady</td>\n",
       "      <td>No</td>\n",
       "      <td>No</td>\n",
       "      <td>No</td>\n",
       "      <td>No</td>\n",
       "      <td>No</td>\n",
       "      <td>No</td>\n",
       "      <td>Yes</td>\n",
       "      <td>&gt;30</td>\n",
       "    </tr>\n",
       "    <tr>\n",
       "      <th>101758</th>\n",
       "      <td>Caucasian</td>\n",
       "      <td>Female</td>\n",
       "      <td>[80-90)</td>\n",
       "      <td>1</td>\n",
       "      <td>1</td>\n",
       "      <td>7</td>\n",
       "      <td>5</td>\n",
       "      <td>76</td>\n",
       "      <td>1</td>\n",
       "      <td>22</td>\n",
       "      <td>0</td>\n",
       "      <td>1</td>\n",
       "      <td>0</td>\n",
       "      <td>292</td>\n",
       "      <td>8</td>\n",
       "      <td>304</td>\n",
       "      <td>9</td>\n",
       "      <td>None</td>\n",
       "      <td>None</td>\n",
       "      <td>No</td>\n",
       "      <td>No</td>\n",
       "      <td>No</td>\n",
       "      <td>No</td>\n",
       "      <td>No</td>\n",
       "      <td>No</td>\n",
       "      <td>No</td>\n",
       "      <td>No</td>\n",
       "      <td>No</td>\n",
       "      <td>No</td>\n",
       "      <td>No</td>\n",
       "      <td>No</td>\n",
       "      <td>No</td>\n",
       "      <td>No</td>\n",
       "      <td>No</td>\n",
       "      <td>No</td>\n",
       "      <td>No</td>\n",
       "      <td>Up</td>\n",
       "      <td>No</td>\n",
       "      <td>No</td>\n",
       "      <td>No</td>\n",
       "      <td>No</td>\n",
       "      <td>No</td>\n",
       "      <td>Ch</td>\n",
       "      <td>Yes</td>\n",
       "      <td>NO</td>\n",
       "    </tr>\n",
       "    <tr>\n",
       "      <th>101765</th>\n",
       "      <td>Caucasian</td>\n",
       "      <td>Male</td>\n",
       "      <td>[70-80)</td>\n",
       "      <td>1</td>\n",
       "      <td>1</td>\n",
       "      <td>7</td>\n",
       "      <td>6</td>\n",
       "      <td>13</td>\n",
       "      <td>3</td>\n",
       "      <td>3</td>\n",
       "      <td>0</td>\n",
       "      <td>0</td>\n",
       "      <td>0</td>\n",
       "      <td>530</td>\n",
       "      <td>530</td>\n",
       "      <td>787</td>\n",
       "      <td>9</td>\n",
       "      <td>None</td>\n",
       "      <td>None</td>\n",
       "      <td>No</td>\n",
       "      <td>No</td>\n",
       "      <td>No</td>\n",
       "      <td>No</td>\n",
       "      <td>No</td>\n",
       "      <td>No</td>\n",
       "      <td>No</td>\n",
       "      <td>No</td>\n",
       "      <td>No</td>\n",
       "      <td>No</td>\n",
       "      <td>No</td>\n",
       "      <td>No</td>\n",
       "      <td>No</td>\n",
       "      <td>No</td>\n",
       "      <td>No</td>\n",
       "      <td>No</td>\n",
       "      <td>No</td>\n",
       "      <td>No</td>\n",
       "      <td>No</td>\n",
       "      <td>No</td>\n",
       "      <td>No</td>\n",
       "      <td>No</td>\n",
       "      <td>No</td>\n",
       "      <td>No</td>\n",
       "      <td>No</td>\n",
       "      <td>NO</td>\n",
       "    </tr>\n",
       "  </tbody>\n",
       "</table>\n",
       "<p>71515 rows × 45 columns</p>\n",
       "</div>"
      ],
      "text/plain": [
       "                   race  gender      age  admission_type_id  discharge_disposition_id  admission_source_id  time_in_hospital  num_lab_procedures  num_procedures  num_medications  number_outpatient  number_emergency  number_inpatient  diag_1  diag_2  diag_3  number_diagnoses max_glu_serum A1Cresult metformin repaglinide nateglinide chlorpropamide glimepiride acetohexamide glipizide glyburide tolbutamide pioglitazone rosiglitazone acarbose miglitol troglitazone tolazamide examide citoglipton insulin glyburide-metformin glipizide-metformin glimepiride-pioglitazone metformin-rosiglitazone metformin-pioglitazone change diabetesMed readmitted\n",
       "0             Caucasian  Female   [0-10)                  6                        25                    1                 1                  41               0                1                  0                 0                 0  250.83     NaN     NaN                 1          None      None        No          No          No             No          No            No        No        No          No           No            No       No       No           No         No      No          No      No                  No                  No                       No                      No                     No     No          No         NO\n",
       "1             Caucasian  Female  [10-20)                  1                         1                    7                 3                  59               0               18                  0                 0                 0     276  250.01     255                 9          None      None        No          No          No             No          No            No        No        No          No           No            No       No       No           No         No      No          No      Up                  No                  No                       No                      No                     No     Ch         Yes        >30\n",
       "2       AfricanAmerican  Female  [20-30)                  1                         1                    7                 2                  11               5               13                  2                 0                 1     648     250     V27                 6          None      None        No          No          No             No          No            No    Steady        No          No           No            No       No       No           No         No      No          No      No                  No                  No                       No                      No                     No     No         Yes         NO\n",
       "3             Caucasian    Male  [30-40)                  1                         1                    7                 2                  44               1               16                  0                 0                 0       8  250.43     403                 7          None      None        No          No          No             No          No            No        No        No          No           No            No       No       No           No         No      No          No      Up                  No                  No                       No                      No                     No     Ch         Yes         NO\n",
       "4             Caucasian    Male  [40-50)                  1                         1                    7                 1                  51               0                8                  0                 0                 0     197     157     250                 5          None      None        No          No          No             No          No            No    Steady        No          No           No            No       No       No           No         No      No          No  Steady                  No                  No                       No                      No                     No     Ch         Yes         NO\n",
       "...                 ...     ...      ...                ...                       ...                  ...               ...                 ...             ...              ...                ...               ...               ...     ...     ...     ...               ...           ...       ...       ...         ...         ...            ...         ...           ...       ...       ...         ...          ...           ...      ...      ...          ...        ...     ...         ...     ...                 ...                 ...                      ...                     ...                    ...    ...         ...        ...\n",
       "101754        Caucasian  Female  [70-80)                  1                         1                    7                 9                  50               2               33                  0                 0                 0     574     574  250.02                 9          None        >7        No          No          No             No          No            No        No        Up          No           No            No       No       No           No         No      No          No  Steady                  No                  No                       No                      No                     No     Ch         Yes        >30\n",
       "101755            Other  Female  [40-50)                  1                         1                    7                14                  73               6               26                  0                 1                 0     592     599     518                 9          None        >8        No          No          No             No          No            No    Steady        No          No           No            No       No       No           No         No      No          No      Up                  No                  No                       No                      No                     No     Ch         Yes        >30\n",
       "101756            Other  Female  [60-70)                  1                         1                    7                 2                  46               6               17                  1                 1                 1     996     585     403                 9          None      None        No          No          No             No          No            No        No        No          No           No            No       No       No           No         No      No          No  Steady                  No                  No                       No                      No                     No     No         Yes        >30\n",
       "101758        Caucasian  Female  [80-90)                  1                         1                    7                 5                  76               1               22                  0                 1                 0     292       8     304                 9          None      None        No          No          No             No          No            No        No        No          No           No            No       No       No           No         No      No          No      Up                  No                  No                       No                      No                     No     Ch         Yes         NO\n",
       "101765        Caucasian    Male  [70-80)                  1                         1                    7                 6                  13               3                3                  0                 0                 0     530     530     787                 9          None      None        No          No          No             No          No            No        No        No          No           No            No       No       No           No         No      No          No      No                  No                  No                       No                      No                     No     No          No         NO\n",
       "\n",
       "[71515 rows x 45 columns]"
      ]
     },
     "execution_count": 123,
     "metadata": {
      "tags": []
     },
     "output_type": "execute_result"
    }
   ],
   "source": [
    "data"
   ]
  },
  {
   "cell_type": "code",
   "execution_count": 124,
   "metadata": {
    "id": "a4n2ifWg_miv"
   },
   "outputs": [],
   "source": [
    "#since the percentage of data which is missing in race, diag_1, diag_2, diag_3 is less, we can drop the null values.\n",
    "data = data.dropna(axis = 0)"
   ]
  },
  {
   "cell_type": "code",
   "execution_count": 125,
   "metadata": {
    "colab": {
     "base_uri": "https://localhost:8080/",
     "height": 605
    },
    "id": "p7Merc4l_ow0",
    "outputId": "3238365a-886f-44d9-cf70-d0d9182e1922"
   },
   "outputs": [
    {
     "data": {
      "text/html": [
       "<div>\n",
       "<style scoped>\n",
       "    .dataframe tbody tr th:only-of-type {\n",
       "        vertical-align: middle;\n",
       "    }\n",
       "\n",
       "    .dataframe tbody tr th {\n",
       "        vertical-align: top;\n",
       "    }\n",
       "\n",
       "    .dataframe thead th {\n",
       "        text-align: right;\n",
       "    }\n",
       "</style>\n",
       "<table border=\"1\" class=\"dataframe\">\n",
       "  <thead>\n",
       "    <tr style=\"text-align: right;\">\n",
       "      <th></th>\n",
       "      <th>race</th>\n",
       "      <th>gender</th>\n",
       "      <th>age</th>\n",
       "      <th>admission_type_id</th>\n",
       "      <th>discharge_disposition_id</th>\n",
       "      <th>admission_source_id</th>\n",
       "      <th>time_in_hospital</th>\n",
       "      <th>num_lab_procedures</th>\n",
       "      <th>num_procedures</th>\n",
       "      <th>num_medications</th>\n",
       "      <th>number_outpatient</th>\n",
       "      <th>number_emergency</th>\n",
       "      <th>number_inpatient</th>\n",
       "      <th>diag_1</th>\n",
       "      <th>diag_2</th>\n",
       "      <th>diag_3</th>\n",
       "      <th>number_diagnoses</th>\n",
       "      <th>max_glu_serum</th>\n",
       "      <th>A1Cresult</th>\n",
       "      <th>metformin</th>\n",
       "      <th>repaglinide</th>\n",
       "      <th>nateglinide</th>\n",
       "      <th>chlorpropamide</th>\n",
       "      <th>glimepiride</th>\n",
       "      <th>acetohexamide</th>\n",
       "      <th>glipizide</th>\n",
       "      <th>glyburide</th>\n",
       "      <th>tolbutamide</th>\n",
       "      <th>pioglitazone</th>\n",
       "      <th>rosiglitazone</th>\n",
       "      <th>acarbose</th>\n",
       "      <th>miglitol</th>\n",
       "      <th>troglitazone</th>\n",
       "      <th>tolazamide</th>\n",
       "      <th>examide</th>\n",
       "      <th>citoglipton</th>\n",
       "      <th>insulin</th>\n",
       "      <th>glyburide-metformin</th>\n",
       "      <th>glipizide-metformin</th>\n",
       "      <th>glimepiride-pioglitazone</th>\n",
       "      <th>metformin-rosiglitazone</th>\n",
       "      <th>metformin-pioglitazone</th>\n",
       "      <th>change</th>\n",
       "      <th>diabetesMed</th>\n",
       "      <th>readmitted</th>\n",
       "    </tr>\n",
       "  </thead>\n",
       "  <tbody>\n",
       "    <tr>\n",
       "      <th>1</th>\n",
       "      <td>Caucasian</td>\n",
       "      <td>Female</td>\n",
       "      <td>[10-20)</td>\n",
       "      <td>1</td>\n",
       "      <td>1</td>\n",
       "      <td>7</td>\n",
       "      <td>3</td>\n",
       "      <td>59</td>\n",
       "      <td>0</td>\n",
       "      <td>18</td>\n",
       "      <td>0</td>\n",
       "      <td>0</td>\n",
       "      <td>0</td>\n",
       "      <td>276</td>\n",
       "      <td>250.01</td>\n",
       "      <td>255</td>\n",
       "      <td>9</td>\n",
       "      <td>None</td>\n",
       "      <td>None</td>\n",
       "      <td>No</td>\n",
       "      <td>No</td>\n",
       "      <td>No</td>\n",
       "      <td>No</td>\n",
       "      <td>No</td>\n",
       "      <td>No</td>\n",
       "      <td>No</td>\n",
       "      <td>No</td>\n",
       "      <td>No</td>\n",
       "      <td>No</td>\n",
       "      <td>No</td>\n",
       "      <td>No</td>\n",
       "      <td>No</td>\n",
       "      <td>No</td>\n",
       "      <td>No</td>\n",
       "      <td>No</td>\n",
       "      <td>No</td>\n",
       "      <td>Up</td>\n",
       "      <td>No</td>\n",
       "      <td>No</td>\n",
       "      <td>No</td>\n",
       "      <td>No</td>\n",
       "      <td>No</td>\n",
       "      <td>Ch</td>\n",
       "      <td>Yes</td>\n",
       "      <td>&gt;30</td>\n",
       "    </tr>\n",
       "    <tr>\n",
       "      <th>2</th>\n",
       "      <td>AfricanAmerican</td>\n",
       "      <td>Female</td>\n",
       "      <td>[20-30)</td>\n",
       "      <td>1</td>\n",
       "      <td>1</td>\n",
       "      <td>7</td>\n",
       "      <td>2</td>\n",
       "      <td>11</td>\n",
       "      <td>5</td>\n",
       "      <td>13</td>\n",
       "      <td>2</td>\n",
       "      <td>0</td>\n",
       "      <td>1</td>\n",
       "      <td>648</td>\n",
       "      <td>250</td>\n",
       "      <td>V27</td>\n",
       "      <td>6</td>\n",
       "      <td>None</td>\n",
       "      <td>None</td>\n",
       "      <td>No</td>\n",
       "      <td>No</td>\n",
       "      <td>No</td>\n",
       "      <td>No</td>\n",
       "      <td>No</td>\n",
       "      <td>No</td>\n",
       "      <td>Steady</td>\n",
       "      <td>No</td>\n",
       "      <td>No</td>\n",
       "      <td>No</td>\n",
       "      <td>No</td>\n",
       "      <td>No</td>\n",
       "      <td>No</td>\n",
       "      <td>No</td>\n",
       "      <td>No</td>\n",
       "      <td>No</td>\n",
       "      <td>No</td>\n",
       "      <td>No</td>\n",
       "      <td>No</td>\n",
       "      <td>No</td>\n",
       "      <td>No</td>\n",
       "      <td>No</td>\n",
       "      <td>No</td>\n",
       "      <td>No</td>\n",
       "      <td>Yes</td>\n",
       "      <td>NO</td>\n",
       "    </tr>\n",
       "    <tr>\n",
       "      <th>3</th>\n",
       "      <td>Caucasian</td>\n",
       "      <td>Male</td>\n",
       "      <td>[30-40)</td>\n",
       "      <td>1</td>\n",
       "      <td>1</td>\n",
       "      <td>7</td>\n",
       "      <td>2</td>\n",
       "      <td>44</td>\n",
       "      <td>1</td>\n",
       "      <td>16</td>\n",
       "      <td>0</td>\n",
       "      <td>0</td>\n",
       "      <td>0</td>\n",
       "      <td>8</td>\n",
       "      <td>250.43</td>\n",
       "      <td>403</td>\n",
       "      <td>7</td>\n",
       "      <td>None</td>\n",
       "      <td>None</td>\n",
       "      <td>No</td>\n",
       "      <td>No</td>\n",
       "      <td>No</td>\n",
       "      <td>No</td>\n",
       "      <td>No</td>\n",
       "      <td>No</td>\n",
       "      <td>No</td>\n",
       "      <td>No</td>\n",
       "      <td>No</td>\n",
       "      <td>No</td>\n",
       "      <td>No</td>\n",
       "      <td>No</td>\n",
       "      <td>No</td>\n",
       "      <td>No</td>\n",
       "      <td>No</td>\n",
       "      <td>No</td>\n",
       "      <td>No</td>\n",
       "      <td>Up</td>\n",
       "      <td>No</td>\n",
       "      <td>No</td>\n",
       "      <td>No</td>\n",
       "      <td>No</td>\n",
       "      <td>No</td>\n",
       "      <td>Ch</td>\n",
       "      <td>Yes</td>\n",
       "      <td>NO</td>\n",
       "    </tr>\n",
       "    <tr>\n",
       "      <th>4</th>\n",
       "      <td>Caucasian</td>\n",
       "      <td>Male</td>\n",
       "      <td>[40-50)</td>\n",
       "      <td>1</td>\n",
       "      <td>1</td>\n",
       "      <td>7</td>\n",
       "      <td>1</td>\n",
       "      <td>51</td>\n",
       "      <td>0</td>\n",
       "      <td>8</td>\n",
       "      <td>0</td>\n",
       "      <td>0</td>\n",
       "      <td>0</td>\n",
       "      <td>197</td>\n",
       "      <td>157</td>\n",
       "      <td>250</td>\n",
       "      <td>5</td>\n",
       "      <td>None</td>\n",
       "      <td>None</td>\n",
       "      <td>No</td>\n",
       "      <td>No</td>\n",
       "      <td>No</td>\n",
       "      <td>No</td>\n",
       "      <td>No</td>\n",
       "      <td>No</td>\n",
       "      <td>Steady</td>\n",
       "      <td>No</td>\n",
       "      <td>No</td>\n",
       "      <td>No</td>\n",
       "      <td>No</td>\n",
       "      <td>No</td>\n",
       "      <td>No</td>\n",
       "      <td>No</td>\n",
       "      <td>No</td>\n",
       "      <td>No</td>\n",
       "      <td>No</td>\n",
       "      <td>Steady</td>\n",
       "      <td>No</td>\n",
       "      <td>No</td>\n",
       "      <td>No</td>\n",
       "      <td>No</td>\n",
       "      <td>No</td>\n",
       "      <td>Ch</td>\n",
       "      <td>Yes</td>\n",
       "      <td>NO</td>\n",
       "    </tr>\n",
       "    <tr>\n",
       "      <th>5</th>\n",
       "      <td>Caucasian</td>\n",
       "      <td>Male</td>\n",
       "      <td>[50-60)</td>\n",
       "      <td>2</td>\n",
       "      <td>1</td>\n",
       "      <td>2</td>\n",
       "      <td>3</td>\n",
       "      <td>31</td>\n",
       "      <td>6</td>\n",
       "      <td>16</td>\n",
       "      <td>0</td>\n",
       "      <td>0</td>\n",
       "      <td>0</td>\n",
       "      <td>414</td>\n",
       "      <td>411</td>\n",
       "      <td>250</td>\n",
       "      <td>9</td>\n",
       "      <td>None</td>\n",
       "      <td>None</td>\n",
       "      <td>No</td>\n",
       "      <td>No</td>\n",
       "      <td>No</td>\n",
       "      <td>No</td>\n",
       "      <td>No</td>\n",
       "      <td>No</td>\n",
       "      <td>No</td>\n",
       "      <td>No</td>\n",
       "      <td>No</td>\n",
       "      <td>No</td>\n",
       "      <td>No</td>\n",
       "      <td>No</td>\n",
       "      <td>No</td>\n",
       "      <td>No</td>\n",
       "      <td>No</td>\n",
       "      <td>No</td>\n",
       "      <td>No</td>\n",
       "      <td>Steady</td>\n",
       "      <td>No</td>\n",
       "      <td>No</td>\n",
       "      <td>No</td>\n",
       "      <td>No</td>\n",
       "      <td>No</td>\n",
       "      <td>No</td>\n",
       "      <td>Yes</td>\n",
       "      <td>&gt;30</td>\n",
       "    </tr>\n",
       "    <tr>\n",
       "      <th>...</th>\n",
       "      <td>...</td>\n",
       "      <td>...</td>\n",
       "      <td>...</td>\n",
       "      <td>...</td>\n",
       "      <td>...</td>\n",
       "      <td>...</td>\n",
       "      <td>...</td>\n",
       "      <td>...</td>\n",
       "      <td>...</td>\n",
       "      <td>...</td>\n",
       "      <td>...</td>\n",
       "      <td>...</td>\n",
       "      <td>...</td>\n",
       "      <td>...</td>\n",
       "      <td>...</td>\n",
       "      <td>...</td>\n",
       "      <td>...</td>\n",
       "      <td>...</td>\n",
       "      <td>...</td>\n",
       "      <td>...</td>\n",
       "      <td>...</td>\n",
       "      <td>...</td>\n",
       "      <td>...</td>\n",
       "      <td>...</td>\n",
       "      <td>...</td>\n",
       "      <td>...</td>\n",
       "      <td>...</td>\n",
       "      <td>...</td>\n",
       "      <td>...</td>\n",
       "      <td>...</td>\n",
       "      <td>...</td>\n",
       "      <td>...</td>\n",
       "      <td>...</td>\n",
       "      <td>...</td>\n",
       "      <td>...</td>\n",
       "      <td>...</td>\n",
       "      <td>...</td>\n",
       "      <td>...</td>\n",
       "      <td>...</td>\n",
       "      <td>...</td>\n",
       "      <td>...</td>\n",
       "      <td>...</td>\n",
       "      <td>...</td>\n",
       "      <td>...</td>\n",
       "      <td>...</td>\n",
       "    </tr>\n",
       "    <tr>\n",
       "      <th>101754</th>\n",
       "      <td>Caucasian</td>\n",
       "      <td>Female</td>\n",
       "      <td>[70-80)</td>\n",
       "      <td>1</td>\n",
       "      <td>1</td>\n",
       "      <td>7</td>\n",
       "      <td>9</td>\n",
       "      <td>50</td>\n",
       "      <td>2</td>\n",
       "      <td>33</td>\n",
       "      <td>0</td>\n",
       "      <td>0</td>\n",
       "      <td>0</td>\n",
       "      <td>574</td>\n",
       "      <td>574</td>\n",
       "      <td>250.02</td>\n",
       "      <td>9</td>\n",
       "      <td>None</td>\n",
       "      <td>&gt;7</td>\n",
       "      <td>No</td>\n",
       "      <td>No</td>\n",
       "      <td>No</td>\n",
       "      <td>No</td>\n",
       "      <td>No</td>\n",
       "      <td>No</td>\n",
       "      <td>No</td>\n",
       "      <td>Up</td>\n",
       "      <td>No</td>\n",
       "      <td>No</td>\n",
       "      <td>No</td>\n",
       "      <td>No</td>\n",
       "      <td>No</td>\n",
       "      <td>No</td>\n",
       "      <td>No</td>\n",
       "      <td>No</td>\n",
       "      <td>No</td>\n",
       "      <td>Steady</td>\n",
       "      <td>No</td>\n",
       "      <td>No</td>\n",
       "      <td>No</td>\n",
       "      <td>No</td>\n",
       "      <td>No</td>\n",
       "      <td>Ch</td>\n",
       "      <td>Yes</td>\n",
       "      <td>&gt;30</td>\n",
       "    </tr>\n",
       "    <tr>\n",
       "      <th>101755</th>\n",
       "      <td>Other</td>\n",
       "      <td>Female</td>\n",
       "      <td>[40-50)</td>\n",
       "      <td>1</td>\n",
       "      <td>1</td>\n",
       "      <td>7</td>\n",
       "      <td>14</td>\n",
       "      <td>73</td>\n",
       "      <td>6</td>\n",
       "      <td>26</td>\n",
       "      <td>0</td>\n",
       "      <td>1</td>\n",
       "      <td>0</td>\n",
       "      <td>592</td>\n",
       "      <td>599</td>\n",
       "      <td>518</td>\n",
       "      <td>9</td>\n",
       "      <td>None</td>\n",
       "      <td>&gt;8</td>\n",
       "      <td>No</td>\n",
       "      <td>No</td>\n",
       "      <td>No</td>\n",
       "      <td>No</td>\n",
       "      <td>No</td>\n",
       "      <td>No</td>\n",
       "      <td>Steady</td>\n",
       "      <td>No</td>\n",
       "      <td>No</td>\n",
       "      <td>No</td>\n",
       "      <td>No</td>\n",
       "      <td>No</td>\n",
       "      <td>No</td>\n",
       "      <td>No</td>\n",
       "      <td>No</td>\n",
       "      <td>No</td>\n",
       "      <td>No</td>\n",
       "      <td>Up</td>\n",
       "      <td>No</td>\n",
       "      <td>No</td>\n",
       "      <td>No</td>\n",
       "      <td>No</td>\n",
       "      <td>No</td>\n",
       "      <td>Ch</td>\n",
       "      <td>Yes</td>\n",
       "      <td>&gt;30</td>\n",
       "    </tr>\n",
       "    <tr>\n",
       "      <th>101756</th>\n",
       "      <td>Other</td>\n",
       "      <td>Female</td>\n",
       "      <td>[60-70)</td>\n",
       "      <td>1</td>\n",
       "      <td>1</td>\n",
       "      <td>7</td>\n",
       "      <td>2</td>\n",
       "      <td>46</td>\n",
       "      <td>6</td>\n",
       "      <td>17</td>\n",
       "      <td>1</td>\n",
       "      <td>1</td>\n",
       "      <td>1</td>\n",
       "      <td>996</td>\n",
       "      <td>585</td>\n",
       "      <td>403</td>\n",
       "      <td>9</td>\n",
       "      <td>None</td>\n",
       "      <td>None</td>\n",
       "      <td>No</td>\n",
       "      <td>No</td>\n",
       "      <td>No</td>\n",
       "      <td>No</td>\n",
       "      <td>No</td>\n",
       "      <td>No</td>\n",
       "      <td>No</td>\n",
       "      <td>No</td>\n",
       "      <td>No</td>\n",
       "      <td>No</td>\n",
       "      <td>No</td>\n",
       "      <td>No</td>\n",
       "      <td>No</td>\n",
       "      <td>No</td>\n",
       "      <td>No</td>\n",
       "      <td>No</td>\n",
       "      <td>No</td>\n",
       "      <td>Steady</td>\n",
       "      <td>No</td>\n",
       "      <td>No</td>\n",
       "      <td>No</td>\n",
       "      <td>No</td>\n",
       "      <td>No</td>\n",
       "      <td>No</td>\n",
       "      <td>Yes</td>\n",
       "      <td>&gt;30</td>\n",
       "    </tr>\n",
       "    <tr>\n",
       "      <th>101758</th>\n",
       "      <td>Caucasian</td>\n",
       "      <td>Female</td>\n",
       "      <td>[80-90)</td>\n",
       "      <td>1</td>\n",
       "      <td>1</td>\n",
       "      <td>7</td>\n",
       "      <td>5</td>\n",
       "      <td>76</td>\n",
       "      <td>1</td>\n",
       "      <td>22</td>\n",
       "      <td>0</td>\n",
       "      <td>1</td>\n",
       "      <td>0</td>\n",
       "      <td>292</td>\n",
       "      <td>8</td>\n",
       "      <td>304</td>\n",
       "      <td>9</td>\n",
       "      <td>None</td>\n",
       "      <td>None</td>\n",
       "      <td>No</td>\n",
       "      <td>No</td>\n",
       "      <td>No</td>\n",
       "      <td>No</td>\n",
       "      <td>No</td>\n",
       "      <td>No</td>\n",
       "      <td>No</td>\n",
       "      <td>No</td>\n",
       "      <td>No</td>\n",
       "      <td>No</td>\n",
       "      <td>No</td>\n",
       "      <td>No</td>\n",
       "      <td>No</td>\n",
       "      <td>No</td>\n",
       "      <td>No</td>\n",
       "      <td>No</td>\n",
       "      <td>No</td>\n",
       "      <td>Up</td>\n",
       "      <td>No</td>\n",
       "      <td>No</td>\n",
       "      <td>No</td>\n",
       "      <td>No</td>\n",
       "      <td>No</td>\n",
       "      <td>Ch</td>\n",
       "      <td>Yes</td>\n",
       "      <td>NO</td>\n",
       "    </tr>\n",
       "    <tr>\n",
       "      <th>101765</th>\n",
       "      <td>Caucasian</td>\n",
       "      <td>Male</td>\n",
       "      <td>[70-80)</td>\n",
       "      <td>1</td>\n",
       "      <td>1</td>\n",
       "      <td>7</td>\n",
       "      <td>6</td>\n",
       "      <td>13</td>\n",
       "      <td>3</td>\n",
       "      <td>3</td>\n",
       "      <td>0</td>\n",
       "      <td>0</td>\n",
       "      <td>0</td>\n",
       "      <td>530</td>\n",
       "      <td>530</td>\n",
       "      <td>787</td>\n",
       "      <td>9</td>\n",
       "      <td>None</td>\n",
       "      <td>None</td>\n",
       "      <td>No</td>\n",
       "      <td>No</td>\n",
       "      <td>No</td>\n",
       "      <td>No</td>\n",
       "      <td>No</td>\n",
       "      <td>No</td>\n",
       "      <td>No</td>\n",
       "      <td>No</td>\n",
       "      <td>No</td>\n",
       "      <td>No</td>\n",
       "      <td>No</td>\n",
       "      <td>No</td>\n",
       "      <td>No</td>\n",
       "      <td>No</td>\n",
       "      <td>No</td>\n",
       "      <td>No</td>\n",
       "      <td>No</td>\n",
       "      <td>No</td>\n",
       "      <td>No</td>\n",
       "      <td>No</td>\n",
       "      <td>No</td>\n",
       "      <td>No</td>\n",
       "      <td>No</td>\n",
       "      <td>No</td>\n",
       "      <td>No</td>\n",
       "      <td>NO</td>\n",
       "    </tr>\n",
       "  </tbody>\n",
       "</table>\n",
       "<p>68357 rows × 45 columns</p>\n",
       "</div>"
      ],
      "text/plain": [
       "                   race  gender      age  admission_type_id  discharge_disposition_id  admission_source_id  time_in_hospital  num_lab_procedures  num_procedures  num_medications  number_outpatient  number_emergency  number_inpatient diag_1  diag_2  diag_3  number_diagnoses max_glu_serum A1Cresult metformin repaglinide nateglinide chlorpropamide glimepiride acetohexamide glipizide glyburide tolbutamide pioglitazone rosiglitazone acarbose miglitol troglitazone tolazamide examide citoglipton insulin glyburide-metformin glipizide-metformin glimepiride-pioglitazone metformin-rosiglitazone metformin-pioglitazone change diabetesMed readmitted\n",
       "1             Caucasian  Female  [10-20)                  1                         1                    7                 3                  59               0               18                  0                 0                 0    276  250.01     255                 9          None      None        No          No          No             No          No            No        No        No          No           No            No       No       No           No         No      No          No      Up                  No                  No                       No                      No                     No     Ch         Yes        >30\n",
       "2       AfricanAmerican  Female  [20-30)                  1                         1                    7                 2                  11               5               13                  2                 0                 1    648     250     V27                 6          None      None        No          No          No             No          No            No    Steady        No          No           No            No       No       No           No         No      No          No      No                  No                  No                       No                      No                     No     No         Yes         NO\n",
       "3             Caucasian    Male  [30-40)                  1                         1                    7                 2                  44               1               16                  0                 0                 0      8  250.43     403                 7          None      None        No          No          No             No          No            No        No        No          No           No            No       No       No           No         No      No          No      Up                  No                  No                       No                      No                     No     Ch         Yes         NO\n",
       "4             Caucasian    Male  [40-50)                  1                         1                    7                 1                  51               0                8                  0                 0                 0    197     157     250                 5          None      None        No          No          No             No          No            No    Steady        No          No           No            No       No       No           No         No      No          No  Steady                  No                  No                       No                      No                     No     Ch         Yes         NO\n",
       "5             Caucasian    Male  [50-60)                  2                         1                    2                 3                  31               6               16                  0                 0                 0    414     411     250                 9          None      None        No          No          No             No          No            No        No        No          No           No            No       No       No           No         No      No          No  Steady                  No                  No                       No                      No                     No     No         Yes        >30\n",
       "...                 ...     ...      ...                ...                       ...                  ...               ...                 ...             ...              ...                ...               ...               ...    ...     ...     ...               ...           ...       ...       ...         ...         ...            ...         ...           ...       ...       ...         ...          ...           ...      ...      ...          ...        ...     ...         ...     ...                 ...                 ...                      ...                     ...                    ...    ...         ...        ...\n",
       "101754        Caucasian  Female  [70-80)                  1                         1                    7                 9                  50               2               33                  0                 0                 0    574     574  250.02                 9          None        >7        No          No          No             No          No            No        No        Up          No           No            No       No       No           No         No      No          No  Steady                  No                  No                       No                      No                     No     Ch         Yes        >30\n",
       "101755            Other  Female  [40-50)                  1                         1                    7                14                  73               6               26                  0                 1                 0    592     599     518                 9          None        >8        No          No          No             No          No            No    Steady        No          No           No            No       No       No           No         No      No          No      Up                  No                  No                       No                      No                     No     Ch         Yes        >30\n",
       "101756            Other  Female  [60-70)                  1                         1                    7                 2                  46               6               17                  1                 1                 1    996     585     403                 9          None      None        No          No          No             No          No            No        No        No          No           No            No       No       No           No         No      No          No  Steady                  No                  No                       No                      No                     No     No         Yes        >30\n",
       "101758        Caucasian  Female  [80-90)                  1                         1                    7                 5                  76               1               22                  0                 1                 0    292       8     304                 9          None      None        No          No          No             No          No            No        No        No          No           No            No       No       No           No         No      No          No      Up                  No                  No                       No                      No                     No     Ch         Yes         NO\n",
       "101765        Caucasian    Male  [70-80)                  1                         1                    7                 6                  13               3                3                  0                 0                 0    530     530     787                 9          None      None        No          No          No             No          No            No        No        No          No           No            No       No       No           No         No      No          No      No                  No                  No                       No                      No                     No     No          No         NO\n",
       "\n",
       "[68357 rows x 45 columns]"
      ]
     },
     "execution_count": 125,
     "metadata": {
      "tags": []
     },
     "output_type": "execute_result"
    }
   ],
   "source": [
    "data"
   ]
  },
  {
   "cell_type": "markdown",
   "metadata": {
    "id": "APuCG54K_qFU"
   },
   "source": [
    " ### Analyzing the numerical features using box plot"
   ]
  },
  {
   "cell_type": "markdown",
   "metadata": {
    "id": "T3lBGGmN7o31"
   },
   "source": [
    "#### Analysing the \"time_in_hospital feature"
   ]
  },
  {
   "cell_type": "code",
   "execution_count": 137,
   "metadata": {
    "colab": {
     "base_uri": "https://localhost:8080/",
     "height": 252
    },
    "id": "LKalyW1c_wI_",
    "outputId": "706d6c9b-a76c-4dc5-fc55-1171295cce98"
   },
   "outputs": [
    {
     "data": {
      "image/png": "[encoded data removed]",
      "text/plain": [
       "<Figure size 432x288 with 1 Axes>"
      ]
     },
     "metadata": {
      "needs_background": "light",
      "tags": []
     },
     "output_type": "display_data"
    }
   ],
   "source": [
    "#box plot\n",
    "sns.boxplot(y=\"time_in_hospital\", data =data)\n",
    "plt.show()"
   ]
  },
  {
   "cell_type": "code",
   "execution_count": 138,
   "metadata": {
    "colab": {
     "base_uri": "https://localhost:8080/"
    },
    "id": "b2L94cPR_wZu",
    "outputId": "b036ba1e-f91c-476b-8ded-b6f5c436c3bf"
   },
   "outputs": [
    {
     "name": "stdout",
     "output_type": "stream",
     "text": [
      "0 percentile value is 1.0\n",
      "10 percentile value is 1.0\n",
      "20 percentile value is 2.0\n",
      "30 percentile value is 2.0\n",
      "40 percentile value is 3.0\n",
      "50 percentile value is 4.0\n",
      "60 percentile value is 4.0\n",
      "70 percentile value is 5.0\n",
      "80 percentile value is 7.0\n",
      "90 percentile value is 9.0\n",
      "100 percentile value is 14.0\n"
     ]
    }
   ],
   "source": [
    "#Since we can see a few points outside the plot, percentile has been used to check the values present\n",
    "for i in range(0,110,10):\n",
    "    var =data[\"time_in_hospital\"].values\n",
    "    var = np.sort(var,axis = None)\n",
    "    print(\"{} percentile value is {}\".format(i,np.percentile(var, i)))"
   ]
  },
  {
   "cell_type": "markdown",
   "metadata": {
    "id": "2pA3I_8R-ETp"
   },
   "source": [
    "#### Since it is possible for the a patient to stay in the hospital for 0-14 days, it can be said that there are not outlier points present."
   ]
  },
  {
   "cell_type": "markdown",
   "metadata": {
    "id": "R_Kopsog9vcM"
   },
   "source": [
    "#### Analysing the \"num_lab_procedures\" feature"
   ]
  },
  {
   "cell_type": "code",
   "execution_count": 139,
   "metadata": {
    "colab": {
     "base_uri": "https://localhost:8080/",
     "height": 252
    },
    "id": "XYQiTp4Z_x52",
    "outputId": "7e87e112-9cf2-4fdf-ed3d-5eefbfa006f3"
   },
   "outputs": [
    {
     "data": {
      "image/png": "[encoded data removed]",
      "text/plain": [
       "<Figure size 432x288 with 1 Axes>"
      ]
     },
     "metadata": {
      "needs_background": "light",
      "tags": []
     },
     "output_type": "display_data"
    }
   ],
   "source": [
    "sns.boxplot(y=\"num_lab_procedures\", data =data)\n",
    "plt.show()"
   ]
  },
  {
   "cell_type": "code",
   "execution_count": 140,
   "metadata": {
    "colab": {
     "base_uri": "https://localhost:8080/"
    },
    "id": "cCj5K-e1_1TZ",
    "outputId": "e7a53f6a-c107-4605-89b3-31337f8f8298"
   },
   "outputs": [
    {
     "name": "stdout",
     "output_type": "stream",
     "text": [
      "0 percentile value is 1.0\n",
      "10 percentile value is 13.0\n",
      "20 percentile value is 27.0\n",
      "30 percentile value is 35.0\n",
      "40 percentile value is 40.0\n",
      "50 percentile value is 44.0\n",
      "60 percentile value is 49.0\n",
      "70 percentile value is 54.0\n",
      "80 percentile value is 60.0\n",
      "90 percentile value is 68.0\n",
      "100 percentile value is 132.0\n"
     ]
    }
   ],
   "source": [
    "#Since we can see a few points outside the plot, percentile has been used to check the values present\n",
    "for i in range(0,110,10):\n",
    "    var =data[\"num_lab_procedures\"].values\n",
    "    var = np.sort(var,axis = None)\n",
    "    print(\"{} percentile value is {}\".format(i,np.percentile(var, i)))"
   ]
  },
  {
   "cell_type": "code",
   "execution_count": 141,
   "metadata": {
    "colab": {
     "base_uri": "https://localhost:8080/"
    },
    "id": "iXhsINsw_2pN",
    "outputId": "e1b063ed-56d5-42ef-c087-f19d996715aa"
   },
   "outputs": [
    {
     "name": "stdout",
     "output_type": "stream",
     "text": [
      "90 percentile value is 68.0\n",
      "91 percentile value is 69.0\n",
      "92 percentile value is 70.0\n",
      "93 percentile value is 71.0\n",
      "94 percentile value is 72.0\n",
      "95 percentile value is 74.0\n",
      "96 percentile value is 76.0\n",
      "97 percentile value is 78.0\n",
      "98 percentile value is 81.0\n",
      "99 percentile value is 85.0\n",
      "100 percentile value is 132.0\n"
     ]
    }
   ],
   "source": [
    "# Since there is a large difference between the 90th percentile and the 100th percentile, we will look at the percentile range from 90-100\n",
    "for i in range(90,101):\n",
    "    var =data[\"num_lab_procedures\"].values\n",
    "    var = np.sort(var,axis = None)\n",
    "    print(\"{} percentile value is {}\".format(i,np.percentile(var, i)))"
   ]
  },
  {
   "cell_type": "code",
   "execution_count": 142,
   "metadata": {
    "colab": {
     "base_uri": "https://localhost:8080/"
    },
    "id": "0W_JtWiQ_34m",
    "outputId": "bb1a1c5b-5036-4f2f-a3fc-bd2b448c232c"
   },
   "outputs": [
    {
     "name": "stdout",
     "output_type": "stream",
     "text": [
      "99.0 percentile value is 85.0\n",
      "99.1 percentile value is 86.0\n",
      "99.2 percentile value is 87.0\n",
      "99.3 percentile value is 88.0\n",
      "99.4 percentile value is 89.0\n",
      "99.5 percentile value is 90.0\n",
      "99.6 percentile value is 92.0\n",
      "99.7 percentile value is 94.0\n",
      "99.8 percentile value is 95.0\n",
      "99.9 percentile value is 98.64399999995658\n",
      "100.0 percentile value is 131.9999999995198\n"
     ]
    }
   ],
   "source": [
    "# Since there is a large difference between the 99th percentile and the 100th percentile, we will look at the percentile range from 99-100\n",
    "for i in np.arange(99, 100.1, 0.1):\n",
    "    var =data[\"num_lab_procedures\"].values\n",
    "    var = np.sort(var,axis = None)\n",
    "    print(\"{} percentile value is {}\".format(np.round(i,2),np.percentile(var, i)))"
   ]
  },
  {
   "cell_type": "markdown",
   "metadata": {
    "id": "2sfJyOaL-8o8"
   },
   "source": [
    "#### It may or may not be possible for the patient for undergo 132 lab results in the span of 14 days, hence, these points might be outliers."
   ]
  },
  {
   "cell_type": "markdown",
   "metadata": {
    "id": "-TT4Wuq9NvN5"
   },
   "source": [
    "#### Analysing the \"num_medications\" feature"
   ]
  },
  {
   "cell_type": "code",
   "execution_count": 143,
   "metadata": {
    "colab": {
     "base_uri": "https://localhost:8080/",
     "height": 252
    },
    "id": "-iwD8pDJ_5ad",
    "outputId": "5b06dfcc-814c-4b1b-f761-0e9be3c02ab5"
   },
   "outputs": [
    {
     "data": {
      "image/png": "[encoded data removed]",
      "text/plain": [
       "<Figure size 432x288 with 1 Axes>"
      ]
     },
     "metadata": {
      "needs_background": "light",
      "tags": []
     },
     "output_type": "display_data"
    }
   ],
   "source": [
    "sns.boxplot(y=\"num_procedures\", data =data)\n",
    "plt.show()"
   ]
  },
  {
   "cell_type": "code",
   "execution_count": 144,
   "metadata": {
    "colab": {
     "base_uri": "https://localhost:8080/"
    },
    "id": "99-Ub6C43iUC",
    "outputId": "ff0cb716-302e-4fb9-fd0a-cff70dfaab4d"
   },
   "outputs": [
    {
     "name": "stdout",
     "output_type": "stream",
     "text": [
      "0 percentile value is 0.0\n",
      "10 percentile value is 0.0\n",
      "20 percentile value is 0.0\n",
      "30 percentile value is 0.0\n",
      "40 percentile value is 0.0\n",
      "50 percentile value is 1.0\n",
      "60 percentile value is 1.0\n",
      "70 percentile value is 2.0\n",
      "80 percentile value is 3.0\n",
      "90 percentile value is 4.0\n",
      "100 percentile value is 6.0\n"
     ]
    }
   ],
   "source": [
    "#Since we can see a few points outside the plot, percentile has been used to check the values present\n",
    "for i in range(0,110,10):\n",
    "    var =data[\"num_procedures\"].values\n",
    "    var = np.sort(var,axis = None)\n",
    "    print(\"{} percentile value is {}\".format(i,np.percentile(var, i)))"
   ]
  },
  {
   "cell_type": "code",
   "execution_count": 145,
   "metadata": {
    "colab": {
     "base_uri": "https://localhost:8080/"
    },
    "id": "BevI42mv_6_L",
    "outputId": "799d1d17-7f6d-43c8-e646-b8a12423cc3d"
   },
   "outputs": [
    {
     "name": "stdout",
     "output_type": "stream",
     "text": [
      "90 percentile value is 4.0\n",
      "91 percentile value is 5.0\n",
      "92 percentile value is 5.0\n",
      "93 percentile value is 5.0\n",
      "94 percentile value is 5.0\n",
      "95 percentile value is 6.0\n",
      "96 percentile value is 6.0\n",
      "97 percentile value is 6.0\n",
      "98 percentile value is 6.0\n",
      "99 percentile value is 6.0\n",
      "100 percentile value is 6.0\n"
     ]
    }
   ],
   "source": [
    "for i in range(90,101):\n",
    "    var =data[\"num_procedures\"].values\n",
    "    var = np.sort(var,axis = None)\n",
    "    print(\"{} percentile value is {}\".format(i,np.percentile(var, i)))"
   ]
  },
  {
   "cell_type": "markdown",
   "metadata": {
    "id": "3o4ivPxO_gis"
   },
   "source": [
    " #### As we can see from the above percentile values, we can conclude that there are no outliers since it is possible for a patient to undergo upto 6 procedures."
   ]
  },
  {
   "cell_type": "markdown",
   "metadata": {
    "id": "D5wrRKSWACui"
   },
   "source": [
    "#### Analysing the \"num_medications\" feature"
   ]
  },
  {
   "cell_type": "code",
   "execution_count": 146,
   "metadata": {
    "colab": {
     "base_uri": "https://localhost:8080/",
     "height": 252
    },
    "id": "ij_osECk_8R-",
    "outputId": "43bcb513-ea70-4616-fe61-fcebca2891e8"
   },
   "outputs": [
    {
     "data": {
      "image/png": "[encoded data removed]",
      "text/plain": [
       "<Figure size 432x288 with 1 Axes>"
      ]
     },
     "metadata": {
      "needs_background": "light",
      "tags": []
     },
     "output_type": "display_data"
    }
   ],
   "source": [
    "sns.boxplot(y=\"num_medications\", data =data)\n",
    "plt.show()"
   ]
  },
  {
   "cell_type": "code",
   "execution_count": 147,
   "metadata": {
    "colab": {
     "base_uri": "https://localhost:8080/"
    },
    "id": "iSUJjqdo_9sw",
    "outputId": "0d43fa52-73ab-45fd-a167-1b0984180801"
   },
   "outputs": [
    {
     "name": "stdout",
     "output_type": "stream",
     "text": [
      "0 percentile value is 1.0\n",
      "10 percentile value is 7.0\n",
      "20 percentile value is 9.0\n",
      "30 percentile value is 11.0\n",
      "40 percentile value is 13.0\n",
      "50 percentile value is 14.0\n",
      "60 percentile value is 16.0\n",
      "70 percentile value is 18.0\n",
      "80 percentile value is 21.0\n",
      "90 percentile value is 26.0\n",
      "100 percentile value is 81.0\n"
     ]
    }
   ],
   "source": [
    "#Since we can see a few points outside the plot, percentile has been used to check the values present\n",
    "for i in range(0,110,10):\n",
    "    var =data[\"num_medications\"].values\n",
    "    var = np.sort(var,axis = None)\n",
    "    print(\"{} percentile value is {}\".format(i,np.percentile(var, i)))"
   ]
  },
  {
   "cell_type": "code",
   "execution_count": 148,
   "metadata": {
    "colab": {
     "base_uri": "https://localhost:8080/"
    },
    "id": "Z4zfXAew3wcE",
    "outputId": "d82d34e8-62d1-4816-8f4f-b14e3e55f235"
   },
   "outputs": [
    {
     "name": "stdout",
     "output_type": "stream",
     "text": [
      "90 percentile value is 26.0\n",
      "91 percentile value is 27.0\n",
      "92 percentile value is 28.0\n",
      "93 percentile value is 28.0\n",
      "94 percentile value is 30.0\n",
      "95 percentile value is 31.0\n",
      "96 percentile value is 33.0\n",
      "97 percentile value is 35.0\n",
      "98 percentile value is 38.0\n",
      "99 percentile value is 44.0\n",
      "100 percentile value is 81.0\n"
     ]
    }
   ],
   "source": [
    "# Since there is a large difference between the 90th percentile and the 100th percentile, we will look at the percentile range from 90-100\n",
    "for i in range(90,101):\n",
    "    var =data[\"num_medications\"].values\n",
    "    var = np.sort(var,axis = None)\n",
    "    print(\"{} percentile value is {}\".format(i,np.percentile(var, i)))"
   ]
  },
  {
   "cell_type": "markdown",
   "metadata": {
    "id": "BYaMsnO7A51z"
   },
   "source": [
    "### As we can see from the above percentile values, the highest number of medication is 81, and these points might not be outlier points since it is possible for a patient to be prescribed with such a number of medication."
   ]
  },
  {
   "cell_type": "markdown",
   "metadata": {
    "id": "EErx3hm4ByT5"
   },
   "source": [
    "#### Analysing the \"number_outpatient\" feature"
   ]
  },
  {
   "cell_type": "code",
   "execution_count": 34,
   "metadata": {
    "colab": {
     "base_uri": "https://localhost:8080/",
     "height": 252
    },
    "id": "0Um62dn5_--N",
    "outputId": "72f93f44-140b-46ee-f53d-ff3b55cd9480"
   },
   "outputs": [
    {
     "data": {
      "image/png": "[encoded data removed]",
      "text/plain": [
       "<Figure size 432x288 with 1 Axes>"
      ]
     },
     "metadata": {
      "needs_background": "light",
      "tags": []
     },
     "output_type": "display_data"
    }
   ],
   "source": [
    "sns.boxplot(y=\"number_outpatient\", data =data)\n",
    "plt.show()"
   ]
  },
  {
   "cell_type": "code",
   "execution_count": 35,
   "metadata": {
    "colab": {
     "base_uri": "https://localhost:8080/"
    },
    "id": "vAs9dDvZAAax",
    "outputId": "b26ac77b-7094-4968-b933-cc9f54cc8514"
   },
   "outputs": [
    {
     "name": "stdout",
     "output_type": "stream",
     "text": [
      "0 percentile value is 0.0\n",
      "10 percentile value is 0.0\n",
      "20 percentile value is 0.0\n",
      "30 percentile value is 0.0\n",
      "40 percentile value is 0.0\n",
      "50 percentile value is 0.0\n",
      "60 percentile value is 0.0\n",
      "70 percentile value is 0.0\n",
      "80 percentile value is 0.0\n",
      "90 percentile value is 1.0\n",
      "100 percentile value is 42.0\n"
     ]
    }
   ],
   "source": [
    "#Since we can see a few points outside the plot, percentile has been used to check the values present\n",
    "for i in range(0,110,10):\n",
    "    var =data[\"number_outpatient\"].values\n",
    "    var = np.sort(var,axis = None)\n",
    "    print(\"{} percentile value is {}\".format(i,np.percentile(var, i)))"
   ]
  },
  {
   "cell_type": "code",
   "execution_count": 36,
   "metadata": {
    "colab": {
     "base_uri": "https://localhost:8080/"
    },
    "id": "pKtDGvuj37KX",
    "outputId": "24c9bece-bb73-4ea0-f7fe-3c407f8cecd7"
   },
   "outputs": [
    {
     "name": "stdout",
     "output_type": "stream",
     "text": [
      "90 percentile value is 1.0\n",
      "91 percentile value is 1.0\n",
      "92 percentile value is 1.0\n",
      "93 percentile value is 1.0\n",
      "94 percentile value is 2.0\n",
      "95 percentile value is 2.0\n",
      "96 percentile value is 2.0\n",
      "97 percentile value is 3.0\n",
      "98 percentile value is 3.0\n",
      "99 percentile value is 5.0\n",
      "100 percentile value is 42.0\n"
     ]
    }
   ],
   "source": [
    "# Since there is a large difference between the 90th percentile and the 100th percentile, we will look at the percentile range from 90-100\n",
    "for i in range(90,101):\n",
    "    var =data[\"number_outpatient\"].values\n",
    "    var = np.sort(var,axis = None)\n",
    "    print(\"{} percentile value is {}\".format(i,np.percentile(var, i)))"
   ]
  },
  {
   "cell_type": "code",
   "execution_count": 37,
   "metadata": {
    "colab": {
     "base_uri": "https://localhost:8080/"
    },
    "id": "Pivmatlw4CU3",
    "outputId": "f31d354d-a5aa-4360-8fee-f6752400b74c"
   },
   "outputs": [
    {
     "name": "stdout",
     "output_type": "stream",
     "text": [
      "99.0 percentile value is 5.0\n",
      "99.1 percentile value is 5.0\n",
      "99.2 percentile value is 5.0\n",
      "99.3 percentile value is 5.0\n",
      "99.4 percentile value is 6.0\n",
      "99.5 percentile value is 6.0\n",
      "99.6 percentile value is 7.0\n",
      "99.7 percentile value is 8.0\n",
      "99.8 percentile value is 9.0\n",
      "99.9 percentile value is 13.0\n",
      "100.0 percentile value is 42.0\n"
     ]
    }
   ],
   "source": [
    "# Since there is a large difference between the 99th percentile and the 100th percentile, we will look at the percentile range from 99-100\n",
    "for i in np.arange(99, 100.1, 0.1):\n",
    "    var =data[\"number_outpatient\"].values\n",
    "    var = np.sort(var,axis = None)\n",
    "    print(\"{} percentile value is {}\".format(np.round(i,2),np.round(np.percentile(var, i))))"
   ]
  },
  {
   "cell_type": "markdown",
   "metadata": {
    "id": "q2wak-pmCRZ_"
   },
   "source": [
    "### Since it is possible for a patient to visit the hospital 0-42 times a year, we can say that there are no outliers."
   ]
  },
  {
   "cell_type": "markdown",
   "metadata": {
    "id": "2wworqJfChrI"
   },
   "source": [
    "#### Analysing the \"number_emergency\" feature"
   ]
  },
  {
   "cell_type": "code",
   "execution_count": 39,
   "metadata": {
    "colab": {
     "base_uri": "https://localhost:8080/",
     "height": 252
    },
    "id": "kFRG3BrfAD9d",
    "outputId": "4a47d796-d8e3-449a-e8af-3f45ab605a0c"
   },
   "outputs": [
    {
     "data": {
      "image/png": "[encoded data removed]",
      "text/plain": [
       "<Figure size 432x288 with 1 Axes>"
      ]
     },
     "metadata": {
      "needs_background": "light",
      "tags": []
     },
     "output_type": "display_data"
    }
   ],
   "source": [
    "sns.boxplot(y=\"number_emergency\", data =data)\n",
    "plt.show()"
   ]
  },
  {
   "cell_type": "code",
   "execution_count": 40,
   "metadata": {
    "colab": {
     "base_uri": "https://localhost:8080/"
    },
    "id": "-_SUm1KNAGBF",
    "outputId": "82fd6525-80c9-4095-9dfe-fec9d65e4a68"
   },
   "outputs": [
    {
     "name": "stdout",
     "output_type": "stream",
     "text": [
      "0 percentile value is 0.0\n",
      "10 percentile value is 0.0\n",
      "20 percentile value is 0.0\n",
      "30 percentile value is 0.0\n",
      "40 percentile value is 0.0\n",
      "50 percentile value is 0.0\n",
      "60 percentile value is 0.0\n",
      "70 percentile value is 0.0\n",
      "80 percentile value is 0.0\n",
      "90 percentile value is 0.0\n",
      "100 percentile value is 42.0\n"
     ]
    }
   ],
   "source": [
    "#Since we can see a few points outside the plot, percentile has been used to check the values present\n",
    "for i in range(0,110,10):\n",
    "    var =data[\"number_emergency\"].values\n",
    "    var = np.sort(var,axis = None)\n",
    "    print(\"{} percentile value is {}\".format(i,np.percentile(var, i)))"
   ]
  },
  {
   "cell_type": "code",
   "execution_count": 41,
   "metadata": {
    "colab": {
     "base_uri": "https://localhost:8080/"
    },
    "id": "Jys4NByIAHvO",
    "outputId": "d1e79992-8bc7-43b9-e0a2-aea4aa2dd6d9"
   },
   "outputs": [
    {
     "name": "stdout",
     "output_type": "stream",
     "text": [
      "90 percentile value is 0.0\n",
      "91 percentile value is 0.0\n",
      "92 percentile value is 0.0\n",
      "93 percentile value is 1.0\n",
      "94 percentile value is 1.0\n",
      "95 percentile value is 1.0\n",
      "96 percentile value is 1.0\n",
      "97 percentile value is 1.0\n",
      "98 percentile value is 1.0\n",
      "99 percentile value is 2.0\n",
      "100 percentile value is 42.0\n"
     ]
    }
   ],
   "source": [
    "# Since there is a large difference between the 90th percentile and the 100th percentile, we will look at the percentile range from 90-100\n",
    "for i in range(90,101):\n",
    "    var =data[\"number_emergency\"].values\n",
    "    var = np.sort(var,axis = None)\n",
    "    print(\"{} percentile value is {}\".format(i,np.percentile(var, i)))"
   ]
  },
  {
   "cell_type": "code",
   "execution_count": 42,
   "metadata": {
    "colab": {
     "base_uri": "https://localhost:8080/"
    },
    "id": "TmNN6KD0AJqD",
    "outputId": "8b61e0ff-ca7a-4469-afc5-4b9d333cf573"
   },
   "outputs": [
    {
     "name": "stdout",
     "output_type": "stream",
     "text": [
      "99.0 percentile value is 2.0\n",
      "99.1 percentile value is 2.0\n",
      "99.2 percentile value is 2.0\n",
      "99.3 percentile value is 2.0\n",
      "99.4 percentile value is 3.0\n",
      "99.5 percentile value is 3.0\n",
      "99.6 percentile value is 3.0\n",
      "99.7 percentile value is 3.0\n",
      "99.8 percentile value is 4.0\n",
      "99.9 percentile value is 5.0\n",
      "100.0 percentile value is 42.0\n"
     ]
    }
   ],
   "source": [
    "# Since there is a large difference between the 99th percentile and the 100th percentile, we will look at the percentile range from 99-100\n",
    "for i in np.arange(99, 100.1, 0.1):\n",
    "    var =data[\"number_emergency\"].values\n",
    "    var = np.sort(var,axis = None)\n",
    "    print(\"{} percentile value is {}\".format(np.round(i,2),np.round(np.percentile(var, i))))"
   ]
  },
  {
   "cell_type": "markdown",
   "metadata": {
    "id": "H1ShGf69CyPe"
   },
   "source": [
    "### As we can see from above, there is a huge difference between the 99.9th percentile and 100th percentile and also, it might not be possible for a patient to have about 45 visits in one year period, hence we can say that there might be a presence of outliers"
   ]
  },
  {
   "cell_type": "markdown",
   "metadata": {
    "id": "Bj2FhxZ6FdY_"
   },
   "source": [
    "#### Analysing the \"number_inpatient\" feature"
   ]
  },
  {
   "cell_type": "code",
   "execution_count": 43,
   "metadata": {
    "colab": {
     "base_uri": "https://localhost:8080/",
     "height": 252
    },
    "id": "k23FJGKtALDZ",
    "outputId": "f7514f22-dc93-45b8-8ed6-bc2bfcd4bc53"
   },
   "outputs": [
    {
     "data": {
      "image/png": "[encoded data removed]",
      "text/plain": [
       "<Figure size 432x288 with 1 Axes>"
      ]
     },
     "metadata": {
      "needs_background": "light",
      "tags": []
     },
     "output_type": "display_data"
    }
   ],
   "source": [
    "sns.boxplot(y=\"number_inpatient\", data =data)\n",
    "plt.show()"
   ]
  },
  {
   "cell_type": "code",
   "execution_count": 44,
   "metadata": {
    "colab": {
     "base_uri": "https://localhost:8080/"
    },
    "id": "dYwkHTRAAMWi",
    "outputId": "bb86cc23-c727-468d-f45a-781995979828"
   },
   "outputs": [
    {
     "name": "stdout",
     "output_type": "stream",
     "text": [
      "0 percentile value is 0.0\n",
      "10 percentile value is 0.0\n",
      "20 percentile value is 0.0\n",
      "30 percentile value is 0.0\n",
      "40 percentile value is 0.0\n",
      "50 percentile value is 0.0\n",
      "60 percentile value is 0.0\n",
      "70 percentile value is 0.0\n",
      "80 percentile value is 0.0\n",
      "90 percentile value is 1.0\n",
      "100 percentile value is 12.0\n"
     ]
    }
   ],
   "source": [
    "#Since we can see a few points outside the plot, percentile has been used to check the values present\n",
    "for i in range(0,110,10):\n",
    "    var =data[\"number_inpatient\"].values\n",
    "    var = np.sort(var,axis = None)\n",
    "    print(\"{} percentile value is {}\".format(i,np.percentile(var, i)))"
   ]
  },
  {
   "cell_type": "code",
   "execution_count": 45,
   "metadata": {
    "colab": {
     "base_uri": "https://localhost:8080/"
    },
    "id": "cOcvQ_qmAN56",
    "outputId": "3b72dd52-afd1-433a-b776-fa9211ec19d3"
   },
   "outputs": [
    {
     "name": "stdout",
     "output_type": "stream",
     "text": [
      "90 percentile value is 1.0\n",
      "91 percentile value is 1.0\n",
      "92 percentile value is 1.0\n",
      "93 percentile value is 1.0\n",
      "94 percentile value is 1.0\n",
      "95 percentile value is 1.0\n",
      "96 percentile value is 1.0\n",
      "97 percentile value is 2.0\n",
      "98 percentile value is 2.0\n",
      "99 percentile value is 3.0\n",
      "100 percentile value is 12.0\n"
     ]
    }
   ],
   "source": [
    "# Since there is a large difference between the 90th percentile and the 100th percentile, we will look at the percentile range from 90-100\n",
    "for i in range(90,101):\n",
    "    var =data[\"number_inpatient\"].values\n",
    "    var = np.sort(var,axis = None)\n",
    "    print(\"{} percentile value is {}\".format(i,np.percentile(var, i)))"
   ]
  },
  {
   "cell_type": "code",
   "execution_count": 46,
   "metadata": {
    "colab": {
     "base_uri": "https://localhost:8080/"
    },
    "id": "Z5XXT19qAPia",
    "outputId": "b7141162-57c6-4389-d9bf-c02c7ce472cd"
   },
   "outputs": [
    {
     "name": "stdout",
     "output_type": "stream",
     "text": [
      "99.0 percentile value is 3.0\n",
      "99.1 percentile value is 3.0\n",
      "99.2 percentile value is 3.0\n",
      "99.3 percentile value is 3.0\n",
      "99.4 percentile value is 4.0\n",
      "99.5 percentile value is 4.0\n",
      "99.6 percentile value is 4.0\n",
      "99.7 percentile value is 4.0\n",
      "99.8 percentile value is 5.0\n",
      "99.9 percentile value is 6.0\n",
      "100.0 percentile value is 12.0\n"
     ]
    }
   ],
   "source": [
    "# Since there is a large difference between the 99th percentile and the 100th percentile, we will look at the percentile range from 99-100\n",
    "for i in np.arange(99, 100.1, 0.1):\n",
    "    var =data[\"number_inpatient\"].values\n",
    "    var = np.sort(var,axis = None)\n",
    "    print(\"{} percentile value is {}\".format(np.round(i,2),np.round(np.percentile(var, i))))"
   ]
  },
  {
   "cell_type": "markdown",
   "metadata": {
    "id": "HMXnFACTFsnj"
   },
   "source": [
    "### Since it is possible for a patient to visit the hospital as an inpatient upto 12 times, we can conclude that there are no outliers"
   ]
  },
  {
   "cell_type": "markdown",
   "metadata": {
    "id": "QkZqGB6YGAOg"
   },
   "source": [
    "#### Analysing the \"number_diagnoses\" feature"
   ]
  },
  {
   "cell_type": "code",
   "execution_count": 47,
   "metadata": {
    "colab": {
     "base_uri": "https://localhost:8080/",
     "height": 252
    },
    "id": "npeSvB-JARCE",
    "outputId": "f81407ae-271f-4db5-e20f-fb82ac85c6ea"
   },
   "outputs": [
    {
     "data": {
      "image/png": "[encoded data removed]",
      "text/plain": [
       "<Figure size 432x288 with 1 Axes>"
      ]
     },
     "metadata": {
      "needs_background": "light",
      "tags": []
     },
     "output_type": "display_data"
    }
   ],
   "source": [
    "sns.boxplot(y=\"number_diagnoses\", data =data)\n",
    "plt.show()"
   ]
  },
  {
   "cell_type": "code",
   "execution_count": 48,
   "metadata": {
    "colab": {
     "base_uri": "https://localhost:8080/"
    },
    "id": "kxezoMO-ASXB",
    "outputId": "9d310047-6285-4aa7-d856-4cda3082b8f0"
   },
   "outputs": [
    {
     "name": "stdout",
     "output_type": "stream",
     "text": [
      "0 percentile value is 3.0\n",
      "10 percentile value is 5.0\n",
      "20 percentile value is 5.0\n",
      "30 percentile value is 6.0\n",
      "40 percentile value is 7.0\n",
      "50 percentile value is 8.0\n",
      "60 percentile value is 9.0\n",
      "70 percentile value is 9.0\n",
      "80 percentile value is 9.0\n",
      "90 percentile value is 9.0\n",
      "100 percentile value is 16.0\n"
     ]
    }
   ],
   "source": [
    "#Since we can see a few points outside the plot, percentile has been used to check the values present\n",
    "for i in range(0,110,10):\n",
    "    var =data[\"number_diagnoses\"].values\n",
    "    var = np.sort(var,axis = None)\n",
    "    print(\"{} percentile value is {}\".format(i,np.percentile(var, i)))"
   ]
  },
  {
   "cell_type": "code",
   "execution_count": 49,
   "metadata": {
    "colab": {
     "base_uri": "https://localhost:8080/"
    },
    "id": "pElT1ZBsAToW",
    "outputId": "79422510-e835-454a-cec9-45218e4758dd"
   },
   "outputs": [
    {
     "name": "stdout",
     "output_type": "stream",
     "text": [
      "90 percentile value is 9.0\n",
      "91 percentile value is 9.0\n",
      "92 percentile value is 9.0\n",
      "93 percentile value is 9.0\n",
      "94 percentile value is 9.0\n",
      "95 percentile value is 9.0\n",
      "96 percentile value is 9.0\n",
      "97 percentile value is 9.0\n",
      "98 percentile value is 9.0\n",
      "99 percentile value is 9.0\n",
      "100 percentile value is 16.0\n"
     ]
    }
   ],
   "source": [
    "# Since there is a large difference between the 99th percentile and the 100th percentile, we will look at the percentile range from 99-100\n",
    "for i in range(90,101):\n",
    "    var =data[\"number_diagnoses\"].values\n",
    "    var = np.sort(var,axis = None)\n",
    "    print(\"{} percentile value is {}\".format(i,np.percentile(var, i)))"
   ]
  },
  {
   "cell_type": "markdown",
   "metadata": {
    "id": "p84fMymEGOor"
   },
   "source": [
    "### As we can see from above that there is no huge difference between the 99th percentile and 100th percentile, we can say that there are no outliers"
   ]
  },
  {
   "cell_type": "markdown",
   "metadata": {
    "id": "Und69usPGtky"
   },
   "source": [
    "### From the above data cleaning process, we can say that there are not many outliers present in the data."
   ]
  },
  {
   "cell_type": "code",
   "execution_count": 51,
   "metadata": {
    "id": "AcAFh3TNAWex"
   },
   "outputs": [],
   "source": [
    "#removing the outliers\n",
    "data=data[(data.number_emergency>=0) & (data.number_emergency < 10)]\n",
    "\n",
    "data=data[(data.num_lab_procedures>=0) & (data.num_lab_procedures < 100)]"
   ]
  },
  {
   "cell_type": "markdown",
   "metadata": {
    "id": "DtpNjqnJG6nq"
   },
   "source": [
    "## Data Preprocessing"
   ]
  },
  {
   "cell_type": "code",
   "execution_count": 52,
   "metadata": {
    "id": "TZq541J1AZSw"
   },
   "outputs": [],
   "source": [
    "#label encoding for the feature \"age\"\n",
    "label_enc = {\"age\": {\"[0-10)\": 0, \"[10-20)\": 1, \"[20-30)\": 2, \"[30-40)\": 3,\"[40-50)\": 4, \n",
    "                                  \"[50-60)\": 5, \"[60-70)\": 6, \"[70-80)\":7, \"[80-90)\": 8, \"[90-100)\":9 }, \"change\" : {\"Ch\" : 1, \"No\": 0}, \"diabetesMed\": {\"Yes\": 1, \"No\": 0},\"readmitted\": {\">30\":0,\"NO\":0,\"<30\":1}  }\n",
    "\n",
    "data.replace(label_enc, inplace=True)\n",
    "\n",
    "#label encoding for the feature \"gender\"\n",
    "label_gender = {\"gender\": {\"Female\": 0, \"Male\": 1}}\n",
    "data.replace(label_gender, inplace = True)\n"
   ]
  },
  {
   "cell_type": "code",
   "execution_count": 53,
   "metadata": {
    "id": "QwHHqCT0AdFE"
   },
   "outputs": [],
   "source": [
    "#one hot encoding for the features : race, A1Cresult, max_glu_serum\n",
    "data = pd.get_dummies(data, columns = ['race', 'A1Cresult', 'max_glu_serum'])"
   ]
  },
  {
   "cell_type": "code",
   "execution_count": 54,
   "metadata": {
    "id": "65ue9SGtAfhF"
   },
   "outputs": [],
   "source": [
    "#label encoding for the following medicines\n",
    "meds = ['metformin',\n",
    "       'repaglinide', 'nateglinide', 'chlorpropamide', 'glimepiride',\n",
    "       'acetohexamide', 'glipizide', 'glyburide', 'tolbutamide',\n",
    "       'pioglitazone', 'rosiglitazone', 'acarbose', 'miglitol', 'troglitazone',\n",
    "       'tolazamide', 'examide', 'citoglipton', 'insulin',\n",
    "       'glyburide-metformin', 'glipizide-metformin',\n",
    "       'glimepiride-pioglitazone', 'metformin-rosiglitazone',\n",
    "       'metformin-pioglitazone']\n",
    "\n",
    "\n",
    "\n",
    "for i in meds:\n",
    "    data[i] = data[i].replace(['No', 'Steady','Up', 'Down'], [0,2,3,1])\n",
    "    #data[i] = data[i]\n",
    "    "
   ]
  },
  {
   "cell_type": "code",
   "execution_count": 55,
   "metadata": {
    "colab": {
     "base_uri": "https://localhost:8080/"
    },
    "id": "SRD5AZIeFEM_",
    "outputId": "a5191c6f-9db9-4ed3-f074-0d797d5bc620"
   },
   "outputs": [
    {
     "name": "stdout",
     "output_type": "stream",
     "text": [
      "<class 'pandas.core.frame.DataFrame'>\n",
      "Int64Index: 68283 entries, 1 to 101765\n",
      "Data columns (total 55 columns):\n",
      " #   Column                    Non-Null Count  Dtype \n",
      "---  ------                    --------------  ----- \n",
      " 0   gender                    68283 non-null  int64 \n",
      " 1   age                       68283 non-null  int64 \n",
      " 2   admission_type_id         68283 non-null  int64 \n",
      " 3   discharge_disposition_id  68283 non-null  int64 \n",
      " 4   admission_source_id       68283 non-null  int64 \n",
      " 5   time_in_hospital          68283 non-null  int64 \n",
      " 6   num_lab_procedures        68283 non-null  int64 \n",
      " 7   num_procedures            68283 non-null  int64 \n",
      " 8   num_medications           68283 non-null  int64 \n",
      " 9   number_outpatient         68283 non-null  int64 \n",
      " 10  number_emergency          68283 non-null  int64 \n",
      " 11  number_inpatient          68283 non-null  int64 \n",
      " 12  diag_1                    68283 non-null  object\n",
      " 13  diag_2                    68283 non-null  object\n",
      " 14  diag_3                    68283 non-null  object\n",
      " 15  number_diagnoses          68283 non-null  int64 \n",
      " 16  metformin                 68283 non-null  int64 \n",
      " 17  repaglinide               68283 non-null  int64 \n",
      " 18  nateglinide               68283 non-null  int64 \n",
      " 19  chlorpropamide            68283 non-null  int64 \n",
      " 20  glimepiride               68283 non-null  int64 \n",
      " 21  acetohexamide             68283 non-null  int64 \n",
      " 22  glipizide                 68283 non-null  int64 \n",
      " 23  glyburide                 68283 non-null  int64 \n",
      " 24  tolbutamide               68283 non-null  int64 \n",
      " 25  pioglitazone              68283 non-null  int64 \n",
      " 26  rosiglitazone             68283 non-null  int64 \n",
      " 27  acarbose                  68283 non-null  int64 \n",
      " 28  miglitol                  68283 non-null  int64 \n",
      " 29  troglitazone              68283 non-null  int64 \n",
      " 30  tolazamide                68283 non-null  int64 \n",
      " 31  examide                   68283 non-null  int64 \n",
      " 32  citoglipton               68283 non-null  int64 \n",
      " 33  insulin                   68283 non-null  int64 \n",
      " 34  glyburide-metformin       68283 non-null  int64 \n",
      " 35  glipizide-metformin       68283 non-null  int64 \n",
      " 36  glimepiride-pioglitazone  68283 non-null  int64 \n",
      " 37  metformin-rosiglitazone   68283 non-null  int64 \n",
      " 38  metformin-pioglitazone    68283 non-null  int64 \n",
      " 39  change                    68283 non-null  int64 \n",
      " 40  diabetesMed               68283 non-null  int64 \n",
      " 41  readmitted                68283 non-null  int64 \n",
      " 42  race_AfricanAmerican      68283 non-null  uint8 \n",
      " 43  race_Asian                68283 non-null  uint8 \n",
      " 44  race_Caucasian            68283 non-null  uint8 \n",
      " 45  race_Hispanic             68283 non-null  uint8 \n",
      " 46  race_Other                68283 non-null  uint8 \n",
      " 47  A1Cresult_>7              68283 non-null  uint8 \n",
      " 48  A1Cresult_>8              68283 non-null  uint8 \n",
      " 49  A1Cresult_None            68283 non-null  uint8 \n",
      " 50  A1Cresult_Norm            68283 non-null  uint8 \n",
      " 51  max_glu_serum_>200        68283 non-null  uint8 \n",
      " 52  max_glu_serum_>300        68283 non-null  uint8 \n",
      " 53  max_glu_serum_None        68283 non-null  uint8 \n",
      " 54  max_glu_serum_Norm        68283 non-null  uint8 \n",
      "dtypes: int64(39), object(3), uint8(13)\n",
      "memory usage: 23.2+ MB\n"
     ]
    }
   ],
   "source": [
    "data.info()"
   ]
  },
  {
   "cell_type": "code",
   "execution_count": 56,
   "metadata": {
    "id": "HBg_8faVHL3A"
   },
   "outputs": [],
   "source": [
    "#removing the null/not assigned/death/hospice values from the nomial features : admission_type_id, discharge_disposition_id, admission_source_id\n",
    "\n",
    "data = data[(data.admission_type_id != 5) & (data.admission_type_id != 6) & (data.admission_type_id != 8)]\n",
    "data = data[(data.discharge_disposition_id != 11) & (data.discharge_disposition_id != 13) & (data.discharge_disposition_id != 14) & (data.discharge_disposition_id != 18) & (data.discharge_disposition_id != 19) & (data.discharge_disposition_id != 20) & (data.discharge_disposition_id != 21) & (data.discharge_disposition_id != 25) & (data.discharge_disposition_id != 26)]\n",
    "data = data[(data.admission_source_id != 9) & (data.admission_source_id != 15) & (data.admission_source_id != 17) & (data.admission_source_id != 20) & (data.admission_source_id != 21) & (data.admission_source_id != 26) & (data.discharge_disposition_id != 21)]"
   ]
  },
  {
   "cell_type": "code",
   "execution_count": 57,
   "metadata": {
    "id": "B-3if3kCMBAV"
   },
   "outputs": [],
   "source": [
    "#replacing all the values with the correspoding ID\n",
    "label = {'admission_type_id' :{1: \"emergency\", 2 : 'urgent', 3: 'elective', 4 : 'newborn', 7: 'trauma'}} \n",
    "data.replace(label, inplace=True)\n",
    "\n",
    "\n",
    "label_discharge = {'discharge_disposition_id' :{ 1 : 'Discharged to home', 2 : 'Discharged/transferred', 3 : 'Discharged/transferred', 4: 'Discharged/transferred', 5 : 'Discharged/transferred', 6: 'Discharged/transferred', 8 : 'Discharged/transferred', 10: 'Discharged/transferred', 15: 'Discharged/transferred' ,16: 'Discharged/transferred', 17: 'Discharged/transferred' , 22: 'Discharged/transferred', 23: 'Discharged/transferred', 24:'Discharged/transferred' , 30:'Discharged/transferred' , 27:'Discharged/transferred', 28:'Discharged/transferred', 29: 'Discharged/transferred', 7 :'LeftAMA' , 9 : 'Admitted as inpatient', 12: 'Admitted as inpatient' }} \n",
    "data.replace(label_discharge, inplace=True)\n",
    "\n",
    "\n",
    "\n",
    "\n",
    "label_admission_source = {'admission_source_id': {1:'referral' ,2: 'referral',3: 'referral' , 4: 'transfer', 5: 'transfer', 6: 'transfer', 7:'emergency', 8:'court/law enforcement',10: 'transfer', 11:'birth/delivery', 12: 'birth/delivery', 13: 'birth/delivery', 14: 'birth/delivery',18: 'transfer', 19:'readmission', 22: 'transfer', 23:'birth/delivery', 24: 'birth/delivery', 25:'transfer' }}\n",
    "data.replace(label_admission_source, inplace=True)\n"
   ]
  },
  {
   "cell_type": "code",
   "execution_count": 58,
   "metadata": {
    "id": "mswhHE9CN2A7"
   },
   "outputs": [],
   "source": [
    "#one hot encoding of the features : discharge_disposition_id, admission_source_id, admission_type_id\n",
    "data = pd.get_dummies(data, columns = ['discharge_disposition_id', 'admission_source_id', 'admission_type_id'])"
   ]
  },
  {
   "cell_type": "code",
   "execution_count": 59,
   "metadata": {
    "colab": {
     "base_uri": "https://localhost:8080/"
    },
    "id": "MOlEhy_YylSS",
    "outputId": "aca91fb8-9580-4af9-b1ef-3c56591f202e"
   },
   "outputs": [
    {
     "name": "stdout",
     "output_type": "stream",
     "text": [
      "<class 'pandas.core.frame.DataFrame'>\n",
      "Int64Index: 56042 entries, 1 to 101765\n",
      "Data columns (total 66 columns):\n",
      " #   Column                                           Non-Null Count  Dtype \n",
      "---  ------                                           --------------  ----- \n",
      " 0   gender                                           56042 non-null  int64 \n",
      " 1   age                                              56042 non-null  int64 \n",
      " 2   time_in_hospital                                 56042 non-null  int64 \n",
      " 3   num_lab_procedures                               56042 non-null  int64 \n",
      " 4   num_procedures                                   56042 non-null  int64 \n",
      " 5   num_medications                                  56042 non-null  int64 \n",
      " 6   number_outpatient                                56042 non-null  int64 \n",
      " 7   number_emergency                                 56042 non-null  int64 \n",
      " 8   number_inpatient                                 56042 non-null  int64 \n",
      " 9   diag_1                                           56042 non-null  object\n",
      " 10  diag_2                                           56042 non-null  object\n",
      " 11  diag_3                                           56042 non-null  object\n",
      " 12  number_diagnoses                                 56042 non-null  int64 \n",
      " 13  metformin                                        56042 non-null  int64 \n",
      " 14  repaglinide                                      56042 non-null  int64 \n",
      " 15  nateglinide                                      56042 non-null  int64 \n",
      " 16  chlorpropamide                                   56042 non-null  int64 \n",
      " 17  glimepiride                                      56042 non-null  int64 \n",
      " 18  acetohexamide                                    56042 non-null  int64 \n",
      " 19  glipizide                                        56042 non-null  int64 \n",
      " 20  glyburide                                        56042 non-null  int64 \n",
      " 21  tolbutamide                                      56042 non-null  int64 \n",
      " 22  pioglitazone                                     56042 non-null  int64 \n",
      " 23  rosiglitazone                                    56042 non-null  int64 \n",
      " 24  acarbose                                         56042 non-null  int64 \n",
      " 25  miglitol                                         56042 non-null  int64 \n",
      " 26  troglitazone                                     56042 non-null  int64 \n",
      " 27  tolazamide                                       56042 non-null  int64 \n",
      " 28  examide                                          56042 non-null  int64 \n",
      " 29  citoglipton                                      56042 non-null  int64 \n",
      " 30  insulin                                          56042 non-null  int64 \n",
      " 31  glyburide-metformin                              56042 non-null  int64 \n",
      " 32  glipizide-metformin                              56042 non-null  int64 \n",
      " 33  glimepiride-pioglitazone                         56042 non-null  int64 \n",
      " 34  metformin-rosiglitazone                          56042 non-null  int64 \n",
      " 35  metformin-pioglitazone                           56042 non-null  int64 \n",
      " 36  change                                           56042 non-null  int64 \n",
      " 37  diabetesMed                                      56042 non-null  int64 \n",
      " 38  readmitted                                       56042 non-null  int64 \n",
      " 39  race_AfricanAmerican                             56042 non-null  uint8 \n",
      " 40  race_Asian                                       56042 non-null  uint8 \n",
      " 41  race_Caucasian                                   56042 non-null  uint8 \n",
      " 42  race_Hispanic                                    56042 non-null  uint8 \n",
      " 43  race_Other                                       56042 non-null  uint8 \n",
      " 44  A1Cresult_>7                                     56042 non-null  uint8 \n",
      " 45  A1Cresult_>8                                     56042 non-null  uint8 \n",
      " 46  A1Cresult_None                                   56042 non-null  uint8 \n",
      " 47  A1Cresult_Norm                                   56042 non-null  uint8 \n",
      " 48  max_glu_serum_>200                               56042 non-null  uint8 \n",
      " 49  max_glu_serum_>300                               56042 non-null  uint8 \n",
      " 50  max_glu_serum_None                               56042 non-null  uint8 \n",
      " 51  max_glu_serum_Norm                               56042 non-null  uint8 \n",
      " 52  discharge_disposition_id_Admitted as inpatient   56042 non-null  uint8 \n",
      " 53  discharge_disposition_id_Discharged to home      56042 non-null  uint8 \n",
      " 54  discharge_disposition_id_Discharged/transferred  56042 non-null  uint8 \n",
      " 55  discharge_disposition_id_LeftAMA                 56042 non-null  uint8 \n",
      " 56  admission_source_id_birth/delivery               56042 non-null  uint8 \n",
      " 57  admission_source_id_court/law enforcement        56042 non-null  uint8 \n",
      " 58  admission_source_id_emergency                    56042 non-null  uint8 \n",
      " 59  admission_source_id_referral                     56042 non-null  uint8 \n",
      " 60  admission_source_id_transfer                     56042 non-null  uint8 \n",
      " 61  admission_type_id_elective                       56042 non-null  uint8 \n",
      " 62  admission_type_id_emergency                      56042 non-null  uint8 \n",
      " 63  admission_type_id_newborn                        56042 non-null  uint8 \n",
      " 64  admission_type_id_trauma                         56042 non-null  uint8 \n",
      " 65  admission_type_id_urgent                         56042 non-null  uint8 \n",
      "dtypes: int64(36), object(3), uint8(27)\n",
      "memory usage: 18.5+ MB\n"
     ]
    }
   ],
   "source": [
    "data.info()"
   ]
  },
  {
   "cell_type": "code",
   "execution_count": 60,
   "metadata": {
    "id": "Dx1zCjfdApnP"
   },
   "outputs": [],
   "source": [
    "import re\n",
    "\n",
    "def convert_val(diag):\n",
    "  new = []\n",
    "  for i in diag:\n",
    "      if (re.match('^[0-9\\.]*$',i) or re.match('^[0-9]*$',i)):\n",
    "        i = float(i)\n",
    "        new.append(i)\n",
    "      else:\n",
    "        i = str(i)\n",
    "        new.append(i)\n",
    "  return new\n",
    " \n",
    "diag_1_data = data['diag_1']  \n",
    "diag_2_data = data['diag_2']  \n",
    "diag_3_data = data['diag_3']  \n",
    "\n",
    "diag_1 = convert_val(diag_1_data)\n",
    "diag_2 = convert_val(diag_2_data)\n",
    "diag_3 = convert_val(diag_3_data)\n",
    "   \n"
   ]
  },
  {
   "cell_type": "code",
   "execution_count": 61,
   "metadata": {
    "id": "cwlpKMZlDkBx"
   },
   "outputs": [],
   "source": [
    "#grouping the values present in diag_1,diag_2,diag_3 with respect to the ICD codes\n",
    "def groups(new):\n",
    "  for i in range(len(new)):\n",
    "    if(type(new[i]) == float):\n",
    "      if (new[i] in range(390,460) or new[i] == 785):\n",
    "        new[i] = 'circulatory'\n",
    "      elif (new[i] in range(460,520) or new[i] == 786):\n",
    "        new[i] = 'respiratory'\n",
    "      elif (new[i] in range(520,579) or new[i] == 787):\n",
    "        new[i] = 'digestive'\n",
    "      elif (new[i] in range(800,1000)):\n",
    "        new[i] = 'injury'\n",
    "      elif (new[i] in range(710,740)):\n",
    "        new[i] ='musculoskeletal'\n",
    "      elif (new[i] in range(580, 630) or new[i] == 788):\n",
    "        new[i] ='genitourinary'\n",
    "      elif (new[i] in range(140,240) or new[i] in range(680,710)  or new[i] in range(1,140) or new[i] in range(790,800) or  new[i] == 780 or  new[i] == 781 or  new[i] == 784 or new[i] in range(240,250) or new[i] in range(251,280)):\n",
    "        new[i] = 'Neoplasms'\n",
    "\n",
    "      elif (new[i] in range(1, 140) or new[i] == 782 or new[i] in range(680, 709)  or new[i] in range(290, 320) or new[i] in range(280, 290) or new[i] in range(320, 360) or new[i] in range(630, 680) or new[i] in range(360, 390) or new[i] in range(740, 760)):\n",
    "        new[i] = 'Other'\n",
    "      else:\n",
    "        new[i] = 'diabetes'\n",
    "    else:\n",
    "      new[i] = 'other'\n",
    "  return new\n",
    "    \n",
    "final_diag_1 = groups(diag_1)\n",
    "final_diag_2 = groups(diag_2)\n",
    "final_diag_3 = groups(diag_3)   \n",
    "      \n",
    "    "
   ]
  },
  {
   "cell_type": "code",
   "execution_count": 62,
   "metadata": {
    "id": "Gy6A4JlNAphX"
   },
   "outputs": [],
   "source": [
    "data = data.drop(columns=['diag_1', 'diag_2','diag_3'])"
   ]
  },
  {
   "cell_type": "code",
   "execution_count": 63,
   "metadata": {
    "id": "HzBzpm03Apew"
   },
   "outputs": [],
   "source": [
    "data['diag1'] = final_diag_1\n",
    "data['diag2'] = final_diag_2\n",
    "data['diag3'] = final_diag_3"
   ]
  },
  {
   "cell_type": "code",
   "execution_count": 64,
   "metadata": {
    "id": "QGsXra0gwJ5y"
   },
   "outputs": [],
   "source": [
    "#one hot encoding for the columns: 'diag1', 'diag2', 'diag3'\n",
    "data = pd.get_dummies(data, columns = ['diag1', 'diag2', 'diag3'])"
   ]
  },
  {
   "cell_type": "markdown",
   "metadata": {
    "id": "6uSfOksNfGSF"
   },
   "source": [
    "# Task 1: Using readmitted as the target variable "
   ]
  },
  {
   "cell_type": "code",
   "execution_count": 65,
   "metadata": {
    "id": "TYHaxxGbPGhE"
   },
   "outputs": [],
   "source": [
    "#dividing the data into x and y\n",
    "y = data['readmitted']\n",
    "x = data.drop(columns=['readmitted'])"
   ]
  },
  {
   "cell_type": "code",
   "execution_count": 66,
   "metadata": {
    "id": "uxG-kYzu3ksB"
   },
   "outputs": [],
   "source": [
    "#normalizing the data\n",
    "sc = MinMaxScaler() \n",
    "x_norm = sc.fit_transform(x)\n",
    "x_norm = pd.DataFrame(x_norm, columns=x.columns)"
   ]
  },
  {
   "cell_type": "code",
   "execution_count": 67,
   "metadata": {
    "colab": {
     "base_uri": "https://localhost:8080/"
    },
    "id": "VUmys3mP_rMO",
    "outputId": "5e52c16a-aad5-4946-8e70-de5782e664c3"
   },
   "outputs": [
    {
     "name": "stdout",
     "output_type": "stream",
     "text": [
      "The count of each class in y before under sampling is :\n",
      "0    51009\n",
      "1     5033\n",
      "Name: readmitted, dtype: int64\n",
      "The count of each class in y after under sampling is :\n",
      "1    5033\n",
      "0    5033\n",
      "Name: readmitted, dtype: int64\n"
     ]
    }
   ],
   "source": [
    "#undersampling of the data\n",
    "from imblearn.under_sampling import NearMiss\n",
    "from imblearn.combine import SMOTEENN\n",
    "print(\"The count of each class in y before under sampling is :\")\n",
    "print(y.value_counts())\n",
    "undersampler  = NearMiss(version=2) #used for undersampling\n",
    "#undersampler = SMOTEENN() \n",
    "x_under, y_under = undersampler.fit_resample(x_norm, y)\n",
    "print(\"The count of each class in y after under sampling is :\")\n",
    "print(y_under.value_counts())"
   ]
  },
  {
   "cell_type": "code",
   "execution_count": 68,
   "metadata": {
    "id": "DDaj9tVVKWOL"
   },
   "outputs": [],
   "source": [
    "pd.set_option('display.max_rows', 500)\n",
    "pd.set_option('display.max_columns', 500)\n",
    "pd.set_option('display.width', 1000)"
   ]
  },
  {
   "cell_type": "code",
   "execution_count": 69,
   "metadata": {
    "colab": {
     "base_uri": "https://localhost:8080/"
    },
    "id": "Gz0SrNCviCzT",
    "outputId": "997c4957-2280-4a3f-cc9f-f8520f311c8f"
   },
   "outputs": [
    {
     "name": "stdout",
     "output_type": "stream",
     "text": [
      "                                         Feat_names     F_Scores\n",
      "58                      admission_type_id_emergency  2018.876324\n",
      "54                    admission_source_id_emergency  1335.085882\n",
      "55                     admission_source_id_referral  1325.519738\n",
      "37                                   race_Caucasian  1288.266244\n",
      "34                                      diabetesMed  1194.821511\n",
      "57                       admission_type_id_elective  1108.331807\n",
      "35                             race_AfricanAmerican  1022.720324\n",
      "42                                   A1Cresult_None   990.433730\n",
      "27                                          insulin   617.670276\n",
      "61                         admission_type_id_urgent   546.330551\n",
      "41                                     A1Cresult_>8   399.259324\n",
      "49      discharge_disposition_id_Discharged to home   292.782910\n",
      "43                                   A1Cresult_Norm   277.046890\n",
      "50  discharge_disposition_id_Discharged/transferred   270.292373\n",
      "40                                     A1Cresult_>7   200.760688\n",
      "74                                diag2_circulatory   155.662295\n",
      "10                                        metformin   152.570092\n",
      "69                            diag1_musculoskeletal   147.275664\n",
      "4                                    num_procedures    96.876757\n",
      "70                                      diag1_other    84.517054\n",
      "2                                  time_in_hospital    81.619659\n",
      "38                                    race_Hispanic    76.201920\n",
      "17                                        glyburide    75.669815\n",
      "8                                  number_inpatient    64.269594\n",
      "84                                diag3_circulatory    64.145461\n",
      "39                                       race_Other    62.847831\n",
      "71                                diag1_respiratory    59.666076\n",
      "72                                  diag2_Neoplasms    58.309512\n",
      "20                                    rosiglitazone    52.740699\n",
      "3                                num_lab_procedures    50.171073\n",
      "16                                        glipizide    39.430765\n",
      "36                                       race_Asian    36.252151\n",
      "11                                      repaglinide    35.358885\n",
      "9                                  number_diagnoses    33.647193\n",
      "33                                           change    32.394737\n",
      "56                     admission_source_id_transfer    31.270625\n",
      "73                                      diag2_Other    26.888590\n",
      "78                                     diag2_injury    25.631622\n",
      "66                                  diag1_digestive    25.310276\n",
      "51                 discharge_disposition_id_LeftAMA    24.792880\n",
      "19                                     pioglitazone    24.573837\n",
      "64                                diag1_circulatory    23.977763\n",
      "63                                      diag1_Other    23.373085\n",
      "7                                  number_emergency    23.048571\n",
      "5                                   num_medications    21.345648\n",
      "46                               max_glu_serum_None    18.061017\n",
      "14                                      glimepiride    17.751756\n",
      "80                                      diag2_other    15.415558\n",
      "83                                      diag3_Other    14.757431\n",
      "45                               max_glu_serum_>300    14.036262\n",
      "68                                     diag1_injury    13.327875\n",
      "62                                  diag1_Neoplasms    12.946436\n",
      "0                                            gender    11.100916\n",
      "88                                     diag3_injury    10.726943\n",
      "85                                   diag3_diabetes     9.966961\n",
      "79                            diag2_musculoskeletal     8.043607\n",
      "91                                diag3_respiratory     6.938165\n",
      "75                                   diag2_diabetes     5.350730\n",
      "67                              diag1_genitourinary     4.961780\n",
      "28                              glyburide-metformin     4.950091\n",
      "89                            diag3_musculoskeletal     4.516684\n",
      "47                               max_glu_serum_Norm     4.002386\n",
      "21                                         acarbose     3.467135\n",
      "86                                  diag3_digestive     2.873427\n",
      "90                                      diag3_other     2.872472\n",
      "82                                  diag3_Neoplasms     2.535239\n",
      "12                                      nateglinide     2.337053\n",
      "48   discharge_disposition_id_Admitted as inpatient     2.000398\n",
      "76                                  diag2_digestive     1.930313\n",
      "81                                diag2_respiratory     1.672370\n",
      "77                              diag2_genitourinary     1.587849\n",
      "6                                 number_outpatient     1.398056\n",
      "87                              diag3_genitourinary     1.062926\n",
      "53        admission_source_id_court/law enforcement     1.000000\n",
      "59                        admission_type_id_newborn     1.000000\n",
      "24                                       tolazamide     1.000000\n",
      "18                                      tolbutamide     1.000000\n",
      "23                                     troglitazone     1.000000\n",
      "1                                               age     0.466723\n",
      "13                                   chlorpropamide     0.333378\n",
      "65                                   diag1_diabetes     0.212372\n",
      "15                                    acetohexamide          NaN\n",
      "52               admission_source_id_birth/delivery          NaN\n",
      "60                         admission_type_id_trauma          NaN\n",
      "26                                      citoglipton          NaN\n",
      "25                                          examide          NaN\n",
      "30                         glimepiride-pioglitazone          NaN\n",
      "29                              glipizide-metformin          NaN\n",
      "44                               max_glu_serum_>200          NaN\n",
      "32                           metformin-pioglitazone          NaN\n",
      "31                          metformin-rosiglitazone          NaN\n",
      "22                                         miglitol          NaN\n"
     ]
    }
   ],
   "source": [
    "#feature engineering to determie the K best features\n",
    "\n",
    "from sklearn.feature_selection import SelectKBest, f_classif\n",
    "\n",
    "selector = SelectKBest(f_classif, k = 92)\n",
    "\n",
    "X_new = selector.fit_transform(x_under, y_under)\n",
    "names = x.columns.values[selector.get_support()]\n",
    "scores = selector.scores_[selector.get_support()]\n",
    "names_scores = list(zip(names, scores))\n",
    "ns_df = pd.DataFrame(data = names_scores, columns=['Feat_names', 'F_Scores'])\n",
    "\n",
    "ns_df_sorted = ns_df.sort_values(['F_Scores', 'Feat_names'], ascending = [False, True])\n",
    "print(ns_df_sorted)"
   ]
  },
  {
   "cell_type": "code",
   "execution_count": 70,
   "metadata": {
    "id": "XIN9N2tAiyRO"
   },
   "outputs": [],
   "source": [
    "#removing all features with least importance\n",
    "x_under = x_under.drop(columns= ['acetohexamide','admission_source_id_birth/delivery','admission_type_id_trauma','citoglipton','examide','glimepiride-pioglitazone', 'glipizide-metformin','max_glu_serum_>200','metformin-pioglitazone','metformin-rosiglitazone', 'miglitol'])"
   ]
  },
  {
   "cell_type": "code",
   "execution_count": 71,
   "metadata": {
    "id": "HgNUTGXt_Wmf"
   },
   "outputs": [],
   "source": [
    "#this function is used to calculate the specificity\n",
    "def specificity(conf):\n",
    "\n",
    "  TN = conf[0][0]\n",
    "  TP = conf [1][1]\n",
    "  FP = conf[0][1]\n",
    "  FN = conf[1][0]\n",
    "  spec = (TN/(TN + FP))\n",
    "  print(\"Specificity\",spec)\n",
    "  return spec"
   ]
  },
  {
   "cell_type": "markdown",
   "metadata": {
    "id": "RVSKCzSuKv3_"
   },
   "source": [
    "### Decision tree Classifier"
   ]
  },
  {
   "cell_type": "code",
   "execution_count": 64,
   "metadata": {
    "colab": {
     "base_uri": "https://localhost:8080/",
     "height": 455
    },
    "id": "o7zwbZIf_204",
    "outputId": "9e7164a5-0d3f-492e-9f0d-476a58ba6e78"
   },
   "outputs": [
    {
     "name": "stdout",
     "output_type": "stream",
     "text": [
      "Accuracy of Model with Cross Validation is: 80.0404228057672\n",
      "Accuracy: 0.7982316709715875\n",
      "Recall: 0.8068746274587721\n",
      "F1 Score: 0.7999606027775042\n",
      "Confusion matrix:\n",
      "[[3974 1059]\n",
      " [ 972 4061]]\n",
      "Specificity 0.7895887144844029\n"
     ]
    },
    {
     "data": {
      "image/png": "[encoded data removed]",
      "text/plain": [
       "<Figure size 432x288 with 1 Axes>"
      ]
     },
     "metadata": {
      "needs_background": "light",
      "tags": []
     },
     "output_type": "display_data"
    },
    {
     "name": "stdout",
     "output_type": "stream",
     "text": [
      "Duration: 0:00:02.581559\n"
     ]
    }
   ],
   "source": [
    "\n",
    "start_time = datetime.now()\n",
    "\n",
    "dt = DecisionTreeClassifier()\n",
    "accuracy_dt = cross_val_score(dt, x_under, y_under, scoring='accuracy', cv = 10)\n",
    "print(\"Accuracy of Model with Cross Validation is:\",accuracy_dt.mean() * 100)\n",
    "\n",
    "\n",
    "y_pred = cross_val_predict(dt, x_under,y_under, cv = 10)\n",
    "y_proba = cross_val_predict(dt, x_under, y_under, cv=10, method='predict_proba')[:,1]\n",
    "acc_dt = accuracy_score(y_under,y_pred)\n",
    "recall_dt = recall_score(y_under,y_pred)\n",
    "f1_dt = f1_score(y_under,y_pred)\n",
    "print(\"Accuracy:\", acc_dt)\n",
    "print(\"Recall:\",recall_dt)\n",
    "print(\"F1 Score:\",f1_dt)\n",
    "print(\"Confusion matrix:\")\n",
    "conf = confusion_matrix(y_under,y_pred)\n",
    "print(conf)\n",
    "spec_dt = specificity(conf)\n",
    "\n",
    "\n",
    "\n",
    "fpr_test, tpr_test, weight_test = metrics.roc_curve(y_under, y_proba)\n",
    "roc_auc_test_dt = metrics.roc_auc_score(y_under, y_proba)\n",
    "plt.title('ROC CURVE')\n",
    "plt.plot(fpr_test, tpr_test, '--', label = 'Test = {}'.format(roc_auc_test_dt))\n",
    "plt.plot([0, 1], [0, 1],'r--')\n",
    "plt.legend()\n",
    "plt.ylabel('TPR')\n",
    "plt.xlabel('FPR')\n",
    "plt.show()\n",
    "\n",
    "\n",
    "end_time = datetime.now()\n",
    "print('Duration: {}'.format(end_time - start_time))"
   ]
  },
  {
   "cell_type": "markdown",
   "metadata": {
    "id": "LYitOIo3KzMw"
   },
   "source": [
    "### MLP classifier"
   ]
  },
  {
   "cell_type": "code",
   "execution_count": 65,
   "metadata": {
    "colab": {
     "base_uri": "https://localhost:8080/",
     "height": 455
    },
    "id": "4q3oseeK4mWO",
    "outputId": "5024949b-fedf-49f2-905a-29dd3d35e807"
   },
   "outputs": [
    {
     "name": "stdout",
     "output_type": "stream",
     "text": [
      "Accuracy of Model with Cross Validation is: 86.5763907123298\n",
      "Accuracy: 0.8680707331611365\n",
      "Recall: 0.840850387442877\n",
      "F1 Score: 0.8643790849673203\n",
      "Confusion matrix:\n",
      "[[4506  527]\n",
      " [ 801 4232]]\n",
      "Specificity 0.895291078879396\n"
     ]
    },
    {
     "data": {
      "image/png": "[encoded data removed]",
      "text/plain": [
       "<Figure size 432x288 with 1 Axes>"
      ]
     },
     "metadata": {
      "needs_background": "light",
      "tags": []
     },
     "output_type": "display_data"
    },
    {
     "name": "stdout",
     "output_type": "stream",
     "text": [
      "Duration: 0:08:31.840887\n"
     ]
    }
   ],
   "source": [
    "from sklearn.neural_network import MLPClassifier\n",
    "start_time = datetime.now()\n",
    "mlp = MLPClassifier()\n",
    "accuracy_mlp = cross_val_score(mlp, x_under, y_under, scoring='accuracy', cv = 10)\n",
    "print(\"Accuracy of Model with Cross Validation is:\",accuracy_mlp.mean() * 100)\n",
    "\n",
    "\n",
    "y_pred = cross_val_predict(mlp, x_under,y_under, cv = 10)\n",
    "y_proba = cross_val_predict(mlp, x_under, y_under, cv=10, method='predict_proba')[:,1]\n",
    "acc_mlp = accuracy_score(y_under,y_pred)\n",
    "recall_mlp = recall_score(y_under,y_pred)\n",
    "f1_mlp = f1_score(y_under,y_pred)\n",
    "print(\"Accuracy:\", acc_mlp)\n",
    "print(\"Recall:\",recall_mlp)\n",
    "print(\"F1 Score:\",f1_mlp)\n",
    "\n",
    "print(\"Confusion matrix:\")\n",
    "conf = confusion_matrix(y_under,y_pred)\n",
    "print(conf)\n",
    "spec_mlp=specificity(conf)\n",
    "\n",
    "\n",
    "\n",
    "fpr_test, tpr_test, weight_test = metrics.roc_curve(y_under, y_proba)\n",
    "roc_auc_test_mlp = metrics.roc_auc_score(y_under, y_proba)\n",
    "plt.title('ROC CURVE')\n",
    "plt.plot(fpr_test, tpr_test, '--', label = 'Test = {}'.format(roc_auc_test_mlp))\n",
    "plt.plot([0, 1], [0, 1],'r--')\n",
    "plt.legend()\n",
    "plt.ylabel('TPR')\n",
    "plt.xlabel('FPR')\n",
    "plt.show()\n",
    "end_time = datetime.now()\n",
    "print('Duration: {}'.format(end_time - start_time))"
   ]
  },
  {
   "cell_type": "markdown",
   "metadata": {
    "id": "-g3Zh5kvK2LA"
   },
   "source": [
    "#### RandomForestClassifier"
   ]
  },
  {
   "cell_type": "code",
   "execution_count": 66,
   "metadata": {
    "colab": {
     "base_uri": "https://localhost:8080/",
     "height": 455
    },
    "id": "x6tLBIjU53ww",
    "outputId": "20f9e7d4-7cec-4ef4-d95e-cf931c3de901"
   },
   "outputs": [
    {
     "name": "stdout",
     "output_type": "stream",
     "text": [
      "Accuracy of Model with Cross Validation is: 86.74628495166044\n",
      "Accuracy: 0.867574011523942\n",
      "Recall: 0.7814424796344128\n",
      "F1 Score: 0.8550929448853136\n",
      "Confusion matrix:\n",
      "[[4800  233]\n",
      " [1100 3933]]\n",
      "Specificity 0.9537055434134711\n"
     ]
    },
    {
     "data": {
      "image/png": "[encoded data removed]",
      "text/plain": [
       "<Figure size 432x288 with 1 Axes>"
      ]
     },
     "metadata": {
      "needs_background": "light",
      "tags": []
     },
     "output_type": "display_data"
    },
    {
     "name": "stdout",
     "output_type": "stream",
     "text": [
      "Duration: 0:00:33.679611\n"
     ]
    }
   ],
   "source": [
    "start_time = datetime.now()\n",
    "\n",
    "rf = RandomForestClassifier()\n",
    "accuracy_rf = cross_val_score(rf, x_under, y_under, scoring='accuracy', cv = 10)\n",
    "print(\"Accuracy of Model with Cross Validation is:\",accuracy_rf.mean() * 100)\n",
    "\n",
    "\n",
    "y_pred = cross_val_predict(rf, x_under,y_under, cv = 10)\n",
    "y_proba = cross_val_predict(rf, x_under, y_under, cv=10, method='predict_proba')[:,1]\n",
    "acc_rf = accuracy_score(y_under,y_pred)\n",
    "recall_rf = recall_score(y_under,y_pred)\n",
    "f1_rf = f1_score(y_under,y_pred)\n",
    "print(\"Accuracy:\", acc_rf)\n",
    "print(\"Recall:\",recall_rf)\n",
    "print(\"F1 Score:\",f1_rf)\n",
    "\n",
    "print(\"Confusion matrix:\")\n",
    "conf = confusion_matrix(y_under,y_pred)\n",
    "print(conf)\n",
    "spec_rf=specificity(conf)\n",
    "\n",
    "\n",
    "\n",
    "fpr_test, tpr_test, weight_test = metrics.roc_curve(y_under, y_proba)\n",
    "roc_auc_test_rf = metrics.roc_auc_score(y_under, y_proba)\n",
    "plt.title('ROC CURVE')\n",
    "plt.plot(fpr_test, tpr_test, '--', label = 'Test = {}'.format(roc_auc_test_rf))\n",
    "plt.plot([0, 1], [0, 1],'r--')\n",
    "plt.legend()\n",
    "plt.ylabel('TPR')\n",
    "plt.xlabel('FPR')\n",
    "plt.show()\n",
    "\n",
    "end_time = datetime.now()\n",
    "print('Duration: {}'.format(end_time - start_time))"
   ]
  },
  {
   "cell_type": "markdown",
   "metadata": {
    "id": "KrzWWuXrLGwY"
   },
   "source": [
    "### KNeighborsClassifier"
   ]
  },
  {
   "cell_type": "code",
   "execution_count": 67,
   "metadata": {
    "colab": {
     "base_uri": "https://localhost:8080/",
     "height": 455
    },
    "id": "Jo93tiMjSYgZ",
    "outputId": "f1bc1444-fefb-40c7-960b-92bdc1bad9d2"
   },
   "outputs": [
    {
     "name": "stdout",
     "output_type": "stream",
     "text": [
      "Accuracy of Model with Cross Validation is: 78.4115466091238\n",
      "Accuracy: 0.7841247764752632\n",
      "Recall: 0.6330220544406915\n",
      "F1 Score: 0.7456992393212406\n",
      "Confusion matrix:\n",
      "[[4707  326]\n",
      " [1847 3186]]\n",
      "Specificity 0.9352274985098351\n"
     ]
    },
    {
     "data": {
      "image/png": "[encoded data removed]",
      "text/plain": [
       "<Figure size 432x288 with 1 Axes>"
      ]
     },
     "metadata": {
      "needs_background": "light",
      "tags": []
     },
     "output_type": "display_data"
    },
    {
     "name": "stdout",
     "output_type": "stream",
     "text": [
      "Duration: 0:00:45.991562\n"
     ]
    }
   ],
   "source": [
    "start_time = datetime.now()\n",
    "knn = KNeighborsClassifier()\n",
    "accuracy_knn = cross_val_score(knn, x_under, y_under, scoring='accuracy', cv = 10)\n",
    "print(\"Accuracy of Model with Cross Validation is:\",accuracy_knn.mean() * 100)\n",
    "\n",
    "\n",
    "y_pred = cross_val_predict(knn, x_under,y_under, cv = 10)\n",
    "y_proba = cross_val_predict(knn, x_under, y_under, cv=10, method='predict_proba')[:,1]\n",
    "acc_knn = accuracy_score(y_under,y_pred)\n",
    "recall_knn = recall_score(y_under,y_pred)\n",
    "f1_knn = f1_score(y_under,y_pred)\n",
    "print(\"Accuracy:\", acc_knn)\n",
    "print(\"Recall:\",recall_knn)\n",
    "print(\"F1 Score:\",f1_knn)\n",
    "\n",
    "print(\"Confusion matrix:\")\n",
    "conf = confusion_matrix(y_under,y_pred)\n",
    "print(conf)\n",
    "spec_knn = specificity(conf)\n",
    "\n",
    "\n",
    "\n",
    "fpr_test, tpr_test, weight_test = metrics.roc_curve(y_under, y_proba)\n",
    "roc_auc_test_knn = metrics.roc_auc_score(y_under, y_proba)\n",
    "plt.title('ROC CURVE')\n",
    "plt.plot(fpr_test, tpr_test, '--', label = 'Test = {}'.format(roc_auc_test_knn))\n",
    "plt.plot([0, 1], [0, 1],'r--')\n",
    "plt.legend()\n",
    "plt.ylabel('TPR')\n",
    "plt.xlabel('FPR')\n",
    "plt.show()\n",
    "\n",
    "end_time = datetime.now()\n",
    "print('Duration: {}'.format(end_time - start_time))"
   ]
  },
  {
   "cell_type": "markdown",
   "metadata": {
    "id": "TLeLdsTSLMaW"
   },
   "source": [
    "###GaussianNB"
   ]
  },
  {
   "cell_type": "code",
   "execution_count": 69,
   "metadata": {
    "colab": {
     "base_uri": "https://localhost:8080/",
     "height": 455
    },
    "id": "hAbt1-qjTj3D",
    "outputId": "76c2072c-5964-4cb6-ab83-d1b7a84ede8f"
   },
   "outputs": [
    {
     "name": "stdout",
     "output_type": "stream",
     "text": [
      "Accuracy of Model with Cross Validation is: 75.88840344230545\n",
      "Accuracy: 0.7588913173057819\n",
      "Recall: 0.5316908404530102\n",
      "F1 Score: 0.6880061704589279\n",
      "Confusion matrix:\n",
      "[[4963   70]\n",
      " [2357 2676]]\n",
      "Specificity 0.9860917941585535\n"
     ]
    },
    {
     "data": {
      "image/png": "[encoded data removed]",
      "text/plain": [
       "<Figure size 432x288 with 1 Axes>"
      ]
     },
     "metadata": {
      "needs_background": "light",
      "tags": []
     },
     "output_type": "display_data"
    },
    {
     "name": "stdout",
     "output_type": "stream",
     "text": [
      "Duration: 0:00:00.716492\n"
     ]
    }
   ],
   "source": [
    "start_time = datetime.now()\n",
    "nb = GaussianNB()\n",
    "accuracy_nb = cross_val_score(nb, x_under, y_under, scoring='accuracy', cv = 10)\n",
    "print(\"Accuracy of Model with Cross Validation is:\",accuracy_nb.mean() * 100)\n",
    "\n",
    "\n",
    "y_pred = cross_val_predict(nb, x_under,y_under, cv = 10)\n",
    "y_proba = cross_val_predict(nb, x_under, y_under, cv=10, method='predict_proba')[:,1]\n",
    "acc_nb = accuracy_score(y_under,y_pred)\n",
    "recall_nb = recall_score(y_under,y_pred)\n",
    "f1_nb = f1_score(y_under,y_pred)\n",
    "print(\"Accuracy:\", acc_nb)\n",
    "print(\"Recall:\",recall_nb)\n",
    "print(\"F1 Score:\",f1_nb)\n",
    "\n",
    "print(\"Confusion matrix:\")\n",
    "conf = confusion_matrix(y_under,y_pred)\n",
    "print(conf)\n",
    "spec_nb = specificity(conf)\n",
    "\n",
    "\n",
    "\n",
    "fpr_test, tpr_test, weight_test = metrics.roc_curve(y_under, y_proba)\n",
    "roc_auc_test_nb = metrics.roc_auc_score(y_under, y_proba)\n",
    "plt.title('ROC CURVE')\n",
    "plt.plot(fpr_test, tpr_test, '--', label = 'Test = {}'.format(roc_auc_test_nb))\n",
    "plt.plot([0, 1], [0, 1],'r--')\n",
    "plt.legend()\n",
    "plt.ylabel('TPR')\n",
    "plt.xlabel('FPR')\n",
    "plt.show()\n",
    "\n",
    "end_time = datetime.now()\n",
    "print('Duration: {}'.format(end_time - start_time))"
   ]
  },
  {
   "cell_type": "markdown",
   "metadata": {
    "id": "IG-gX_UrLQD8"
   },
   "source": [
    "### Determining if there a statistically significant difference between the algorithms"
   ]
  },
  {
   "cell_type": "code",
   "execution_count": 70,
   "metadata": {
    "colab": {
     "base_uri": "https://localhost:8080/"
    },
    "id": "sbFXeWAaEz2s",
    "outputId": "e3c4fb35-c2aa-44e6-a8eb-69536e600250"
   },
   "outputs": [
    {
     "name": "stdout",
     "output_type": "stream",
     "text": [
      "DecisionTree vs MLP  \n",
      "There is a statistically significant difference\n",
      "----------------------\n",
      "DecisionTree vs RandomForest  \n",
      "There is a statistically significant difference\n",
      "----------------------\n",
      "DecisionTree vs KNN  \n",
      "There is a statistically significant difference\n",
      "----------------------\n",
      "DecisionTree vs NaiveBayes  \n",
      "There is a statistically significant difference\n",
      "----------------------\n",
      "MLP vs RandomForest  \n",
      "There is no difference\n",
      "----------------------\n",
      "MLP vs KNN  \n",
      "There is no difference\n",
      "----------------------\n",
      "MLP vs NaiveBayes  \n",
      "There is a statistically significant difference\n",
      "----------------------\n",
      "RandomForest vs KNN  \n",
      "There is no difference\n",
      "----------------------\n",
      "RandomForest vs NaiveBayes  \n",
      "There is a statistically significant difference\n",
      "----------------------\n",
      "KNN vs NaiveBayes  \n",
      "There is a statistically significant difference\n",
      "----------------------\n"
     ]
    }
   ],
   "source": [
    "from scipy import stats\n",
    "a = [accuracy_dt, accuracy_mlp, accuracy_knn, accuracy_rf, accuracy_nb]\n",
    "\n",
    "#function used to determine if there is a statisfically significant difference between the algorithms\n",
    "def comparision():\n",
    "    for i in range(len(a)):\n",
    "        for j in range(i+1, len(a)):\n",
    "            model = [\"DecisionTree\", \"MLP\", \"RandomForest\", \"KNN\", \"NaiveBayes\"]\n",
    "            print(\"{} vs {}  \" .format(model[i] ,model[j]))\n",
    "            m1 = a[i]\n",
    "            m2 = a[j]\n",
    "            t, p = stats.ttest_ind(m1,m2) #t test \n",
    "            if p <= 0.05:\n",
    "                result = True\n",
    "                print(\"There is a statistically significant difference\")\n",
    "                print(\"----------------------\")\n",
    "            else:\n",
    "                result = False\n",
    "                print(\"There is no difference\")\n",
    "                print(\"----------------------\")\n",
    "            \n",
    "        \n",
    "comparision()"
   ]
  },
  {
   "cell_type": "code",
   "execution_count": 71,
   "metadata": {
    "id": "BLMsheRz0lC5"
   },
   "outputs": [],
   "source": [
    "import plotly.graph_objects as go"
   ]
  },
  {
   "cell_type": "code",
   "execution_count": 72,
   "metadata": {
    "id": "gGGDMkrQ0k_Y"
   },
   "outputs": [],
   "source": [
    "#creating a dataframe \n",
    "df = pd.DataFrame(columns = [\"Metric\",\"KNN\", \"MLPClassifier\", \"DecisionTree\", \"NaiveBayes\", \"RandomForest\"])\n",
    "#avg = [\"Average\", accuracy_svm_bal.mean()*100, accuracy_knn_bal.mean()*100, accuracy_dt_bal.mean()*100, accuracy_nb_bal.mean()*100, accuracy_rf_bal.mean()*100, accuracy_et_bal.mean()*100]"
   ]
  },
  {
   "cell_type": "code",
   "execution_count": 73,
   "metadata": {
    "id": "4loky2p80k73"
   },
   "outputs": [],
   "source": [
    "Metrics = ['Accuracy', 'AUC-ROC', 'Recall','Specificity', 'F1-Score']\n",
    "\n",
    "df['KNN'] = np.round((acc_knn,roc_auc_test_knn,recall_knn,spec_knn,f1_knn),4)\n",
    "df['DecisionTree'] = np.round((acc_dt,roc_auc_test_dt,recall_dt,spec_dt,f1_dt),4)\n",
    "df['NaiveBayes'] = np.round((acc_nb,roc_auc_test_nb,recall_nb,spec_nb,f1_nb),4)\n",
    "df['RandomForest'] = np.round((acc_rf,roc_auc_test_rf,recall_rf,spec_rf,f1_rf),4)\n",
    "df['MLPClassifier'] = np.round((acc_mlp,roc_auc_test_mlp,recall_mlp,spec_mlp,f1_mlp),4)\n",
    "df['Metric'] = Metrics\n"
   ]
  },
  {
   "cell_type": "code",
   "execution_count": 74,
   "metadata": {
    "colab": {
     "base_uri": "https://localhost:8080/",
     "height": 617
    },
    "id": "FEmet17OIJkR",
    "outputId": "7e036034-bac6-43bb-c8b5-80e4e4e62798"
   },
   "outputs": [
    {
     "data": {
      "text/html": [
       "<html>\n",
       "<head><meta charset=\"utf-8\" /></head>\n",
       "<body>\n",
       "    <div>\n",
       "            <script src=\"https://cdnjs.cloudflare.com/ajax/libs/mathjax/2.7.5/MathJax.js?config=TeX-AMS-MML_SVG\"></script><script type=\"text/javascript\">if (window.MathJax) {MathJax.Hub.Config({SVG: {font: \"STIX-Web\"}});}</script>\n",
       "                <script type=\"text/javascript\">window.PlotlyConfig = {MathJaxConfig: 'local'};</script>\n",
       "        <script src=\"https://cdn.plot.ly/plotly-latest.min.js\"></script>    \n",
       "            <div id=\"0a1ec19f-fdd1-41b7-bc25-a04389f79220\" class=\"plotly-graph-div\" style=\"height:600px; width:800px;\"></div>\n",
       "            <script type=\"text/javascript\">\n",
       "                \n",
       "                    window.PLOTLYENV=window.PLOTLYENV || {};\n",
       "                    \n",
       "                if (document.getElementById(\"0a1ec19f-fdd1-41b7-bc25-a04389f79220\")) {\n",
       "                    Plotly.newPlot(\n",
       "                        '0a1ec19f-fdd1-41b7-bc25-a04389f79220',\n",
       "                        [{\"cells\": {\"align\": \"center\", \"fill\": {\"color\": \"pink\"}, \"line\": {\"color\": \"darkslategray\"}, \"values\": [[\"Accuracy\", \"AUC-ROC\", \"Recall\", \"Specificity\", \"F1-Score\"], [0.8587, 0.9154, 0.7677, 0.9497, 0.8446], [0.8681, 0.9157, 0.8409, 0.8953, 0.8644], [0.7982, 0.7981, 0.8069, 0.7896, 0.8], [0.7589, 0.8634, 0.5317, 0.9861, 0.688], [0.8676, 0.9188, 0.7814, 0.9537, 0.8551]]}, \"header\": {\"align\": \"center\", \"fill\": {\"color\": \"paleturquoise\"}, \"line\": {\"color\": \"darkslategray\"}, \"values\": [\"Metric\", \"KNN\", \"MLPClassifier\", \"DecisionTree\", \"NaiveBayes\", \"RandomForest\"]}, \"type\": \"table\"}],\n",
       "                        {\"height\": 600, \"template\": {\"data\": {\"bar\": [{\"error_x\": {\"color\": \"#2a3f5f\"}, \"error_y\": {\"color\": \"#2a3f5f\"}, \"marker\": {\"line\": {\"color\": \"#E5ECF6\", \"width\": 0.5}}, \"type\": \"bar\"}], \"barpolar\": [{\"marker\": {\"line\": {\"color\": \"#E5ECF6\", \"width\": 0.5}}, \"type\": \"barpolar\"}], \"carpet\": [{\"aaxis\": {\"endlinecolor\": \"#2a3f5f\", \"gridcolor\": \"white\", \"linecolor\": \"white\", \"minorgridcolor\": \"white\", \"startlinecolor\": \"#2a3f5f\"}, \"baxis\": {\"endlinecolor\": \"#2a3f5f\", \"gridcolor\": \"white\", \"linecolor\": \"white\", \"minorgridcolor\": \"white\", \"startlinecolor\": \"#2a3f5f\"}, \"type\": \"carpet\"}], \"choropleth\": [{\"colorbar\": {\"outlinewidth\": 0, \"ticks\": \"\"}, \"type\": \"choropleth\"}], \"contour\": [{\"colorbar\": {\"outlinewidth\": 0, \"ticks\": \"\"}, \"colorscale\": [[0.0, \"#0d0887\"], [0.1111111111111111, \"#46039f\"], [0.2222222222222222, \"#7201a8\"], [0.3333333333333333, \"#9c179e\"], [0.4444444444444444, \"#bd3786\"], [0.5555555555555556, \"#d8576b\"], [0.6666666666666666, \"#ed7953\"], [0.7777777777777778, \"#fb9f3a\"], [0.8888888888888888, \"#fdca26\"], [1.0, \"#f0f921\"]], \"type\": \"contour\"}], \"contourcarpet\": [{\"colorbar\": {\"outlinewidth\": 0, \"ticks\": \"\"}, \"type\": \"contourcarpet\"}], \"heatmap\": [{\"colorbar\": {\"outlinewidth\": 0, \"ticks\": \"\"}, \"colorscale\": [[0.0, \"#0d0887\"], [0.1111111111111111, \"#46039f\"], [0.2222222222222222, \"#7201a8\"], [0.3333333333333333, \"#9c179e\"], [0.4444444444444444, \"#bd3786\"], [0.5555555555555556, \"#d8576b\"], [0.6666666666666666, \"#ed7953\"], [0.7777777777777778, \"#fb9f3a\"], [0.8888888888888888, \"#fdca26\"], [1.0, \"#f0f921\"]], \"type\": \"heatmap\"}], \"heatmapgl\": [{\"colorbar\": {\"outlinewidth\": 0, \"ticks\": \"\"}, \"colorscale\": [[0.0, \"#0d0887\"], [0.1111111111111111, \"#46039f\"], [0.2222222222222222, \"#7201a8\"], [0.3333333333333333, \"#9c179e\"], [0.4444444444444444, \"#bd3786\"], [0.5555555555555556, \"#d8576b\"], [0.6666666666666666, \"#ed7953\"], [0.7777777777777778, \"#fb9f3a\"], [0.8888888888888888, \"#fdca26\"], [1.0, \"#f0f921\"]], \"type\": \"heatmapgl\"}], \"histogram\": [{\"marker\": {\"colorbar\": {\"outlinewidth\": 0, \"ticks\": \"\"}}, \"type\": \"histogram\"}], \"histogram2d\": [{\"colorbar\": {\"outlinewidth\": 0, \"ticks\": \"\"}, \"colorscale\": [[0.0, \"#0d0887\"], [0.1111111111111111, \"#46039f\"], [0.2222222222222222, \"#7201a8\"], [0.3333333333333333, \"#9c179e\"], [0.4444444444444444, \"#bd3786\"], [0.5555555555555556, \"#d8576b\"], [0.6666666666666666, \"#ed7953\"], [0.7777777777777778, \"#fb9f3a\"], [0.8888888888888888, \"#fdca26\"], [1.0, \"#f0f921\"]], \"type\": \"histogram2d\"}], \"histogram2dcontour\": [{\"colorbar\": {\"outlinewidth\": 0, \"ticks\": \"\"}, \"colorscale\": [[0.0, \"#0d0887\"], [0.1111111111111111, \"#46039f\"], [0.2222222222222222, \"#7201a8\"], [0.3333333333333333, \"#9c179e\"], [0.4444444444444444, \"#bd3786\"], [0.5555555555555556, \"#d8576b\"], [0.6666666666666666, \"#ed7953\"], [0.7777777777777778, \"#fb9f3a\"], [0.8888888888888888, \"#fdca26\"], [1.0, \"#f0f921\"]], \"type\": \"histogram2dcontour\"}], \"mesh3d\": [{\"colorbar\": {\"outlinewidth\": 0, \"ticks\": \"\"}, \"type\": \"mesh3d\"}], \"parcoords\": [{\"line\": {\"colorbar\": {\"outlinewidth\": 0, \"ticks\": \"\"}}, \"type\": \"parcoords\"}], \"pie\": [{\"automargin\": true, \"type\": \"pie\"}], \"scatter\": [{\"marker\": {\"colorbar\": {\"outlinewidth\": 0, \"ticks\": \"\"}}, \"type\": \"scatter\"}], \"scatter3d\": [{\"line\": {\"colorbar\": {\"outlinewidth\": 0, \"ticks\": \"\"}}, \"marker\": {\"colorbar\": {\"outlinewidth\": 0, \"ticks\": \"\"}}, \"type\": \"scatter3d\"}], \"scattercarpet\": [{\"marker\": {\"colorbar\": {\"outlinewidth\": 0, \"ticks\": \"\"}}, \"type\": \"scattercarpet\"}], \"scattergeo\": [{\"marker\": {\"colorbar\": {\"outlinewidth\": 0, \"ticks\": \"\"}}, \"type\": \"scattergeo\"}], \"scattergl\": [{\"marker\": {\"colorbar\": {\"outlinewidth\": 0, \"ticks\": \"\"}}, \"type\": \"scattergl\"}], \"scattermapbox\": [{\"marker\": {\"colorbar\": {\"outlinewidth\": 0, \"ticks\": \"\"}}, \"type\": \"scattermapbox\"}], \"scatterpolar\": [{\"marker\": {\"colorbar\": {\"outlinewidth\": 0, \"ticks\": \"\"}}, \"type\": \"scatterpolar\"}], \"scatterpolargl\": [{\"marker\": {\"colorbar\": {\"outlinewidth\": 0, \"ticks\": \"\"}}, \"type\": \"scatterpolargl\"}], \"scatterternary\": [{\"marker\": {\"colorbar\": {\"outlinewidth\": 0, \"ticks\": \"\"}}, \"type\": \"scatterternary\"}], \"surface\": [{\"colorbar\": {\"outlinewidth\": 0, \"ticks\": \"\"}, \"colorscale\": [[0.0, \"#0d0887\"], [0.1111111111111111, \"#46039f\"], [0.2222222222222222, \"#7201a8\"], [0.3333333333333333, \"#9c179e\"], [0.4444444444444444, \"#bd3786\"], [0.5555555555555556, \"#d8576b\"], [0.6666666666666666, \"#ed7953\"], [0.7777777777777778, \"#fb9f3a\"], [0.8888888888888888, \"#fdca26\"], [1.0, \"#f0f921\"]], \"type\": \"surface\"}], \"table\": [{\"cells\": {\"fill\": {\"color\": \"#EBF0F8\"}, \"line\": {\"color\": \"white\"}}, \"header\": {\"fill\": {\"color\": \"#C8D4E3\"}, \"line\": {\"color\": \"white\"}}, \"type\": \"table\"}]}, \"layout\": {\"annotationdefaults\": {\"arrowcolor\": \"#2a3f5f\", \"arrowhead\": 0, \"arrowwidth\": 1}, \"coloraxis\": {\"colorbar\": {\"outlinewidth\": 0, \"ticks\": \"\"}}, \"colorscale\": {\"diverging\": [[0, \"#8e0152\"], [0.1, \"#c51b7d\"], [0.2, \"#de77ae\"], [0.3, \"#f1b6da\"], [0.4, \"#fde0ef\"], [0.5, \"#f7f7f7\"], [0.6, \"#e6f5d0\"], [0.7, \"#b8e186\"], [0.8, \"#7fbc41\"], [0.9, \"#4d9221\"], [1, \"#276419\"]], \"sequential\": [[0.0, \"#0d0887\"], [0.1111111111111111, \"#46039f\"], [0.2222222222222222, \"#7201a8\"], [0.3333333333333333, \"#9c179e\"], [0.4444444444444444, \"#bd3786\"], [0.5555555555555556, \"#d8576b\"], [0.6666666666666666, \"#ed7953\"], [0.7777777777777778, \"#fb9f3a\"], [0.8888888888888888, \"#fdca26\"], [1.0, \"#f0f921\"]], \"sequentialminus\": [[0.0, \"#0d0887\"], [0.1111111111111111, \"#46039f\"], [0.2222222222222222, \"#7201a8\"], [0.3333333333333333, \"#9c179e\"], [0.4444444444444444, \"#bd3786\"], [0.5555555555555556, \"#d8576b\"], [0.6666666666666666, \"#ed7953\"], [0.7777777777777778, \"#fb9f3a\"], [0.8888888888888888, \"#fdca26\"], [1.0, \"#f0f921\"]]}, \"colorway\": [\"#636efa\", \"#EF553B\", \"#00cc96\", \"#ab63fa\", \"#FFA15A\", \"#19d3f3\", \"#FF6692\", \"#B6E880\", \"#FF97FF\", \"#FECB52\"], \"font\": {\"color\": \"#2a3f5f\"}, \"geo\": {\"bgcolor\": \"white\", \"lakecolor\": \"white\", \"landcolor\": \"#E5ECF6\", \"showlakes\": true, \"showland\": true, \"subunitcolor\": \"white\"}, \"hoverlabel\": {\"align\": \"left\"}, \"hovermode\": \"closest\", \"mapbox\": {\"style\": \"light\"}, \"paper_bgcolor\": \"white\", \"plot_bgcolor\": \"#E5ECF6\", \"polar\": {\"angularaxis\": {\"gridcolor\": \"white\", \"linecolor\": \"white\", \"ticks\": \"\"}, \"bgcolor\": \"#E5ECF6\", \"radialaxis\": {\"gridcolor\": \"white\", \"linecolor\": \"white\", \"ticks\": \"\"}}, \"scene\": {\"xaxis\": {\"backgroundcolor\": \"#E5ECF6\", \"gridcolor\": \"white\", \"gridwidth\": 2, \"linecolor\": \"white\", \"showbackground\": true, \"ticks\": \"\", \"zerolinecolor\": \"white\"}, \"yaxis\": {\"backgroundcolor\": \"#E5ECF6\", \"gridcolor\": \"white\", \"gridwidth\": 2, \"linecolor\": \"white\", \"showbackground\": true, \"ticks\": \"\", \"zerolinecolor\": \"white\"}, \"zaxis\": {\"backgroundcolor\": \"#E5ECF6\", \"gridcolor\": \"white\", \"gridwidth\": 2, \"linecolor\": \"white\", \"showbackground\": true, \"ticks\": \"\", \"zerolinecolor\": \"white\"}}, \"shapedefaults\": {\"line\": {\"color\": \"#2a3f5f\"}}, \"ternary\": {\"aaxis\": {\"gridcolor\": \"white\", \"linecolor\": \"white\", \"ticks\": \"\"}, \"baxis\": {\"gridcolor\": \"white\", \"linecolor\": \"white\", \"ticks\": \"\"}, \"bgcolor\": \"#E5ECF6\", \"caxis\": {\"gridcolor\": \"white\", \"linecolor\": \"white\", \"ticks\": \"\"}}, \"title\": {\"x\": 0.05}, \"xaxis\": {\"automargin\": true, \"gridcolor\": \"white\", \"linecolor\": \"white\", \"ticks\": \"\", \"title\": {\"standoff\": 15}, \"zerolinecolor\": \"white\", \"zerolinewidth\": 2}, \"yaxis\": {\"automargin\": true, \"gridcolor\": \"white\", \"linecolor\": \"white\", \"ticks\": \"\", \"title\": {\"standoff\": 15}, \"zerolinecolor\": \"white\", \"zerolinewidth\": 2}}}, \"width\": 800},\n",
       "                        {\"responsive\": true}\n",
       "                    ).then(function(){\n",
       "                            \n",
       "var gd = document.getElementById('0a1ec19f-fdd1-41b7-bc25-a04389f79220');\n",
       "var x = new MutationObserver(function (mutations, observer) {{\n",
       "        var display = window.getComputedStyle(gd).display;\n",
       "        if (!display || display === 'none') {{\n",
       "            console.log([gd, 'removed!']);\n",
       "            Plotly.purge(gd);\n",
       "            observer.disconnect();\n",
       "        }}\n",
       "}});\n",
       "\n",
       "// Listen for the removal of the full notebook cells\n",
       "var notebookContainer = gd.closest('#notebook-container');\n",
       "if (notebookContainer) {{\n",
       "    x.observe(notebookContainer, {childList: true});\n",
       "}}\n",
       "\n",
       "// Listen for the clearing of the current output cell\n",
       "var outputEl = gd.closest('.output');\n",
       "if (outputEl) {{\n",
       "    x.observe(outputEl, {childList: true});\n",
       "}}\n",
       "\n",
       "                        })\n",
       "                };\n",
       "                \n",
       "            </script>\n",
       "        </div>\n",
       "</body>\n",
       "</html>"
      ]
     },
     "metadata": {
      "tags": []
     },
     "output_type": "display_data"
    }
   ],
   "source": [
    "#printing the table using plotly\n",
    "fig = go.Figure(data=[go.Table(\n",
    "    header=dict(values=list(df.columns),fill_color='paleturquoise',line_color='darkslategray',align='center'),\n",
    "    cells=dict(values=[df.Metric, df.KNN, df.MLPClassifier, df.DecisionTree, df.NaiveBayes, df.RandomForest],\n",
    "               fill_color='pink',\n",
    "               line_color='darkslategray',\n",
    "               align='center'))\n",
    "])\n",
    "\n",
    "fig.update_layout(width=800, height=600)\n",
    "fig.show()"
   ]
  },
  {
   "cell_type": "markdown",
   "metadata": {
    "id": "pmmHVEAZOjDe"
   },
   "source": [
    "#### Summary :\n",
    "\n",
    " From the table above it can be inferred that the MLP classifier and Random Forest performed evenly. Since the dataset is from the medical domain, it is absolutely essential that the recall, f1 score and specificity are high. Taking these 3 metrics into consideration, we can tell that the MLP classifier performs slightly better than other algorithms.\n",
    "\n"
   ]
  },
  {
   "cell_type": "markdown",
   "metadata": {
    "id": "M697oI-6BC5G"
   },
   "source": [
    "# Task 2 : Using gender as the target variable"
   ]
  },
  {
   "cell_type": "code",
   "execution_count": 76,
   "metadata": {
    "id": "Di-9bOHABCzC"
   },
   "outputs": [],
   "source": [
    "#splitting the data into x,y \n",
    "y = data['gender']\n",
    "x = data.drop(columns=['gender'])"
   ]
  },
  {
   "cell_type": "code",
   "execution_count": 77,
   "metadata": {
    "id": "h9YUqlMgBCnP"
   },
   "outputs": [],
   "source": [
    "#normalising the values\n",
    "sc = MinMaxScaler() \n",
    "x_norm = sc.fit_transform(x)\n",
    "x_norm = pd.DataFrame(x_norm, columns=x.columns)"
   ]
  },
  {
   "cell_type": "code",
   "execution_count": 78,
   "metadata": {
    "colab": {
     "base_uri": "https://localhost:8080/"
    },
    "id": "65VqutFvBCit",
    "outputId": "b4a44736-07b4-4d13-9f19-f7c1dc65d89d"
   },
   "outputs": [
    {
     "name": "stdout",
     "output_type": "stream",
     "text": [
      "The count of each class in y before under sampling is :\n",
      "0    29997\n",
      "1    26045\n",
      "Name: gender, dtype: int64\n",
      "The count of each class in y after under sampling is :\n",
      "1    26045\n",
      "0    26045\n",
      "Name: gender, dtype: int64\n"
     ]
    }
   ],
   "source": [
    "#undersampling \n",
    "print(\"The count of each class in y before under sampling is :\")\n",
    "print(y.value_counts())\n",
    "undersampler  = NearMiss(version=2) #used for undersampling\n",
    "x_under, y_under = undersampler.fit_resample(x_norm, y)\n",
    "print(\"The count of each class in y after under sampling is :\")\n",
    "print(y_under.value_counts())"
   ]
  },
  {
   "cell_type": "code",
   "execution_count": 79,
   "metadata": {
    "colab": {
     "base_uri": "https://localhost:8080/"
    },
    "id": "hGOqHorTjc4U",
    "outputId": "d2572a4b-9f40-4f05-cb52-c20bf7c9f1c3"
   },
   "outputs": [
    {
     "name": "stdout",
     "output_type": "stream",
     "text": [
      "                                         Feat_names    F_Scores\n",
      "3                                    num_procedures  403.238460\n",
      "64                                diag1_circulatory  261.067152\n",
      "0                                               age  234.385194\n",
      "50  discharge_disposition_id_Discharged/transferred  214.020154\n",
      "33                                      diabetesMed  189.280383\n",
      "49      discharge_disposition_id_Discharged to home  182.739846\n",
      "74                                diag2_circulatory  113.843623\n",
      "63                                      diag1_Other  110.089957\n",
      "42                                   A1Cresult_None   85.716840\n",
      "58                      admission_type_id_emergency   83.051920\n",
      "35                             race_AfricanAmerican   71.485553\n",
      "55                     admission_source_id_referral   70.984174\n",
      "57                       admission_type_id_elective   68.270672\n",
      "41                                     A1Cresult_>8   55.901004\n",
      "54                    admission_source_id_emergency   51.485525\n",
      "34                                       readmitted   48.609236\n",
      "71                                diag1_respiratory   47.082431\n",
      "77                              diag2_genitourinary   45.866110\n",
      "67                              diag1_genitourinary   44.516404\n",
      "26                                          insulin   44.013258\n",
      "46                               max_glu_serum_None   41.052427\n",
      "51                 discharge_disposition_id_LeftAMA   39.630789\n",
      "6                                  number_emergency   37.921336\n",
      "16                                        glyburide   37.888369\n",
      "45                               max_glu_serum_>300   36.881779\n",
      "68                                     diag1_injury   34.295232\n",
      "65                                   diag1_diabetes   33.671222\n",
      "84                                diag3_circulatory   33.615060\n",
      "5                                 number_outpatient   24.978853\n",
      "15                                        glipizide   23.892304\n",
      "1                                  time_in_hospital   23.832489\n",
      "39                                       race_Other   22.256437\n",
      "37                                   race_Caucasian   21.666203\n",
      "73                                      diag2_Other   17.936660\n",
      "40                                     A1Cresult_>7   14.810421\n",
      "4                                   num_medications   14.575615\n",
      "88                                     diag3_injury   13.386907\n",
      "38                                    race_Hispanic   12.996527\n",
      "83                                      diag3_Other   12.946316\n",
      "8                                  number_diagnoses   11.646044\n",
      "75                                   diag2_diabetes   11.584287\n",
      "66                                  diag1_digestive   10.227385\n",
      "82                                  diag3_Neoplasms   10.105903\n",
      "43                                   A1Cresult_Norm   10.017731\n",
      "32                                           change    9.541584\n",
      "36                                       race_Asian    8.684679\n",
      "61                         admission_type_id_urgent    7.342322\n",
      "9                                         metformin    7.051466\n",
      "87                              diag3_genitourinary    6.528581\n",
      "79                            diag2_musculoskeletal    6.457632\n",
      "19                                    rosiglitazone    6.186967\n",
      "70                                      diag1_other    5.958063\n",
      "89                            diag3_musculoskeletal    5.661304\n",
      "69                            diag1_musculoskeletal    5.611494\n",
      "2                                num_lab_procedures    5.598530\n",
      "47                               max_glu_serum_Norm    5.445745\n",
      "78                                     diag2_injury    4.804799\n",
      "76                                  diag2_digestive    3.790815\n",
      "20                                         acarbose    3.788452\n",
      "72                                  diag2_Neoplasms    3.765621\n",
      "12                                   chlorpropamide    3.514800\n",
      "56                     admission_source_id_transfer    3.408646\n",
      "86                                  diag3_digestive    3.281423\n",
      "28                              glipizide-metformin    2.667008\n",
      "59                        admission_type_id_newborn    2.000307\n",
      "22                                     troglitazone    2.000077\n",
      "18                                     pioglitazone    1.969132\n",
      "90                                      diag3_other    1.907345\n",
      "81                                diag2_respiratory    1.243920\n",
      "11                                      nateglinide    1.221877\n",
      "53        admission_source_id_court/law enforcement    1.000154\n",
      "14                                    acetohexamide    1.000000\n",
      "31                           metformin-pioglitazone    1.000000\n",
      "10                                      repaglinide    0.892482\n",
      "91                                diag3_respiratory    0.821671\n",
      "23                                       tolazamide    0.692463\n",
      "13                                      glimepiride    0.677074\n",
      "62                                  diag1_Neoplasms    0.641221\n",
      "21                                         miglitol    0.580791\n",
      "60                         admission_type_id_trauma    0.529570\n",
      "85                                   diag3_diabetes    0.455753\n",
      "7                                  number_inpatient    0.405236\n",
      "80                                      diag2_other    0.336074\n",
      "52               admission_source_id_birth/delivery    0.333342\n",
      "48   discharge_disposition_id_Admitted as inpatient    0.142871\n",
      "17                                      tolbutamide    0.111126\n",
      "27                              glyburide-metformin    0.057946\n",
      "44                               max_glu_serum_>200    0.000000\n",
      "25                                      citoglipton         NaN\n",
      "24                                          examide         NaN\n",
      "29                         glimepiride-pioglitazone         NaN\n",
      "30                          metformin-rosiglitazone         NaN\n"
     ]
    }
   ],
   "source": [
    "from sklearn.feature_selection import SelectKBest, f_classif\n",
    "\n",
    "selector = SelectKBest(f_classif, k = 92)\n",
    "\n",
    "X_new = selector.fit_transform(x_under, y_under)\n",
    "names = x.columns.values[selector.get_support()]\n",
    "scores = selector.scores_[selector.get_support()]\n",
    "names_scores = list(zip(names, scores))\n",
    "ns_df = pd.DataFrame(data = names_scores, columns=['Feat_names', 'F_Scores'])\n",
    "\n",
    "ns_df_sorted = ns_df.sort_values(['F_Scores', 'Feat_names'], ascending = [False, True])\n",
    "print(ns_df_sorted)"
   ]
  },
  {
   "cell_type": "code",
   "execution_count": 80,
   "metadata": {
    "id": "EJSwhnyIjqiS"
   },
   "outputs": [],
   "source": [
    "#dropping the columns with least score\n",
    "x_under = x_under.drop(columns= ['citoglipton','examide','glimepiride-pioglitazone','max_glu_serum_>200','metformin-rosiglitazone'])"
   ]
  },
  {
   "cell_type": "markdown",
   "metadata": {
    "id": "oqfdBAYuQow0"
   },
   "source": [
    "### DecisionTreeClassifier"
   ]
  },
  {
   "cell_type": "code",
   "execution_count": 81,
   "metadata": {
    "colab": {
     "base_uri": "https://localhost:8080/",
     "height": 455
    },
    "id": "k6YOCmsKBCe6",
    "outputId": "0b83f15d-b28d-461f-a292-b323984cfab3"
   },
   "outputs": [
    {
     "name": "stdout",
     "output_type": "stream",
     "text": [
      "Accuracy of Model with Cross Validation is: 50.70838932616625\n",
      "Accuracy: 0.5060280284123632\n",
      "Recall: 0.49030524092916106\n",
      "F1 Score: 0.498137348598623\n",
      "Confusion matrix:\n",
      "[[13589 12456]\n",
      " [13275 12770]]\n",
      "Specificity 0.5217508158955654\n"
     ]
    },
    {
     "data": {
      "image/png": "[encoded data removed]",
      "text/plain": [
       "<Figure size 432x288 with 1 Axes>"
      ]
     },
     "metadata": {
      "needs_background": "light",
      "tags": []
     },
     "output_type": "display_data"
    },
    {
     "name": "stdout",
     "output_type": "stream",
     "text": [
      "Duration: 0:00:17.393891\n"
     ]
    }
   ],
   "source": [
    "start_time = datetime.now()\n",
    "dt = DecisionTreeClassifier(max_depth=20, criterion='entropy', splitter='best', min_samples_leaf=3)\n",
    "accuracy_dt = cross_val_score(dt, x_under, y_under, scoring='accuracy', cv = 10)\n",
    "print(\"Accuracy of Model with Cross Validation is:\",accuracy_dt.mean() * 100)\n",
    "\n",
    "\n",
    "y_pred = cross_val_predict(dt, x_under,y_under, cv = 10)\n",
    "y_proba = cross_val_predict(dt, x_under, y_under, cv=10, method='predict_proba')[:,1]\n",
    "acc_dt = accuracy_score(y_under,y_pred)\n",
    "recall_dt = recall_score(y_under,y_pred)\n",
    "f1_dt = f1_score(y_under,y_pred)\n",
    "print(\"Accuracy:\", acc_dt)\n",
    "print(\"Recall:\",recall_dt)\n",
    "print(\"F1 Score:\",f1_dt)\n",
    "print(\"Confusion matrix:\")\n",
    "conf = confusion_matrix(y_under,y_pred)\n",
    "print(conf)\n",
    "specificity(conf)\n",
    "\n",
    "\n",
    "\n",
    "fpr_test, tpr_test, weight_test = metrics.roc_curve(y_under, y_proba)\n",
    "roc_auc_test= metrics.roc_auc_score(y_under, y_proba)\n",
    "plt.title('ROC CURVE')\n",
    "plt.plot(fpr_test, tpr_test, '--', label = 'Test = {}'.format(roc_auc_test))\n",
    "plt.plot([0, 1], [0, 1],'r--')\n",
    "plt.legend()\n",
    "plt.ylabel('TPR')\n",
    "plt.xlabel('FPR')\n",
    "plt.show()\n",
    "\n",
    "end_time = datetime.now()\n",
    "print('Duration: {}'.format(end_time - start_time))"
   ]
  },
  {
   "cell_type": "markdown",
   "metadata": {
    "id": "n2UuVIUuQsxF"
   },
   "source": [
    "### MLPClassifier"
   ]
  },
  {
   "cell_type": "code",
   "execution_count": 82,
   "metadata": {
    "colab": {
     "base_uri": "https://localhost:8080/",
     "height": 473
    },
    "id": "of2xKyy2BCa3",
    "outputId": "c513dfa2-bfe3-4bec-aa3f-6ced454018a3"
   },
   "outputs": [
    {
     "name": "stdout",
     "output_type": "stream",
     "text": [
      "Accuracy of Model with Cross Validation is: 49.54693799193704\n",
      "Accuracy: 0.5030332117488961\n",
      "Recall: 0.5493568823190632\n",
      "F1 Score: 0.5250353191567437\n",
      "Confusion matrix:\n",
      "Confusion matrix:\n",
      "[[11895 14150]\n",
      " [11737 14308]]\n",
      "Specificity 0.45670954117872914\n"
     ]
    },
    {
     "data": {
      "image/png": "[encoded data removed]",
      "text/plain": [
       "<Figure size 432x288 with 1 Axes>"
      ]
     },
     "metadata": {
      "needs_background": "light",
      "tags": []
     },
     "output_type": "display_data"
    },
    {
     "name": "stdout",
     "output_type": "stream",
     "text": [
      "Duration: 0:52:35.071984\n"
     ]
    }
   ],
   "source": [
    "start_time = datetime.now()\n",
    "mlp = MLPClassifier(hidden_layer_sizes = 128)\n",
    "accuracy_mlp = cross_val_score(mlp, x_under, y_under, scoring='accuracy', cv = 10)\n",
    "print(\"Accuracy of Model with Cross Validation is:\",accuracy_mlp.mean() * 100)\n",
    "\n",
    "\n",
    "y_pred = cross_val_predict(mlp, x_under,y_under, cv = 10)\n",
    "y_proba = cross_val_predict(mlp, x_under, y_under, cv=10, method='predict_proba')[:,1]\n",
    "acc_mlp = accuracy_score(y_under,y_pred)\n",
    "recall_mlp = recall_score(y_under,y_pred)\n",
    "f1_mlp = f1_score(y_under,y_pred)\n",
    "print(\"Accuracy:\", acc_mlp)\n",
    "print(\"Recall:\",recall_mlp)\n",
    "print(\"F1 Score:\",f1_mlp)\n",
    "print(\"Confusion matrix:\")\n",
    "print(\"Confusion matrix:\")\n",
    "conf = confusion_matrix(y_under,y_pred)\n",
    "print(conf)\n",
    "specificity(conf)\n",
    "\n",
    "\n",
    "\n",
    "fpr_test, tpr_test, weight_test = metrics.roc_curve(y_under, y_proba)\n",
    "roc_auc_test = metrics.roc_auc_score(y_under, y_proba)\n",
    "plt.title('ROC CURVE')\n",
    "plt.plot(fpr_test, tpr_test, '--', label = 'Test = {}'.format(roc_auc_test))\n",
    "plt.plot([0, 1], [0, 1],'r--')\n",
    "plt.legend()\n",
    "plt.ylabel('TPR')\n",
    "plt.xlabel('FPR')\n",
    "plt.show()\n",
    "\n",
    "end_time = datetime.now()\n",
    "print('Duration: {}'.format(end_time - start_time))"
   ]
  },
  {
   "cell_type": "markdown",
   "metadata": {
    "id": "Bq29oIbUQvnL"
   },
   "source": [
    "### RandomForestClassifier"
   ]
  },
  {
   "cell_type": "code",
   "execution_count": 84,
   "metadata": {
    "colab": {
     "base_uri": "https://localhost:8080/",
     "height": 473
    },
    "id": "v3ww9CA9BCU0",
    "outputId": "21288e50-0df0-4156-e966-653f8d715121"
   },
   "outputs": [
    {
     "name": "stdout",
     "output_type": "stream",
     "text": [
      "Accuracy of Model with Cross Validation is: 49.89825302361298\n",
      "Accuracy: 0.5037627183720483\n",
      "Recall: 0.5151852562871952\n",
      "F1 Score: 0.5093669925026099\n",
      "Confusion matrix:\n",
      "Confusion matrix:\n",
      "[[12823 13222]\n",
      " [12627 13418]]\n",
      "Specificity 0.49234018045690153\n"
     ]
    },
    {
     "data": {
      "image/png": "[encoded data removed]",
      "text/plain": [
       "<Figure size 432x288 with 1 Axes>"
      ]
     },
     "metadata": {
      "needs_background": "light",
      "tags": []
     },
     "output_type": "display_data"
    },
    {
     "name": "stdout",
     "output_type": "stream",
     "text": [
      "Duration: 0:03:58.959628\n"
     ]
    }
   ],
   "source": [
    "start_time = datetime.now()\n",
    "rf = RandomForestClassifier()\n",
    "accuracy_rf = cross_val_score(rf, x_under, y_under, scoring='accuracy', cv = 10)\n",
    "print(\"Accuracy of Model with Cross Validation is:\",accuracy_rf.mean() * 100)\n",
    "\n",
    "\n",
    "y_pred = cross_val_predict(rf, x_under,y_under, cv = 10)\n",
    "y_proba = cross_val_predict(rf, x_under, y_under, cv=10, method='predict_proba')[:,1]\n",
    "acc_rf = accuracy_score(y_under,y_pred)\n",
    "recall_rf = recall_score(y_under,y_pred)\n",
    "f1_rf = f1_score(y_under,y_pred)\n",
    "print(\"Accuracy:\", acc_rf)\n",
    "print(\"Recall:\",recall_rf)\n",
    "print(\"F1 Score:\",f1_rf)\n",
    "print(\"Confusion matrix:\")\n",
    "print(\"Confusion matrix:\")\n",
    "conf = confusion_matrix(y_under,y_pred)\n",
    "print(conf)\n",
    "specificity(conf)\n",
    "\n",
    "\n",
    "\n",
    "fpr_test, tpr_test, weight_test = metrics.roc_curve(y_under, y_proba)\n",
    "roc_auc_test = metrics.roc_auc_score(y_under, y_proba)\n",
    "plt.title('ROC CURVE')\n",
    "plt.plot(fpr_test, tpr_test, '--', label = 'Test = {}'.format(roc_auc_test))\n",
    "plt.plot([0, 1], [0, 1],'r--')\n",
    "plt.legend()\n",
    "plt.ylabel('TPR')\n",
    "plt.xlabel('FPR')\n",
    "plt.show()\n",
    "\n",
    "end_time = datetime.now()\n",
    "print('Duration: {}'.format(end_time - start_time))"
   ]
  },
  {
   "cell_type": "markdown",
   "metadata": {
    "id": "9NfWp5wLQxdE"
   },
   "source": [
    "### KNeighborsClassifier"
   ]
  },
  {
   "cell_type": "code",
   "execution_count": 85,
   "metadata": {
    "colab": {
     "base_uri": "https://localhost:8080/",
     "height": 473
    },
    "id": "HXp4_ZNlBCRL",
    "outputId": "0a3a0950-742e-4eb0-9a8c-ec0164005ea5"
   },
   "outputs": [
    {
     "name": "stdout",
     "output_type": "stream",
     "text": [
      "Accuracy of Model with Cross Validation is: 49.082357458245355\n",
      "Accuracy: 0.49082357458245346\n",
      "Recall: 0.5025532731810328\n",
      "F1 Score: 0.4967268173279445\n",
      "Confusion matrix:\n",
      "Confusion matrix:\n",
      "[[12478 13567]\n",
      " [12956 13089]]\n",
      "Specificity 0.47909387598387404\n"
     ]
    },
    {
     "data": {
      "image/png": "[encoded data removed]",
      "text/plain": [
       "<Figure size 432x288 with 1 Axes>"
      ]
     },
     "metadata": {
      "needs_background": "light",
      "tags": []
     },
     "output_type": "display_data"
    },
    {
     "name": "stdout",
     "output_type": "stream",
     "text": [
      "Duration: 0:22:23.457150\n"
     ]
    }
   ],
   "source": [
    "start_time = datetime.now()\n",
    "knn = KNeighborsClassifier()\n",
    "accuracy_knn = cross_val_score(knn, x_under, y_under, scoring='accuracy', cv = 10)\n",
    "print(\"Accuracy of Model with Cross Validation is:\",accuracy_knn.mean() * 100)\n",
    "\n",
    "\n",
    "y_pred = cross_val_predict(knn, x_under,y_under, cv = 10)\n",
    "y_proba = cross_val_predict(knn, x_under, y_under, cv=10, method='predict_proba')[:,1]\n",
    "acc_knn = accuracy_score(y_under,y_pred)\n",
    "recall_knn = recall_score(y_under,y_pred)\n",
    "f1_knn = f1_score(y_under,y_pred)\n",
    "print(\"Accuracy:\", acc_knn)\n",
    "print(\"Recall:\",recall_knn)\n",
    "print(\"F1 Score:\",f1_knn)\n",
    "print(\"Confusion matrix:\")\n",
    "print(\"Confusion matrix:\")\n",
    "conf = confusion_matrix(y_under,y_pred)\n",
    "print(conf)\n",
    "specificity(conf)\n",
    "\n",
    "\n",
    "\n",
    "fpr_test, tpr_test, weight_test = metrics.roc_curve(y_under, y_proba)\n",
    "roc_auc_test = metrics.roc_auc_score(y_under, y_proba)\n",
    "plt.title('ROC CURVE')\n",
    "plt.plot(fpr_test, tpr_test, '--', label = 'Test = {}'.format(roc_auc_test))\n",
    "plt.plot([0, 1], [0, 1],'r--')\n",
    "plt.legend()\n",
    "plt.ylabel('TPR')\n",
    "plt.xlabel('FPR')\n",
    "plt.show()\n",
    "\n",
    "end_time = datetime.now()\n",
    "print('Duration: {}'.format(end_time - start_time))"
   ]
  },
  {
   "cell_type": "markdown",
   "metadata": {
    "id": "__XPY6BXQzcx"
   },
   "source": [
    "### GaussianNB"
   ]
  },
  {
   "cell_type": "code",
   "execution_count": 86,
   "metadata": {
    "colab": {
     "base_uri": "https://localhost:8080/",
     "height": 473
    },
    "id": "qkTH1vnYBCIf",
    "outputId": "b6956348-d85d-42f9-fbff-e51600e11afd"
   },
   "outputs": [
    {
     "name": "stdout",
     "output_type": "stream",
     "text": [
      "Accuracy of Model with Cross Validation is: 51.414858898061034\n",
      "Accuracy: 0.5141485889806104\n",
      "Recall: 0.3395661355346516\n",
      "F1 Score: 0.4113871057772816\n",
      "Confusion matrix:\n",
      "Confusion matrix:\n",
      "[[17938  8107]\n",
      " [17201  8844]]\n",
      "Specificity 0.6887310424265694\n"
     ]
    },
    {
     "data": {
      "image/png": "[encoded data removed]",
      "text/plain": [
       "<Figure size 432x288 with 1 Axes>"
      ]
     },
     "metadata": {
      "needs_background": "light",
      "tags": []
     },
     "output_type": "display_data"
    },
    {
     "name": "stdout",
     "output_type": "stream",
     "text": [
      "Duration: 0:00:03.239167\n"
     ]
    }
   ],
   "source": [
    "start_time = datetime.now()\n",
    "nb = GaussianNB()\n",
    "accuracy_nb = cross_val_score(nb, x_under, y_under, scoring='accuracy', cv = 10)\n",
    "print(\"Accuracy of Model with Cross Validation is:\",accuracy_nb.mean() * 100)\n",
    "\n",
    "\n",
    "y_pred = cross_val_predict(nb, x_under,y_under, cv = 10)\n",
    "y_proba = cross_val_predict(nb, x_under, y_under, cv=10, method='predict_proba')[:,1]\n",
    "acc_nb = accuracy_score(y_under,y_pred)\n",
    "recall_nb = recall_score(y_under,y_pred)\n",
    "f1_nb = f1_score(y_under,y_pred)\n",
    "print(\"Accuracy:\", acc_nb)\n",
    "print(\"Recall:\",recall_nb)\n",
    "print(\"F1 Score:\",f1_nb)\n",
    "print(\"Confusion matrix:\")\n",
    "print(\"Confusion matrix:\")\n",
    "conf = confusion_matrix(y_under,y_pred)\n",
    "print(conf)\n",
    "specificity(conf)\n",
    "\n",
    "\n",
    "\n",
    "fpr_test, tpr_test, weight_test = metrics.roc_curve(y_under, y_proba)\n",
    "roc_auc_test = metrics.roc_auc_score(y_under, y_proba)\n",
    "plt.title('ROC CURVE')\n",
    "plt.plot(fpr_test, tpr_test, '--', label = 'Test = {}'.format(roc_auc_test))\n",
    "plt.plot([0, 1], [0, 1],'r--')\n",
    "plt.legend()\n",
    "plt.ylabel('TPR')\n",
    "plt.xlabel('FPR')\n",
    "plt.show()\n",
    "\n",
    "end_time = datetime.now()\n",
    "print('Duration: {}'.format(end_time - start_time))"
   ]
  },
  {
   "cell_type": "markdown",
   "metadata": {
    "id": "_VDMGuJzQ1jA"
   },
   "source": [
    "####  Determining if there a statistically significant difference between the algorithms"
   ]
  },
  {
   "cell_type": "code",
   "execution_count": 87,
   "metadata": {
    "colab": {
     "base_uri": "https://localhost:8080/"
    },
    "id": "pzz47dcgDwXP",
    "outputId": "ff24d163-e7d0-4e77-fcd7-f8db27ed7809"
   },
   "outputs": [
    {
     "name": "stdout",
     "output_type": "stream",
     "text": [
      "DecisionTree vs MLP  \n",
      "There is no difference\n",
      "----------------------\n",
      "DecisionTree vs RandomForest  \n",
      "There is no difference\n",
      "----------------------\n",
      "DecisionTree vs KNN  \n",
      "There is no difference\n",
      "----------------------\n",
      "DecisionTree vs NaiveBayes  \n",
      "There is no difference\n",
      "----------------------\n",
      "MLP vs RandomForest  \n",
      "There is no difference\n",
      "----------------------\n",
      "MLP vs KNN  \n",
      "There is no difference\n",
      "----------------------\n",
      "MLP vs NaiveBayes  \n",
      "There is no difference\n",
      "----------------------\n",
      "RandomForest vs KNN  \n",
      "There is no difference\n",
      "----------------------\n",
      "RandomForest vs NaiveBayes  \n",
      "There is no difference\n",
      "----------------------\n",
      "KNN vs NaiveBayes  \n",
      "There is no difference\n",
      "----------------------\n"
     ]
    }
   ],
   "source": [
    "a = [accuracy_dt, accuracy_mlp, accuracy_knn, accuracy_rf, accuracy_nb]\n",
    "\n",
    "#function used to determine if there is a statisfically significant difference between the algorithms\n",
    "def comparision():\n",
    "    for i in range(len(a)):\n",
    "        for j in range(i+1, len(a)):\n",
    "            model = [\"DecisionTree\", \"MLP\", \"RandomForest\", \"KNN\", \"NaiveBayes\"]\n",
    "            print(\"{} vs {}  \" .format(model[i] ,model[j]))\n",
    "            m1 = a[i]\n",
    "            m2 = a[j]\n",
    "            t, p = stats.ttest_ind(m1,m2) #t test \n",
    "            if p <= 0.05:\n",
    "                result = True\n",
    "                print(\"There is a statistically significant difference\")\n",
    "                print(\"----------------------\")\n",
    "            else:\n",
    "                result = False\n",
    "                print(\"There is no difference\")\n",
    "                print(\"----------------------\")\n",
    "            \n",
    "        \n",
    "comparision()"
   ]
  },
  {
   "cell_type": "code",
   "execution_count": 88,
   "metadata": {
    "id": "lvkkl570DwRb"
   },
   "outputs": [],
   "source": [
    "#creating a dataframe \n",
    "df = pd.DataFrame(columns = [\"Metric\",\"KNN\", \"MLPClassifier\", \"DecisionTree\", \"NaiveBayes\", \"RandomForest\"])\n",
    "#avg = [\"Average\", accuracy_svm_bal.mean()*100, accuracy_knn_bal.mean()*100, accuracy_dt_bal.mean()*100, accuracy_nb_bal.mean()*100, accuracy_rf_bal.mean()*100, accuracy_et_bal.mean()*100]"
   ]
  },
  {
   "cell_type": "code",
   "execution_count": 91,
   "metadata": {
    "id": "steV8DWqDwK9"
   },
   "outputs": [],
   "source": [
    "Metrics = ['Accuracy', 'AUC-ROC', 'Recall','Specificity', 'F1-Score']\n",
    "\n",
    "df['KNN'] = np.round((acc_knn,0.4860,recall_knn,0.47909,f1_knn),4)\n",
    "df['DecisionTree'] = np.round((acc_dt,0.50779,recall_dt,0.52175,f1_dt),4)\n",
    "df['NaiveBayes'] = np.round((acc_nb,0.5196,recall_nb,0.6860,f1_nb),4)\n",
    "df['RandomForest'] = np.round((acc_rf,0.5006,recall_rf,0.4923,f1_rf),4)\n",
    "df['MLPClassifier'] = np.round((acc_mlp,0.50249,recall_mlp,0.4567,f1_mlp),4)\n",
    "df['Metric'] = Metrics\n"
   ]
  },
  {
   "cell_type": "code",
   "execution_count": 92,
   "metadata": {
    "colab": {
     "base_uri": "https://localhost:8080/",
     "height": 617
    },
    "id": "CFx3LqSsDwFw",
    "outputId": "c85c4534-df20-446a-a744-e262e87b0a64"
   },
   "outputs": [
    {
     "data": {
      "text/html": [
       "<html>\n",
       "<head><meta charset=\"utf-8\" /></head>\n",
       "<body>\n",
       "    <div>\n",
       "            <script src=\"https://cdnjs.cloudflare.com/ajax/libs/mathjax/2.7.5/MathJax.js?config=TeX-AMS-MML_SVG\"></script><script type=\"text/javascript\">if (window.MathJax) {MathJax.Hub.Config({SVG: {font: \"STIX-Web\"}});}</script>\n",
       "                <script type=\"text/javascript\">window.PlotlyConfig = {MathJaxConfig: 'local'};</script>\n",
       "        <script src=\"https://cdn.plot.ly/plotly-latest.min.js\"></script>    \n",
       "            <div id=\"ae758afc-7528-417d-9db2-42f44ae45aff\" class=\"plotly-graph-div\" style=\"height:600px; width:800px;\"></div>\n",
       "            <script type=\"text/javascript\">\n",
       "                \n",
       "                    window.PLOTLYENV=window.PLOTLYENV || {};\n",
       "                    \n",
       "                if (document.getElementById(\"ae758afc-7528-417d-9db2-42f44ae45aff\")) {\n",
       "                    Plotly.newPlot(\n",
       "                        'ae758afc-7528-417d-9db2-42f44ae45aff',\n",
       "                        [{\"cells\": {\"align\": \"center\", \"fill\": {\"color\": \"pink\"}, \"line\": {\"color\": \"darkslategray\"}, \"values\": [[\"Accuracy\", \"AUC-ROC\", \"Recall\", \"Specificity\", \"F1-Score\"], [0.4908, 0.486, 0.5026, 0.4791, 0.4967], [0.503, 0.5025, 0.5494, 0.4567, 0.525], [0.506, 0.5078, 0.4903, 0.5218, 0.4981], [0.5141, 0.5196, 0.3396, 0.686, 0.4114], [0.5038, 0.5006, 0.5152, 0.4923, 0.5094]]}, \"header\": {\"align\": \"center\", \"fill\": {\"color\": \"paleturquoise\"}, \"line\": {\"color\": \"darkslategray\"}, \"values\": [\"Metric\", \"KNN\", \"MLPClassifier\", \"DecisionTree\", \"NaiveBayes\", \"RandomForest\"]}, \"type\": \"table\"}],\n",
       "                        {\"height\": 600, \"template\": {\"data\": {\"bar\": [{\"error_x\": {\"color\": \"#2a3f5f\"}, \"error_y\": {\"color\": \"#2a3f5f\"}, \"marker\": {\"line\": {\"color\": \"#E5ECF6\", \"width\": 0.5}}, \"type\": \"bar\"}], \"barpolar\": [{\"marker\": {\"line\": {\"color\": \"#E5ECF6\", \"width\": 0.5}}, \"type\": \"barpolar\"}], \"carpet\": [{\"aaxis\": {\"endlinecolor\": \"#2a3f5f\", \"gridcolor\": \"white\", \"linecolor\": \"white\", \"minorgridcolor\": \"white\", \"startlinecolor\": \"#2a3f5f\"}, \"baxis\": {\"endlinecolor\": \"#2a3f5f\", \"gridcolor\": \"white\", \"linecolor\": \"white\", \"minorgridcolor\": \"white\", \"startlinecolor\": \"#2a3f5f\"}, \"type\": \"carpet\"}], \"choropleth\": [{\"colorbar\": {\"outlinewidth\": 0, \"ticks\": \"\"}, \"type\": \"choropleth\"}], \"contour\": [{\"colorbar\": {\"outlinewidth\": 0, \"ticks\": \"\"}, \"colorscale\": [[0.0, \"#0d0887\"], [0.1111111111111111, \"#46039f\"], [0.2222222222222222, \"#7201a8\"], [0.3333333333333333, \"#9c179e\"], [0.4444444444444444, \"#bd3786\"], [0.5555555555555556, \"#d8576b\"], [0.6666666666666666, \"#ed7953\"], [0.7777777777777778, \"#fb9f3a\"], [0.8888888888888888, \"#fdca26\"], [1.0, \"#f0f921\"]], \"type\": \"contour\"}], \"contourcarpet\": [{\"colorbar\": {\"outlinewidth\": 0, \"ticks\": \"\"}, \"type\": \"contourcarpet\"}], \"heatmap\": [{\"colorbar\": {\"outlinewidth\": 0, \"ticks\": \"\"}, \"colorscale\": [[0.0, \"#0d0887\"], [0.1111111111111111, \"#46039f\"], [0.2222222222222222, \"#7201a8\"], [0.3333333333333333, \"#9c179e\"], [0.4444444444444444, \"#bd3786\"], [0.5555555555555556, \"#d8576b\"], [0.6666666666666666, \"#ed7953\"], [0.7777777777777778, \"#fb9f3a\"], [0.8888888888888888, \"#fdca26\"], [1.0, \"#f0f921\"]], \"type\": \"heatmap\"}], \"heatmapgl\": [{\"colorbar\": {\"outlinewidth\": 0, \"ticks\": \"\"}, \"colorscale\": [[0.0, \"#0d0887\"], [0.1111111111111111, \"#46039f\"], [0.2222222222222222, \"#7201a8\"], [0.3333333333333333, \"#9c179e\"], [0.4444444444444444, \"#bd3786\"], [0.5555555555555556, \"#d8576b\"], [0.6666666666666666, \"#ed7953\"], [0.7777777777777778, \"#fb9f3a\"], [0.8888888888888888, \"#fdca26\"], [1.0, \"#f0f921\"]], \"type\": \"heatmapgl\"}], \"histogram\": [{\"marker\": {\"colorbar\": {\"outlinewidth\": 0, \"ticks\": \"\"}}, \"type\": \"histogram\"}], \"histogram2d\": [{\"colorbar\": {\"outlinewidth\": 0, \"ticks\": \"\"}, \"colorscale\": [[0.0, \"#0d0887\"], [0.1111111111111111, \"#46039f\"], [0.2222222222222222, \"#7201a8\"], [0.3333333333333333, \"#9c179e\"], [0.4444444444444444, \"#bd3786\"], [0.5555555555555556, \"#d8576b\"], [0.6666666666666666, \"#ed7953\"], [0.7777777777777778, \"#fb9f3a\"], [0.8888888888888888, \"#fdca26\"], [1.0, \"#f0f921\"]], \"type\": \"histogram2d\"}], \"histogram2dcontour\": [{\"colorbar\": {\"outlinewidth\": 0, \"ticks\": \"\"}, \"colorscale\": [[0.0, \"#0d0887\"], [0.1111111111111111, \"#46039f\"], [0.2222222222222222, \"#7201a8\"], [0.3333333333333333, \"#9c179e\"], [0.4444444444444444, \"#bd3786\"], [0.5555555555555556, \"#d8576b\"], [0.6666666666666666, \"#ed7953\"], [0.7777777777777778, \"#fb9f3a\"], [0.8888888888888888, \"#fdca26\"], [1.0, \"#f0f921\"]], \"type\": \"histogram2dcontour\"}], \"mesh3d\": [{\"colorbar\": {\"outlinewidth\": 0, \"ticks\": \"\"}, \"type\": \"mesh3d\"}], \"parcoords\": [{\"line\": {\"colorbar\": {\"outlinewidth\": 0, \"ticks\": \"\"}}, \"type\": \"parcoords\"}], \"pie\": [{\"automargin\": true, \"type\": \"pie\"}], \"scatter\": [{\"marker\": {\"colorbar\": {\"outlinewidth\": 0, \"ticks\": \"\"}}, \"type\": \"scatter\"}], \"scatter3d\": [{\"line\": {\"colorbar\": {\"outlinewidth\": 0, \"ticks\": \"\"}}, \"marker\": {\"colorbar\": {\"outlinewidth\": 0, \"ticks\": \"\"}}, \"type\": \"scatter3d\"}], \"scattercarpet\": [{\"marker\": {\"colorbar\": {\"outlinewidth\": 0, \"ticks\": \"\"}}, \"type\": \"scattercarpet\"}], \"scattergeo\": [{\"marker\": {\"colorbar\": {\"outlinewidth\": 0, \"ticks\": \"\"}}, \"type\": \"scattergeo\"}], \"scattergl\": [{\"marker\": {\"colorbar\": {\"outlinewidth\": 0, \"ticks\": \"\"}}, \"type\": \"scattergl\"}], \"scattermapbox\": [{\"marker\": {\"colorbar\": {\"outlinewidth\": 0, \"ticks\": \"\"}}, \"type\": \"scattermapbox\"}], \"scatterpolar\": [{\"marker\": {\"colorbar\": {\"outlinewidth\": 0, \"ticks\": \"\"}}, \"type\": \"scatterpolar\"}], \"scatterpolargl\": [{\"marker\": {\"colorbar\": {\"outlinewidth\": 0, \"ticks\": \"\"}}, \"type\": \"scatterpolargl\"}], \"scatterternary\": [{\"marker\": {\"colorbar\": {\"outlinewidth\": 0, \"ticks\": \"\"}}, \"type\": \"scatterternary\"}], \"surface\": [{\"colorbar\": {\"outlinewidth\": 0, \"ticks\": \"\"}, \"colorscale\": [[0.0, \"#0d0887\"], [0.1111111111111111, \"#46039f\"], [0.2222222222222222, \"#7201a8\"], [0.3333333333333333, \"#9c179e\"], [0.4444444444444444, \"#bd3786\"], [0.5555555555555556, \"#d8576b\"], [0.6666666666666666, \"#ed7953\"], [0.7777777777777778, \"#fb9f3a\"], [0.8888888888888888, \"#fdca26\"], [1.0, \"#f0f921\"]], \"type\": \"surface\"}], \"table\": [{\"cells\": {\"fill\": {\"color\": \"#EBF0F8\"}, \"line\": {\"color\": \"white\"}}, \"header\": {\"fill\": {\"color\": \"#C8D4E3\"}, \"line\": {\"color\": \"white\"}}, \"type\": \"table\"}]}, \"layout\": {\"annotationdefaults\": {\"arrowcolor\": \"#2a3f5f\", \"arrowhead\": 0, \"arrowwidth\": 1}, \"coloraxis\": {\"colorbar\": {\"outlinewidth\": 0, \"ticks\": \"\"}}, \"colorscale\": {\"diverging\": [[0, \"#8e0152\"], [0.1, \"#c51b7d\"], [0.2, \"#de77ae\"], [0.3, \"#f1b6da\"], [0.4, \"#fde0ef\"], [0.5, \"#f7f7f7\"], [0.6, \"#e6f5d0\"], [0.7, \"#b8e186\"], [0.8, \"#7fbc41\"], [0.9, \"#4d9221\"], [1, \"#276419\"]], \"sequential\": [[0.0, \"#0d0887\"], [0.1111111111111111, \"#46039f\"], [0.2222222222222222, \"#7201a8\"], [0.3333333333333333, \"#9c179e\"], [0.4444444444444444, \"#bd3786\"], [0.5555555555555556, \"#d8576b\"], [0.6666666666666666, \"#ed7953\"], [0.7777777777777778, \"#fb9f3a\"], [0.8888888888888888, \"#fdca26\"], [1.0, \"#f0f921\"]], \"sequentialminus\": [[0.0, \"#0d0887\"], [0.1111111111111111, \"#46039f\"], [0.2222222222222222, \"#7201a8\"], [0.3333333333333333, \"#9c179e\"], [0.4444444444444444, \"#bd3786\"], [0.5555555555555556, \"#d8576b\"], [0.6666666666666666, \"#ed7953\"], [0.7777777777777778, \"#fb9f3a\"], [0.8888888888888888, \"#fdca26\"], [1.0, \"#f0f921\"]]}, \"colorway\": [\"#636efa\", \"#EF553B\", \"#00cc96\", \"#ab63fa\", \"#FFA15A\", \"#19d3f3\", \"#FF6692\", \"#B6E880\", \"#FF97FF\", \"#FECB52\"], \"font\": {\"color\": \"#2a3f5f\"}, \"geo\": {\"bgcolor\": \"white\", \"lakecolor\": \"white\", \"landcolor\": \"#E5ECF6\", \"showlakes\": true, \"showland\": true, \"subunitcolor\": \"white\"}, \"hoverlabel\": {\"align\": \"left\"}, \"hovermode\": \"closest\", \"mapbox\": {\"style\": \"light\"}, \"paper_bgcolor\": \"white\", \"plot_bgcolor\": \"#E5ECF6\", \"polar\": {\"angularaxis\": {\"gridcolor\": \"white\", \"linecolor\": \"white\", \"ticks\": \"\"}, \"bgcolor\": \"#E5ECF6\", \"radialaxis\": {\"gridcolor\": \"white\", \"linecolor\": \"white\", \"ticks\": \"\"}}, \"scene\": {\"xaxis\": {\"backgroundcolor\": \"#E5ECF6\", \"gridcolor\": \"white\", \"gridwidth\": 2, \"linecolor\": \"white\", \"showbackground\": true, \"ticks\": \"\", \"zerolinecolor\": \"white\"}, \"yaxis\": {\"backgroundcolor\": \"#E5ECF6\", \"gridcolor\": \"white\", \"gridwidth\": 2, \"linecolor\": \"white\", \"showbackground\": true, \"ticks\": \"\", \"zerolinecolor\": \"white\"}, \"zaxis\": {\"backgroundcolor\": \"#E5ECF6\", \"gridcolor\": \"white\", \"gridwidth\": 2, \"linecolor\": \"white\", \"showbackground\": true, \"ticks\": \"\", \"zerolinecolor\": \"white\"}}, \"shapedefaults\": {\"line\": {\"color\": \"#2a3f5f\"}}, \"ternary\": {\"aaxis\": {\"gridcolor\": \"white\", \"linecolor\": \"white\", \"ticks\": \"\"}, \"baxis\": {\"gridcolor\": \"white\", \"linecolor\": \"white\", \"ticks\": \"\"}, \"bgcolor\": \"#E5ECF6\", \"caxis\": {\"gridcolor\": \"white\", \"linecolor\": \"white\", \"ticks\": \"\"}}, \"title\": {\"x\": 0.05}, \"xaxis\": {\"automargin\": true, \"gridcolor\": \"white\", \"linecolor\": \"white\", \"ticks\": \"\", \"title\": {\"standoff\": 15}, \"zerolinecolor\": \"white\", \"zerolinewidth\": 2}, \"yaxis\": {\"automargin\": true, \"gridcolor\": \"white\", \"linecolor\": \"white\", \"ticks\": \"\", \"title\": {\"standoff\": 15}, \"zerolinecolor\": \"white\", \"zerolinewidth\": 2}}}, \"width\": 800},\n",
       "                        {\"responsive\": true}\n",
       "                    ).then(function(){\n",
       "                            \n",
       "var gd = document.getElementById('ae758afc-7528-417d-9db2-42f44ae45aff');\n",
       "var x = new MutationObserver(function (mutations, observer) {{\n",
       "        var display = window.getComputedStyle(gd).display;\n",
       "        if (!display || display === 'none') {{\n",
       "            console.log([gd, 'removed!']);\n",
       "            Plotly.purge(gd);\n",
       "            observer.disconnect();\n",
       "        }}\n",
       "}});\n",
       "\n",
       "// Listen for the removal of the full notebook cells\n",
       "var notebookContainer = gd.closest('#notebook-container');\n",
       "if (notebookContainer) {{\n",
       "    x.observe(notebookContainer, {childList: true});\n",
       "}}\n",
       "\n",
       "// Listen for the clearing of the current output cell\n",
       "var outputEl = gd.closest('.output');\n",
       "if (outputEl) {{\n",
       "    x.observe(outputEl, {childList: true});\n",
       "}}\n",
       "\n",
       "                        })\n",
       "                };\n",
       "                \n",
       "            </script>\n",
       "        </div>\n",
       "</body>\n",
       "</html>"
      ]
     },
     "metadata": {
      "tags": []
     },
     "output_type": "display_data"
    }
   ],
   "source": [
    "#printing the table using plotly\n",
    "fig = go.Figure(data=[go.Table(\n",
    "    header=dict(values=list(df.columns),fill_color='paleturquoise',line_color='darkslategray',align='center'),\n",
    "    cells=dict(values=[df.Metric, df.KNN, df.MLPClassifier, df.DecisionTree, df.NaiveBayes, df.RandomForest],\n",
    "               fill_color='pink',\n",
    "               line_color='darkslategray',\n",
    "               align='center'))\n",
    "])\n",
    "\n",
    "fig.update_layout(width=800, height=600)\n",
    "fig.show()"
   ]
  },
  {
   "cell_type": "markdown",
   "metadata": {
    "id": "CIJwJbOtQ-3w"
   },
   "source": [
    "#### Summary:\n",
    "Also, we can notice from the table that no algorithm performed well on the data. The models are unable to predict the gender of the patient using the given data. However, to choose one, we can say that the MLP classifier performs better when compared to other algorithms. Apart from that, there is no significant difference between the performance of any algorithm.\n",
    "\n",
    "The given data consists of several null values which has been removed and from the data cleaning process we can conclude that the data does not consist of many outliers. We can also see that there were more than one enounter for every patient. \n",
    "\n",
    "The models perform better in case of task 1 than task 2. This might be due to the lack of data due to undersampling. Also, one limitation is that there no hyperparameter tuning performed for the models. "
   ]
  },
  {
   "cell_type": "markdown",
   "metadata": {
    "id": "96NCEj9aDv3X"
   },
   "source": [
    "#B: Semi-supervised learning & evaluation of results"
   ]
  },
  {
   "cell_type": "code",
   "execution_count": 80,
   "metadata": {
    "id": "KfYHEMCEUPV4"
   },
   "outputs": [],
   "source": [
    "### Semi supervised learning\n",
    "from sklearn.semi_supervised import LabelSpreading, LabelPropagation"
   ]
  },
  {
   "cell_type": "markdown",
   "metadata": {
    "id": "VuxgZr1ufOFd"
   },
   "source": [
    "## LabelPropagation"
   ]
  },
  {
   "cell_type": "code",
   "execution_count": 81,
   "metadata": {
    "id": "UtABWXFCI35T"
   },
   "outputs": [],
   "source": [
    "#this function is used for label propogation\n",
    "def label_prop(percentage):\n",
    "  start_time = datetime.now()\n",
    "  label_prop_model = LabelPropagation()\n",
    "\n",
    "  rng = np.random.RandomState(42)\n",
    "  random_unlabeled_points = rng.rand(len(y_under)) < percentage\n",
    "  labels = np.copy(y_under)\n",
    "  labels[random_unlabeled_points] = -1\n",
    "  accuracy_lp = cross_val_score(label_prop_model, x_under, labels, cv = 4, scoring=\"accuracy\")\n",
    "  y_pred = cross_val_predict(label_prop_model, x_under, labels, cv = 4)\n",
    "\n",
    "\n",
    "\n",
    "\n",
    "  y_proba = cross_val_predict(label_prop_model, x_under, labels, cv=4, method='predict_proba')[:,1]\n",
    "  acc_lp = accuracy_score(y_under,y_pred)\n",
    "  recall_lp = recall_score(y_under,y_pred)\n",
    "  f1_lp = f1_score(y_under,y_pred)\n",
    "  print(\"Accuracy:\", acc_lp)\n",
    "  print(\"Recall:\",recall_lp)\n",
    "  print(\"F1 Score:\",f1_lp)\n",
    "  print(\"Confusion matrix:\")\n",
    "  print(\"Confusion matrix:\")\n",
    "  conf = confusion_matrix(y_under,y_pred)\n",
    "  print(conf)\n",
    "  spec_lp = specificity(conf)\n",
    "\n",
    "\n",
    "\n",
    "  fpr_test, tpr_test, weight_test = metrics.roc_curve(y_under, y_proba)\n",
    "  roc_auc_test_lp = metrics.roc_auc_score(y_under, y_proba)\n",
    "  plt.title('ROC CURVE')\n",
    "  plt.plot(fpr_test, tpr_test, '--', label = 'Test = {}'.format(roc_auc_test_lp))\n",
    "  plt.plot([0, 1], [0, 1],'r--')\n",
    "  plt.legend()\n",
    "  plt.ylabel('TPR')\n",
    "  plt.xlabel('FPR')\n",
    "  plt.show()\n",
    "  \n",
    "  end_time = datetime.now()\n",
    "  print('Duration: {}'.format(end_time - start_time))\n",
    "  return accuracy_lp,acc_lp,recall_lp,f1_lp,roc_auc_test_lp,spec_lp"
   ]
  },
  {
   "cell_type": "code",
   "execution_count": 82,
   "metadata": {
    "colab": {
     "base_uri": "https://localhost:8080/",
     "height": 455
    },
    "id": "K91p5i5o9MiG",
    "outputId": "7b005086-81de-4c94-d9cc-d7bd14cf5666",
    "scrolled": false
   },
   "outputs": [
    {
     "name": "stdout",
     "output_type": "stream",
     "text": [
      "Accuracy: 0.7366381879594676\n",
      "Recall: 0.6604410888138287\n",
      "F1 Score: 0.7149155823206795\n",
      "Confusion matrix:\n",
      "Confusion matrix:\n",
      "[[4091  942]\n",
      " [1709 3324]]\n",
      "Specificity 0.8128352871051063\n"
     ]
    },
    {
     "data": {
      "image/png": "[encoded data removed]",
      "text/plain": [
       "<Figure size 432x288 with 1 Axes>"
      ]
     },
     "metadata": {
      "needs_background": "light",
      "tags": []
     },
     "output_type": "display_data"
    },
    {
     "name": "stdout",
     "output_type": "stream",
     "text": [
      "Duration: 0:00:32.052732\n"
     ]
    }
   ],
   "source": [
    "#0% unlablled data\n",
    "acc_0,acc_lp0,recall_lp0,f1_lp0,roc_auc_test_lp0,spec_lp0 = label_prop(0.0)"
   ]
  },
  {
   "cell_type": "code",
   "execution_count": 83,
   "metadata": {
    "colab": {
     "base_uri": "https://localhost:8080/",
     "height": 455
    },
    "id": "KiGrte_j9UUO",
    "outputId": "cb4f10cb-5d9f-43d8-ebf1-3dde713e98fd",
    "scrolled": false
   },
   "outputs": [
    {
     "name": "stdout",
     "output_type": "stream",
     "text": [
      "Accuracy: 0.7335585138088615\n",
      "Recall: 0.6558712497516391\n",
      "F1 Score: 0.7111158983196897\n",
      "Confusion matrix:\n",
      "Confusion matrix:\n",
      "[[4083  950]\n",
      " [1732 3301]]\n",
      "Specificity 0.8112457778660839\n"
     ]
    },
    {
     "data": {
      "image/png": "[encoded data removed]",
      "text/plain": [
       "<Figure size 432x288 with 1 Axes>"
      ]
     },
     "metadata": {
      "needs_background": "light",
      "tags": []
     },
     "output_type": "display_data"
    },
    {
     "name": "stdout",
     "output_type": "stream",
     "text": [
      "Duration: 0:02:57.986339\n"
     ]
    }
   ],
   "source": [
    "# 10% unlablled data\n",
    "acc_1,acc_lp1,recall_lp1,f1_lp1,roc_auc_test_lp1,spec_lp1 = label_prop(0.1)"
   ]
  },
  {
   "cell_type": "code",
   "execution_count": 84,
   "metadata": {
    "colab": {
     "base_uri": "https://localhost:8080/",
     "height": 455
    },
    "id": "G8fdMrfU9Vdr",
    "outputId": "cdef5eab-0015-4d96-da2c-de79a711cfc7"
   },
   "outputs": [
    {
     "name": "stdout",
     "output_type": "stream",
     "text": [
      "Accuracy: 0.7296840850387443\n",
      "Recall: 0.6459368170077489\n",
      "F1 Score: 0.704976688713\n",
      "Confusion matrix:\n",
      "Confusion matrix:\n",
      "[[4094  939]\n",
      " [1782 3251]]\n",
      "Specificity 0.8134313530697397\n"
     ]
    },
    {
     "data": {
      "image/png": "[encoded data removed]",
      "text/plain": [
       "<Figure size 432x288 with 1 Axes>"
      ]
     },
     "metadata": {
      "needs_background": "light",
      "tags": []
     },
     "output_type": "display_data"
    },
    {
     "name": "stdout",
     "output_type": "stream",
     "text": [
      "Duration: 0:04:55.658072\n"
     ]
    }
   ],
   "source": [
    " #20% unlablled data\n",
    " acc_2,acc_lp2,recall_lp2,f1_lp2,roc_auc_test_lp2,spec_lp2 = label_prop(0.2)"
   ]
  },
  {
   "cell_type": "code",
   "execution_count": 85,
   "metadata": {
    "colab": {
     "base_uri": "https://localhost:8080/",
     "height": 455
    },
    "id": "Qci3apEx9WwJ",
    "outputId": "9d4ffbad-59b8-4ac8-841d-36e0b1cf71a2"
   },
   "outputs": [
    {
     "name": "stdout",
     "output_type": "stream",
     "text": [
      "Accuracy: 0.7195509636399762\n",
      "Recall: 0.6113649910590105\n",
      "F1 Score: 0.6855296869778322\n",
      "Confusion matrix:\n",
      "Confusion matrix:\n",
      "[[4166  867]\n",
      " [1956 3077]]\n",
      "Specificity 0.8277369362209418\n"
     ]
    },
    {
     "data": {
      "image/png": "[encoded data removed]",
      "text/plain": [
       "<Figure size 432x288 with 1 Axes>"
      ]
     },
     "metadata": {
      "needs_background": "light",
      "tags": []
     },
     "output_type": "display_data"
    },
    {
     "name": "stdout",
     "output_type": "stream",
     "text": [
      "Duration: 0:08:24.591078\n"
     ]
    }
   ],
   "source": [
    "# 50% unlablled data\n",
    "acc_5,acc_lp5,recall_lp5,f1_lp5,roc_auc_test_lp5,spec_lp5 = label_prop(0.5)"
   ]
  },
  {
   "cell_type": "code",
   "execution_count": 86,
   "metadata": {
    "colab": {
     "base_uri": "https://localhost:8080/",
     "height": 455
    },
    "id": "iv4Erdio9YJC",
    "outputId": "e87eac15-bd80-4837-de22-5f0f9b252855"
   },
   "outputs": [
    {
     "name": "stdout",
     "output_type": "stream",
     "text": [
      "Accuracy: 0.6794158553546592\n",
      "Recall: 0.5364593681700774\n",
      "F1 Score: 0.6259418105946447\n",
      "Confusion matrix:\n",
      "Confusion matrix:\n",
      "[[4139  894]\n",
      " [2333 2700]]\n",
      "Specificity 0.822372342539241\n"
     ]
    },
    {
     "data": {
      "image/png": "[encoded data removed]",
      "text/plain": [
       "<Figure size 432x288 with 1 Axes>"
      ]
     },
     "metadata": {
      "needs_background": "light",
      "tags": []
     },
     "output_type": "display_data"
    },
    {
     "name": "stdout",
     "output_type": "stream",
     "text": [
      "Duration: 0:08:23.509607\n"
     ]
    }
   ],
   "source": [
    "# 90% unlablled data\n",
    "acc_9,acc_lp9,recall_lp9,f1_lp9,roc_auc_test_lp9,spec_lp9 = label_prop(0.9)"
   ]
  },
  {
   "cell_type": "code",
   "execution_count": 87,
   "metadata": {
    "colab": {
     "base_uri": "https://localhost:8080/",
     "height": 455
    },
    "id": "dF7msKUx9ZYT",
    "outputId": "a2334f12-a1d2-4190-8eb8-20b42ae5753d"
   },
   "outputs": [
    {
     "name": "stdout",
     "output_type": "stream",
     "text": [
      "Accuracy: 0.6626266640174846\n",
      "Recall: 0.4913570435128154\n",
      "F1 Score: 0.5929033804842962\n",
      "Confusion matrix:\n",
      "Confusion matrix:\n",
      "[[4197  836]\n",
      " [2560 2473]]\n",
      "Specificity 0.8338962845221538\n"
     ]
    },
    {
     "data": {
      "image/png": "[encoded data removed]",
      "text/plain": [
       "<Figure size 432x288 with 1 Axes>"
      ]
     },
     "metadata": {
      "needs_background": "light",
      "tags": []
     },
     "output_type": "display_data"
    },
    {
     "name": "stdout",
     "output_type": "stream",
     "text": [
      "Duration: 0:08:24.244529\n"
     ]
    }
   ],
   "source": [
    "# 95% unlablled data\n",
    "acc_95,acc_lp95,recall_lp95,f1_lp95,roc_auc_test_lp95,spec_lp95 = label_prop(0.95)"
   ]
  },
  {
   "cell_type": "markdown",
   "metadata": {
    "id": "EN2bYOs5fVuL"
   },
   "source": [
    "##LabelSpreading"
   ]
  },
  {
   "cell_type": "code",
   "execution_count": 88,
   "metadata": {
    "id": "UFsQF2v99h3_"
   },
   "outputs": [],
   "source": [
    "#this function is used for label spreading\n",
    "def label_spread(percentage):\n",
    "  start_time = datetime.now()\n",
    "  label_prop_model = LabelSpreading()\n",
    "\n",
    "  rng = np.random.RandomState(42)\n",
    "  random_unlabeled_points = rng.rand(len(y_under)) < percentage\n",
    "  labels = np.copy(y_under)\n",
    "  labels[random_unlabeled_points] = -1\n",
    "  accuracy_lp = cross_val_score(label_prop_model, x_under, labels, cv = 4, scoring=\"accuracy\")\n",
    "  y_pred = cross_val_predict(label_prop_model, x_under, labels, cv = 4)\n",
    "  print(accuracy_lp)\n",
    "\n",
    "  y_proba = cross_val_predict(label_prop_model, x_under, labels, cv=4, method='predict_proba')[:,1]\n",
    "  acc_lp = accuracy_score(y_under,y_pred)\n",
    "  recall_lp = recall_score(y_under,y_pred)\n",
    "  f1_lp = f1_score(y_under,y_pred)\n",
    "  print(\"Accuracy:\", acc_lp)\n",
    "  print(\"Recall:\",recall_lp)\n",
    "  print(\"F1 Score:\",f1_lp)\n",
    "  print(\"Confusion matrix:\")\n",
    "  print(\"Confusion matrix:\")\n",
    "  conf = confusion_matrix(y_under,y_pred)\n",
    "  print(conf)\n",
    "  spec = specificity(conf)\n",
    "\n",
    "\n",
    "\n",
    "  fpr_test, tpr_test, weight_test = metrics.roc_curve(y_under, y_proba)\n",
    "  roc_auc_test = metrics.roc_auc_score(y_under, y_proba)\n",
    "  plt.title('ROC CURVE')\n",
    "  plt.plot(fpr_test, tpr_test, '--', label = 'Test = {}'.format(roc_auc_test))\n",
    "  plt.plot([0, 1], [0, 1],'r--')\n",
    "  plt.legend()\n",
    "  plt.ylabel('TPR')\n",
    "  plt.xlabel('FPR')\n",
    "  plt.show()\n",
    "  end_time = datetime.now()\n",
    "  print('Duration: {}'.format(end_time - start_time))\n",
    "  return accuracy_lp,acc_lp,recall_lp,f1_lp,roc_auc_test,spec"
   ]
  },
  {
   "cell_type": "code",
   "execution_count": 89,
   "metadata": {
    "colab": {
     "base_uri": "https://localhost:8080/",
     "height": 473
    },
    "id": "BZURNXJtSacX",
    "outputId": "76216c53-925e-45af-e78c-76283ce1f4f2"
   },
   "outputs": [
    {
     "name": "stdout",
     "output_type": "stream",
     "text": [
      "[0.72069925 0.76519666 0.75397456 0.71303657]\n",
      "Accuracy: 0.73822769719849\n",
      "Recall: 0.6600437115040731\n",
      "F1 Score: 0.7160254337751913\n",
      "Confusion matrix:\n",
      "Confusion matrix:\n",
      "[[4109  924]\n",
      " [1711 3322]]\n",
      "Specificity 0.8164116828929068\n"
     ]
    },
    {
     "data": {
      "image/png": "[encoded data removed]",
      "text/plain": [
       "<Figure size 432x288 with 1 Axes>"
      ]
     },
     "metadata": {
      "needs_background": "light",
      "tags": []
     },
     "output_type": "display_data"
    },
    {
     "name": "stdout",
     "output_type": "stream",
     "text": [
      "Duration: 0:00:41.662046\n"
     ]
    }
   ],
   "source": [
    "acc_ls_0, acc_ls0,recall_ls0,f1_ls0,roc_auc_test_ls0,spec0 = label_spread(0.0)"
   ]
  },
  {
   "cell_type": "code",
   "execution_count": 109,
   "metadata": {
    "colab": {
     "base_uri": "https://localhost:8080/",
     "height": 473
    },
    "id": "7sZOMBq-SgAW",
    "outputId": "a2c7c5f8-47ee-4fe7-d1d2-d445284581c6"
   },
   "outputs": [
    {
     "name": "stdout",
     "output_type": "stream",
     "text": [
      "[0.64839094 0.6829559  0.67249603 0.63751987]\n",
      "Accuracy: 0.7375322869064176\n",
      "Recall: 0.6638187959467514\n",
      "F1 Score: 0.7166452166452166\n",
      "Confusion matrix:\n",
      "Confusion matrix:\n",
      "[[4083  950]\n",
      " [1692 3341]]\n",
      "Specificity 0.8112457778660839\n"
     ]
    },
    {
     "data": {
      "image/png": "[encoded data removed]",
      "text/plain": [
       "<Figure size 432x288 with 1 Axes>"
      ]
     },
     "metadata": {
      "needs_background": "light",
      "tags": []
     },
     "output_type": "display_data"
    },
    {
     "name": "stdout",
     "output_type": "stream",
     "text": [
      "Duration: 0:00:42.482917\n"
     ]
    }
   ],
   "source": [
    "acc_ls_1, acc_ls1,recall_ls1,f1_ls1,roc_auc_test_ls1,spec1 = label_spread(0.1)"
   ]
  },
  {
   "cell_type": "code",
   "execution_count": 110,
   "metadata": {
    "colab": {
     "base_uri": "https://localhost:8080/",
     "height": 473
    },
    "id": "0jWh_zqASjKc",
    "outputId": "57a09552-463f-4415-f053-b085951abc96"
   },
   "outputs": [
    {
     "name": "stdout",
     "output_type": "stream",
     "text": [
      "[0.57608264 0.59634485 0.59578696 0.55564388]\n",
      "Accuracy: 0.734055235446056\n",
      "Recall: 0.6578581363004172\n",
      "F1 Score: 0.7121195827508333\n",
      "Confusion matrix:\n",
      "Confusion matrix:\n",
      "[[4078  955]\n",
      " [1722 3311]]\n",
      "Specificity 0.8102523345916948\n"
     ]
    },
    {
     "data": {
      "image/png": "[encoded data removed]",
      "text/plain": [
       "<Figure size 432x288 with 1 Axes>"
      ]
     },
     "metadata": {
      "needs_background": "light",
      "tags": []
     },
     "output_type": "display_data"
    },
    {
     "name": "stdout",
     "output_type": "stream",
     "text": [
      "Duration: 0:00:42.538483\n"
     ]
    }
   ],
   "source": [
    "acc_ls_2, acc_ls2,recall_ls2,f1_ls2,roc_auc_test_ls2,spec2 = label_spread(0.2)"
   ]
  },
  {
   "cell_type": "code",
   "execution_count": 111,
   "metadata": {
    "colab": {
     "base_uri": "https://localhost:8080/",
     "height": 473
    },
    "id": "-AtM6wPiSkSR",
    "outputId": "96caadba-eba1-4907-f3fc-0acdb376a2dd"
   },
   "outputs": [
    {
     "name": "stdout",
     "output_type": "stream",
     "text": [
      "[0.35677394 0.35717124 0.36248013 0.33267091]\n",
      "Accuracy: 0.7216371945161931\n",
      "Recall: 0.6435525531492152\n",
      "F1 Score: 0.6980603448275863\n",
      "Confusion matrix:\n",
      "Confusion matrix:\n",
      "[[4025 1008]\n",
      " [1794 3239]]\n",
      "Specificity 0.799721835883171\n"
     ]
    },
    {
     "data": {
      "image/png": "[encoded data removed]",
      "text/plain": [
       "<Figure size 432x288 with 1 Axes>"
      ]
     },
     "metadata": {
      "needs_background": "light",
      "tags": []
     },
     "output_type": "display_data"
    },
    {
     "name": "stdout",
     "output_type": "stream",
     "text": [
      "Duration: 0:00:42.299922\n"
     ]
    }
   ],
   "source": [
    "acc_ls_5, acc_ls5,recall_ls5,f1_ls5,roc_auc_test_ls5,spec5 = label_spread(0.5)"
   ]
  },
  {
   "cell_type": "code",
   "execution_count": 112,
   "metadata": {
    "colab": {
     "base_uri": "https://localhost:8080/",
     "height": 473
    },
    "id": "LF4DExZJSlCL",
    "outputId": "e5d77198-a4e3-434c-edf5-23e82b541488"
   },
   "outputs": [
    {
     "name": "stdout",
     "output_type": "stream",
     "text": [
      "[0.07191101 0.06158125 0.06478537 0.06120827]\n",
      "Accuracy: 0.693026028213789\n",
      "Recall: 0.601629246969998\n",
      "F1 Score: 0.6621473868357752\n",
      "Confusion matrix:\n",
      "Confusion matrix:\n",
      "[[3948 1085]\n",
      " [2005 3028]]\n",
      "Specificity 0.7844228094575799\n"
     ]
    },
    {
     "data": {
      "image/png": "[encoded data removed]",
      "text/plain": [
       "<Figure size 432x288 with 1 Axes>"
      ]
     },
     "metadata": {
      "needs_background": "light",
      "tags": []
     },
     "output_type": "display_data"
    },
    {
     "name": "stdout",
     "output_type": "stream",
     "text": [
      "Duration: 0:00:42.120000\n"
     ]
    }
   ],
   "source": [
    "acc_ls_9, acc_ls9,recall_ls9,f1_ls9,roc_auc_test_ls9,spec9 = label_spread(0.9)"
   ]
  },
  {
   "cell_type": "code",
   "execution_count": 113,
   "metadata": {
    "colab": {
     "base_uri": "https://localhost:8080/",
     "height": 473
    },
    "id": "MQTEYcjxSoKY",
    "outputId": "10eefb5c-7aa9-4532-fa4a-b8a15ef82deb"
   },
   "outputs": [
    {
     "name": "stdout",
     "output_type": "stream",
     "text": [
      "[0.03496226 0.02820818 0.03338633 0.0317965 ]\n",
      "Accuracy: 0.6715676534869859\n",
      "Recall: 0.5579177428968806\n",
      "F1 Score: 0.6294552790854069\n",
      "Confusion matrix:\n",
      "Confusion matrix:\n",
      "[[3952 1081]\n",
      " [2225 2808]]\n",
      "Specificity 0.7852175640770912\n"
     ]
    },
    {
     "data": {
      "image/png": "[encoded data removed]",
      "text/plain": [
       "<Figure size 432x288 with 1 Axes>"
      ]
     },
     "metadata": {
      "needs_background": "light",
      "tags": []
     },
     "output_type": "display_data"
    },
    {
     "name": "stdout",
     "output_type": "stream",
     "text": [
      "Duration: 0:00:41.625920\n"
     ]
    }
   ],
   "source": [
    "acc_ls_95, acc_ls95,recall_ls95,f1_ls95,roc_auc_test_ls95,spec95 = label_spread(0.95)"
   ]
  },
  {
   "cell_type": "markdown",
   "metadata": {
    "id": "u3Dq5SzE9-Cl"
   },
   "source": [
    "## Self training"
   ]
  },
  {
   "cell_type": "code",
   "execution_count": 72,
   "metadata": {
    "id": "LiLOgaft999o"
   },
   "outputs": [],
   "source": [
    "def self_traning(percent):\n",
    "  model1 = RandomForestClassifier()\n",
    "  if(percent == 0):\n",
    "    start_time = datetime.now()\n",
    "    acc_self = cross_val_score(model1, x_under, y_under, scoring = \"accuracy\", cv = 4)\n",
    "    y_pred = cross_val_predict(model1, x_under, y_under, cv = 4)\n",
    "    y_proba = cross_val_predict(model1, x_under, y_under, cv=4, method='predict_proba')[:,1]\n",
    "    acc_st = accuracy_score(y_under,y_pred)\n",
    "    recall_st = recall_score(y_under,y_pred)\n",
    "    f1_st = f1_score(y_under,y_pred)\n",
    "    print(\"Accuracy:\", acc_st)\n",
    "    print(\"Recall:\",recall_st)\n",
    "    print(\"F1 Score:\",f1_st)\n",
    "    print(\"Confusion matrix:\")\n",
    "   \n",
    "    conf = confusion_matrix(y_under,y_pred)\n",
    "    print(conf)\n",
    "    spec_st = specificity(conf)\n",
    "\n",
    "\n",
    "\n",
    "    fpr_test, tpr_test, weight_test = metrics.roc_curve(y_under, y_proba)\n",
    "    roc_auc_test_st = metrics.roc_auc_score(y_under, y_proba)\n",
    "    plt.title('ROC CURVE')\n",
    "    plt.plot(fpr_test, tpr_test, '--', label = 'Test = {}'.format(roc_auc_test_st))\n",
    "    plt.plot([0, 1], [0, 1],'r--')\n",
    "    plt.legend()\n",
    "    plt.ylabel('TPR')\n",
    "    plt.xlabel('FPR')\n",
    "    plt.show()\n",
    "    end_time = datetime.now()\n",
    "    print('Duration: {}'.format(end_time - start_time))\n",
    "    return acc_self,acc_st,recall_st,f1_st,roc_auc_test_st,spec_st\n",
    "  \n",
    "  else:\n",
    "    counter = 0\n",
    "    x_train, x_test, y_train, _ = train_test_split(x_under, y_under, test_size=percent, random_state=1)\n",
    "    start_time = datetime.now()\n",
    "    \n",
    "\n",
    "    while(counter < 100):\n",
    "    \n",
    "      \n",
    "    \n",
    "      model1.fit(x_train,y_train)\n",
    "\n",
    "      y_pred = model1.predict(x_test)\n",
    "      \n",
    "      y_pred_prob = model1.predict_proba(x_test)[:,1]\n",
    "      a = np.where((y_pred_prob > 0.99))\n",
    "      a = np.array(a[0])\n",
    "      x_test1 = x_test.iloc[a]\n",
    "      y_pred = np.array(y_pred)[a]\n",
    "      \n",
    "      x_test = pd.concat([x_test, x_test1]).drop_duplicates(keep=False)\n",
    "      final_X = pd.concat([x_train,x_test1])\n",
    "      final_Y = np.concatenate((y_train,y_pred))\n",
    "    \n",
    "      counter+= 1\n",
    "      x_train = final_X\n",
    "      y_train = final_Y\n",
    "\n",
    "\n",
    "\n",
    "\n",
    "    acc_self = cross_val_score(model1, x_train, y_train, scoring = \"accuracy\", cv = 4)\n",
    "    y_pred = cross_val_predict(model1, x_train, y_train, cv = 4)\n",
    "    y_proba = cross_val_predict(model1, x_train, y_train, cv=4, method='predict_proba')[:,1]\n",
    "    acc_st = accuracy_score(y_train,y_pred)\n",
    "    recall_st = recall_score(y_train,y_pred)\n",
    "    f1_st = f1_score(y_train,y_pred)\n",
    "    print(\"Accuracy:\", acc_st)\n",
    "    print(\"Recall:\",recall_st)\n",
    "    print(\"F1 Score:\",f1_st)\n",
    "    print(\"Confusion matrix:\")\n",
    "    \n",
    "    conf = confusion_matrix(y_train,y_pred)\n",
    "    print(conf)\n",
    "    spec_st = specificity(conf)\n",
    "\n",
    "\n",
    "\n",
    "    fpr_test, tpr_test, weight_test = metrics.roc_curve(y_train, y_proba)\n",
    "    roc_auc_test_st = metrics.roc_auc_score(y_train, y_proba)\n",
    "    plt.title('ROC CURVE')\n",
    "    plt.plot(fpr_test, tpr_test, '--', label = 'Test = {}'.format(roc_auc_test_st))\n",
    "    plt.plot([0, 1], [0, 1],'r--')\n",
    "    plt.legend()\n",
    "    plt.ylabel('TPR')\n",
    "    plt.xlabel('FPR')\n",
    "    plt.show()\n",
    " \n",
    "    \n",
    "    end_time = datetime.now()\n",
    "    print('Duration: {}'.format(end_time - start_time))\n",
    "    return acc_self,acc_st,recall_st,f1_st,roc_auc_test_st,spec_st\n",
    "\n"
   ]
  },
  {
   "cell_type": "code",
   "execution_count": 73,
   "metadata": {
    "colab": {
     "base_uri": "https://localhost:8080/",
     "height": 437
    },
    "id": "Jl1f3Je9KqS8",
    "outputId": "5a4c3905-ee4d-40b6-8cdd-5a010eeffb88"
   },
   "outputs": [
    {
     "name": "stdout",
     "output_type": "stream",
     "text": [
      "Accuracy: 0.858334989072124\n",
      "Recall: 0.7750844426783231\n",
      "F1 Score: 0.8454703077589945\n",
      "Confusion matrix:\n",
      "[[4739  294]\n",
      " [1132 3901]]\n",
      "Specificity 0.9415855354659249\n"
     ]
    },
    {
     "data": {
      "image/png": "[encoded data removed]",
      "text/plain": [
       "<Figure size 432x288 with 1 Axes>"
      ]
     },
     "metadata": {
      "needs_background": "light",
      "tags": []
     },
     "output_type": "display_data"
    },
    {
     "name": "stdout",
     "output_type": "stream",
     "text": [
      "Duration: 0:00:11.818264\n"
     ]
    }
   ],
   "source": [
    "acc_self_0, acc_st0,recall_st0,f1_st0,roc_auc_test_st0,spec_st0 = self_traning(0)"
   ]
  },
  {
   "cell_type": "code",
   "execution_count": 74,
   "metadata": {
    "colab": {
     "base_uri": "https://localhost:8080/",
     "height": 437
    },
    "id": "Y_R5vBcdL6kH",
    "outputId": "c424cb58-a159-4181-842e-398d70a06f64"
   },
   "outputs": [
    {
     "name": "stdout",
     "output_type": "stream",
     "text": [
      "Accuracy: 0.875886524822695\n",
      "Recall: 0.7979057591623037\n",
      "F1 Score: 0.8683760683760683\n",
      "Confusion matrix:\n",
      "[[4341  190]\n",
      " [ 965 3810]]\n",
      "Specificity 0.9580666519532112\n"
     ]
    },
    {
     "data": {
      "image/png": "[encoded data removed]",
      "text/plain": [
       "<Figure size 432x288 with 1 Axes>"
      ]
     },
     "metadata": {
      "needs_background": "light",
      "tags": []
     },
     "output_type": "display_data"
    },
    {
     "name": "stdout",
     "output_type": "stream",
     "text": [
      "Duration: 0:02:11.421509\n"
     ]
    }
   ],
   "source": [
    "acc_self_1, acc_st1,recall_st1,f1_st1,roc_auc_test_st1,spec_st1 = self_traning(0.1)"
   ]
  },
  {
   "cell_type": "code",
   "execution_count": 75,
   "metadata": {
    "colab": {
     "base_uri": "https://localhost:8080/",
     "height": 437
    },
    "id": "MK6ymj362-S5",
    "outputId": "be5af0d7-90f6-4bc8-9610-9860b2c3886d"
   },
   "outputs": [
    {
     "name": "stdout",
     "output_type": "stream",
     "text": [
      "Accuracy: 0.8751758087201125\n",
      "Recall: 0.8046408839779006\n",
      "F1 Score: 0.8724092488319157\n",
      "Confusion matrix:\n",
      "[[3826  181]\n",
      " [ 884 3641]]\n",
      "Specificity 0.954829049163963\n"
     ]
    },
    {
     "data": {
      "image/png": "[encoded data removed]",
      "text/plain": [
       "<Figure size 432x288 with 1 Axes>"
      ]
     },
     "metadata": {
      "needs_background": "light",
      "tags": []
     },
     "output_type": "display_data"
    },
    {
     "name": "stdout",
     "output_type": "stream",
     "text": [
      "Duration: 0:02:02.750234\n"
     ]
    }
   ],
   "source": [
    "acc_self_2, acc_st2,recall_st2,f1_st2,roc_auc_test_st2,spec_st2 = self_traning(0.2)"
   ]
  },
  {
   "cell_type": "code",
   "execution_count": 76,
   "metadata": {
    "colab": {
     "base_uri": "https://localhost:8080/",
     "height": 437
    },
    "id": "hoosM7s64_aA",
    "outputId": "873cf490-1654-4dc7-836e-bddeae10f4f7"
   },
   "outputs": [
    {
     "name": "stdout",
     "output_type": "stream",
     "text": [
      "Accuracy: 0.8846466287571081\n",
      "Recall: 0.8390457910611462\n",
      "F1 Score: 0.8960468521229868\n",
      "Confusion matrix:\n",
      "[[2385  123]\n",
      " [ 587 3060]]\n",
      "Specificity 0.9509569377990431\n"
     ]
    },
    {
     "data": {
      "image/png": "[encoded data removed]",
      "text/plain": [
       "<Figure size 432x288 with 1 Axes>"
      ]
     },
     "metadata": {
      "needs_background": "light",
      "tags": []
     },
     "output_type": "display_data"
    },
    {
     "name": "stdout",
     "output_type": "stream",
     "text": [
      "Duration: 0:01:36.460161\n"
     ]
    }
   ],
   "source": [
    "acc_self_5, acc_st5,recall_st5,f1_st5,roc_auc_test_st5,spec_st5 = self_traning(0.5)"
   ]
  },
  {
   "cell_type": "code",
   "execution_count": 77,
   "metadata": {
    "colab": {
     "base_uri": "https://localhost:8080/",
     "height": 437
    },
    "id": "V35k8x9m5BzX",
    "outputId": "9e19f905-89ca-492d-dd3f-46596ac39555"
   },
   "outputs": [
    {
     "name": "stdout",
     "output_type": "stream",
     "text": [
      "Accuracy: 0.8974260468689973\n",
      "Recall: 0.9014218009478673\n",
      "F1 Score: 0.9344141488577745\n",
      "Confusion matrix:\n",
      "[[ 434   59]\n",
      " [ 208 1902]]\n",
      "Specificity 0.8803245436105477\n"
     ]
    },
    {
     "data": {
      "image/png": "[encoded data removed]",
      "text/plain": [
       "<Figure size 432x288 with 1 Axes>"
      ]
     },
     "metadata": {
      "needs_background": "light",
      "tags": []
     },
     "output_type": "display_data"
    },
    {
     "name": "stdout",
     "output_type": "stream",
     "text": [
      "Duration: 0:00:57.221761\n"
     ]
    }
   ],
   "source": [
    "acc_self_9, acc_st9,recall_st9,f1_st9,roc_auc_test_st9,spec_st9 = self_traning(0.9)"
   ]
  },
  {
   "cell_type": "code",
   "execution_count": 78,
   "metadata": {
    "colab": {
     "base_uri": "https://localhost:8080/",
     "height": 437
    },
    "id": "H5gXoKT_5EpH",
    "outputId": "931c927a-06e9-4700-f257-af12e2c686ac"
   },
   "outputs": [
    {
     "name": "stdout",
     "output_type": "stream",
     "text": [
      "Accuracy: 0.9271457085828343\n",
      "Recall: 0.9390313390313391\n",
      "F1 Score: 0.957582800697269\n",
      "Confusion matrix:\n",
      "[[ 210   39]\n",
      " [ 107 1648]]\n",
      "Specificity 0.8433734939759037\n"
     ]
    },
    {
     "data": {
      "image/png": "[encoded data removed]",
      "text/plain": [
       "<Figure size 432x288 with 1 Axes>"
      ]
     },
     "metadata": {
      "needs_background": "light",
      "tags": []
     },
     "output_type": "display_data"
    },
    {
     "name": "stdout",
     "output_type": "stream",
     "text": [
      "Duration: 0:00:50.487731\n"
     ]
    }
   ],
   "source": [
    "acc_self_95, acc_st95,recall_st95,f1_st95,roc_auc_test_st95,spec_st95 = self_traning(0.95)"
   ]
  },
  {
   "cell_type": "code",
   "execution_count": 97,
   "metadata": {
    "colab": {
     "base_uri": "https://localhost:8080/"
    },
    "id": "PlQmrWbQ5G_J",
    "outputId": "f3e26996-e4af-4e43-a992-c52858923f56"
   },
   "outputs": [
    {
     "name": "stdout",
     "output_type": "stream",
     "text": [
      "************************************************\n",
      "Comaparing Label Propogration and Label spreading\n",
      "************************************************\n",
      "Comparision of 0 percentage\n",
      "There is no difference\n",
      "----------------------\n",
      "Comparision of 10 percentage\n",
      "There is no difference\n",
      "----------------------\n",
      "Comparision of 20 percentage\n",
      "There is no difference\n",
      "----------------------\n",
      "Comparision of 50 percentage\n",
      "There is no difference\n",
      "----------------------\n",
      "Comparision of 90 percentage\n",
      "There is no difference\n",
      "----------------------\n",
      "Comparision of 95 percentage\n",
      "There is no difference\n",
      "----------------------\n",
      "************************************************\n",
      "Comaparing Label Propogration and Self Training\n",
      "************************************************\n",
      "Comparision of 0 percentage\n",
      "There is a statistically significant difference\n",
      "----------------------\n",
      "Comparision of 10 percentage\n",
      "There is a statistically significant difference\n",
      "----------------------\n",
      "Comparision of 20 percentage\n",
      "There is a statistically significant difference\n",
      "----------------------\n",
      "Comparision of 50 percentage\n",
      "There is a statistically significant difference\n",
      "----------------------\n",
      "Comparision of 90 percentage\n",
      "There is a statistically significant difference\n",
      "----------------------\n",
      "Comparision of 95 percentage\n",
      "There is a statistically significant difference\n",
      "----------------------\n",
      "************************************************\n",
      "Comaparing Label Spreading and Self Training\n",
      "************************************************\n",
      "Comparision of 0 percentage\n",
      "There is a statistically significant difference\n",
      "----------------------\n",
      "Comparision of 10 percentage\n",
      "There is a statistically significant difference\n",
      "----------------------\n",
      "Comparision of 20 percentage\n",
      "There is a statistically significant difference\n",
      "----------------------\n",
      "Comparision of 50 percentage\n",
      "There is a statistically significant difference\n",
      "----------------------\n",
      "Comparision of 90 percentage\n",
      "There is a statistically significant difference\n",
      "----------------------\n",
      "Comparision of 95 percentage\n",
      "There is a statistically significant difference\n",
      "----------------------\n"
     ]
    }
   ],
   "source": [
    "from scipy import stats\n",
    "\n",
    "lp = [acc_0, acc_1, acc_2, acc_5, acc_9, acc_95]\n",
    "ls = [acc_ls_0, acc_ls_1, acc_ls_2, acc_ls_5, acc_ls_9, acc_ls_95]\n",
    "sl = [acc_self_0,acc_self_1,acc_self_2,acc_self_5,acc_self_9,acc_self_95]\n",
    "percent = [0,10,20,50,90,95]\n",
    "\n",
    "\n",
    "\n",
    "#function used to determine if there is a statisfically significant difference between the algorithms\n",
    "def comparision_ssl(a,b):\n",
    "    for i in range(len(percent)):\n",
    "           \n",
    "            print(\"Comparision of {} percentage\".format(percent[i]))\n",
    "\n",
    "            m1 = a[i]\n",
    "            m2 = b[i]\n",
    "            t, p = stats.ttest_ind(m1,m2)#t test \n",
    "            if p <= 0.05:\n",
    "                result = True\n",
    "                print(\"There is a statistically significant difference\")\n",
    "                print(\"----------------------\")\n",
    "            else:\n",
    "                result = False\n",
    "                print(\"There is no difference\")\n",
    "                print(\"----------------------\")\n",
    "                \n",
    "print(\"************************************************\")          \n",
    "print(\"Comaparing Label Propogration and Label spreading\")     \n",
    "print(\"************************************************\") \n",
    "comparision_ssl(lp,ls)\n",
    "\n",
    "print(\"************************************************\")\n",
    "print(\"Comaparing Label Propogration and Self Training\") \n",
    "print(\"************************************************\")   \n",
    "comparision_ssl(lp,sl)\n",
    "\n",
    "print(\"************************************************\")\n",
    "print(\"Comaparing Label Spreading and Self Training\")  \n",
    "print(\"************************************************\")  \n",
    "comparision_ssl(ls,sl)"
   ]
  },
  {
   "cell_type": "code",
   "execution_count": 151,
   "metadata": {
    "colab": {
     "base_uri": "https://localhost:8080/"
    },
    "id": "ERzc7hmT8wzM",
    "outputId": "d49f1105-5e33-4a22-a911-c522bf77ac1f"
   },
   "outputs": [
    {
     "name": "stdout",
     "output_type": "stream",
     "text": [
      "+-------------------+----------+---------+----------+-------------+-----------+\n",
      "| Label Propagation | Accuracy |  Recall | F1 score | Specificity | AUC score |\n",
      "+-------------------+----------+---------+----------+-------------+-----------+\n",
      "|   0% unlabelled   | 0.736638 |   0.66  |  0.714   |    0.812    |    0.79   |\n",
      "|   10% unlabelled  |  0.7355  |  0.6558 |  0.7111  |    0.811    |   0.209   |\n",
      "|   20% unlabelled  |  0.726   | 0.64593 |  0.704   |    0.813    |    0.21   |\n",
      "|   50% unlabelled  |  0.719   |  0.611  |  0.6855  |    0.877    |   0.229   |\n",
      "|   90% unlabelled  |  0.6794  |  0.5364 |  0.6259  |    0.8223   |   0.241   |\n",
      "|   95% unlabelled  |  0.662   |  0.491  |  0.5929  |    0.833    |    0.25   |\n",
      "+-------------------+----------+---------+----------+-------------+-----------+\n"
     ]
    }
   ],
   "source": [
    "from prettytable import PrettyTable \n",
    "  \n",
    "# Specify the Column Names while initializing the Table \n",
    "#myTable = PrettyTable([\"0% unlabelled\", \"10% unlabelled\", \"20% unlabelled\", \"50% unlabelled\", \"90% unlabelled\", \"95% unlabelled\"]) \n",
    "myTable1 = PrettyTable([\"Label Propagation\",\"Accuracy\",\"Recall\",\"F1 score\",\"Specificity\",\"AUC score\"])  \n",
    "\n",
    "myTable1.add_row([\"0% unlabelled\",0.736638, 0.66,0.714,0.812,0.79]) \n",
    "myTable1.add_row([\"10% unlabelled\",0.7355,0.6558,0.7111,0.811,0.209]) \n",
    "myTable1.add_row([\"20% unlabelled\",0.726,0.64593,0.704,0.813,0.21]) \n",
    "myTable1.add_row([\"50% unlabelled\",0.719,0.611,0.6855,0.877,0.229]) \n",
    "myTable1.add_row([\"90% unlabelled\",0.6794,0.5364,0.6259,0.8223,0.241]) \n",
    "myTable1.add_row([\"95% unlabelled\",0.662,0.491,0.5929,0.833,0.25]) \n",
    "\n",
    "  \n",
    "print(myTable1)"
   ]
  },
  {
   "cell_type": "code",
   "execution_count": 152,
   "metadata": {
    "colab": {
     "base_uri": "https://localhost:8080/"
    },
    "id": "nfHsO8h4WNA2",
    "outputId": "260da7c6-dde3-460a-89fb-286e301db04f"
   },
   "outputs": [
    {
     "name": "stdout",
     "output_type": "stream",
     "text": [
      "+-----------------+----------+--------+----------+-------------+-----------+\n",
      "| Label Spreading | Accuracy | Recall | F1 score | Specificity | AUC score |\n",
      "+-----------------+----------+--------+----------+-------------+-----------+\n",
      "|  0% unlabelled  |  0.7382  |  0.66  |  0.716   |    0.8164   |   0.799   |\n",
      "|  10% unlabelled |  0.7375  | 0.663  |  0.716   |    0.811    |   0.207   |\n",
      "|  20% unlabelled |  0.734   | 0.657  |  0.7121  |     0.81    |   0.213   |\n",
      "|  50% unlabelled |  0.721   | 0.643  |  0.698   |     0.77    |   0.223   |\n",
      "|  90% unlabelled |  0.693   | 0.6061 |  0.6621  |    0.7844   |    0.24   |\n",
      "|  95% unlabelled |  0.6715  | 0.5579 |  0.6294  |    0.7852   |   0.257   |\n",
      "+-----------------+----------+--------+----------+-------------+-----------+\n"
     ]
    }
   ],
   "source": [
    "# Specify the Column Names while initializing the Table \n",
    "#myTable = PrettyTable([\"0% unlabelled\", \"10% unlabelled\", \"20% unlabelled\", \"50% unlabelled\", \"90% unlabelled\", \"95% unlabelled\"]) \n",
    "myTable2 = PrettyTable([\"Label Spreading\",\"Accuracy\",\"Recall\",\"F1 score\",\"Specificity\",\"AUC score\"])  \n",
    "\n",
    "myTable2.add_row([\"0% unlabelled\",0.7382, 0.66,0.716,0.8164,0.799]) \n",
    "myTable2.add_row([\"10% unlabelled\",0.7375,0.663,0.716,0.811,0.207]) \n",
    "myTable2.add_row([\"20% unlabelled\",0.734,0.657,0.7121,0.81,0.213]) \n",
    "myTable2.add_row([\"50% unlabelled\",0.721,0.643,0.698,0.77,0.223]) \n",
    "myTable2.add_row([\"90% unlabelled\",0.6930,0.6061,0.6621,0.7844,0.24]) \n",
    "myTable2.add_row([\"95% unlabelled\",0.6715,0.5579,0.6294,0.7852,0.257]) \n",
    "  \n",
    "print(myTable2)"
   ]
  },
  {
   "cell_type": "code",
   "execution_count": 153,
   "metadata": {
    "colab": {
     "base_uri": "https://localhost:8080/"
    },
    "id": "ixpEwrI6YcFJ",
    "outputId": "4649594c-4cb6-4d7b-e2ee-200f8bdc0475"
   },
   "outputs": [
    {
     "name": "stdout",
     "output_type": "stream",
     "text": [
      "+----------------+----------+--------+----------+-------------+-----------+\n",
      "| Self training  | Accuracy | Recall | F1 score | Specificity | AUC score |\n",
      "+----------------+----------+--------+----------+-------------+-----------+\n",
      "| 0% unlabelled  |  0.8583  | 0.8046 | 0.84547  |    0.9415   |   0.907   |\n",
      "| 10% unlabelled |  0.8751  | 0.8046 |  0.8724  |    0.9548   |   0.931   |\n",
      "| 20% unlabelled |  0.8846  | 0.839  |  0.896   |    0.9509   |   0.9405  |\n",
      "| 50% unlabelled |  0.8846  | 0.839  | 0.89604  |    0.9509   |   0.9405  |\n",
      "| 90% unlabelled | 0.89742  | 0.9014 |  0.9344  |    0.8803   |   0.9346  |\n",
      "| 95% unlabelled | 0.92714  | 0.939  |  0.9575  |    0.8433   |   0.9596  |\n",
      "+----------------+----------+--------+----------+-------------+-----------+\n"
     ]
    }
   ],
   "source": [
    "myTable3 = PrettyTable([\"Self training\",\"Accuracy\",\"Recall\",\"F1 score\",\"Specificity\",\"AUC score\"])  \n",
    "\n",
    "myTable3.add_row([\"0% unlabelled\",0.8583, 0.8046, 0.84547,0.9415,0.907]) \n",
    "myTable3.add_row([\"10% unlabelled\",0.8751,0.8046,0.8724,0.9548,0.931]) \n",
    "myTable3.add_row([\"20% unlabelled\",0.8846,0.839,0.8960,0.9509,0.9405]) \n",
    "myTable3.add_row([\"50% unlabelled\",0.8846,0.8390,0.89604,0.9509,0.9405]) \n",
    "myTable3.add_row([\"90% unlabelled\",0.89742,0.9014,0.9344,0.8803,0.9346]) \n",
    "myTable3.add_row([\"95% unlabelled\",0.92714,0.9390,0.9575,0.8433,0.9596]) \n",
    "\n",
    "  \n",
    "print(myTable3)"
   ]
  },
  {
   "cell_type": "code",
   "execution_count": 154,
   "metadata": {
    "colab": {
     "base_uri": "https://localhost:8080/"
    },
    "id": "sMBoG7H7Yefx",
    "outputId": "8a82d0ed-02af-497c-ebc2-f3eea18261db"
   },
   "outputs": [
    {
     "name": "stdout",
     "output_type": "stream",
     "text": [
      "+-------------------+----------+---------+----------+-------------+-----------+\n",
      "| Label Propagation | Accuracy |  Recall | F1 score | Specificity | AUC score |\n",
      "+-------------------+----------+---------+----------+-------------+-----------+\n",
      "|   0% unlabelled   | 0.736638 |   0.66  |  0.714   |    0.812    |    0.79   |\n",
      "|   10% unlabelled  |  0.7355  |  0.6558 |  0.7111  |    0.811    |   0.209   |\n",
      "|   20% unlabelled  |  0.726   | 0.64593 |  0.704   |    0.813    |    0.21   |\n",
      "|   50% unlabelled  |  0.719   |  0.611  |  0.6855  |    0.877    |   0.229   |\n",
      "|   90% unlabelled  |  0.6794  |  0.5364 |  0.6259  |    0.8223   |   0.241   |\n",
      "|   95% unlabelled  |  0.662   |  0.491  |  0.5929  |    0.833    |    0.25   |\n",
      "+-------------------+----------+---------+----------+-------------+-----------+\n",
      "+-----------------+----------+--------+----------+-------------+-----------+\n",
      "| Label Spreading | Accuracy | Recall | F1 score | Specificity | AUC score |\n",
      "+-----------------+----------+--------+----------+-------------+-----------+\n",
      "|  0% unlabelled  |  0.7382  |  0.66  |  0.716   |    0.8164   |   0.799   |\n",
      "|  10% unlabelled |  0.7375  | 0.663  |  0.716   |    0.811    |   0.207   |\n",
      "|  20% unlabelled |  0.734   | 0.657  |  0.7121  |     0.81    |   0.213   |\n",
      "|  50% unlabelled |  0.721   | 0.643  |  0.698   |     0.77    |   0.223   |\n",
      "|  90% unlabelled |  0.693   | 0.6061 |  0.6621  |    0.7844   |    0.24   |\n",
      "|  95% unlabelled |  0.6715  | 0.5579 |  0.6294  |    0.7852   |   0.257   |\n",
      "+-----------------+----------+--------+----------+-------------+-----------+\n",
      "+----------------+----------+--------+----------+-------------+-----------+\n",
      "| Self training  | Accuracy | Recall | F1 score | Specificity | AUC score |\n",
      "+----------------+----------+--------+----------+-------------+-----------+\n",
      "| 0% unlabelled  |  0.8583  | 0.8046 | 0.84547  |    0.9415   |   0.907   |\n",
      "| 10% unlabelled |  0.8751  | 0.8046 |  0.8724  |    0.9548   |   0.931   |\n",
      "| 20% unlabelled |  0.8846  | 0.839  |  0.896   |    0.9509   |   0.9405  |\n",
      "| 50% unlabelled |  0.8846  | 0.839  | 0.89604  |    0.9509   |   0.9405  |\n",
      "| 90% unlabelled | 0.89742  | 0.9014 |  0.9344  |    0.8803   |   0.9346  |\n",
      "| 95% unlabelled | 0.92714  | 0.939  |  0.9575  |    0.8433   |   0.9596  |\n",
      "+----------------+----------+--------+----------+-------------+-----------+\n"
     ]
    }
   ],
   "source": [
    "print(myTable1)\n",
    "print(myTable2)\n",
    "print(myTable3)"
   ]
  },
  {
   "cell_type": "markdown",
   "metadata": {
    "id": "o2TXEuwKhopO"
   },
   "source": [
    "### Summary:\n",
    "As we can see from the tables, self training algorithm gives the best results when compared to Label propagation and Label Spreading. Apart from that, the results obtained for 0 percent unlabelled data or 10 percent unlabelled data is higher than other percentages for all the 3 techniques. This is due to the presence of high percentage of labelled data which makes it easy for the prediction of the unlabelled instances. \n",
    "\n",
    "Also, we can observe that the results in the of Label propagation and Label Spreading are very similar. It can be noted that the auc-roc value for all the percentages of unlabelled data except for 0 percentage is very low, whereas value of other metrics is slightly higher. Also, no statistical difference was found between the Label propagation and Label Spreading.\n",
    "\n",
    "It was also observed that the models in SSL produced significantly faster results for the RBF kernel without any memory issues."
   ]
  },
  {
   "cell_type": "markdown",
   "metadata": {
    "id": "lqS7oQYmn6y8"
   },
   "source": [
    "# Conclusion"
   ]
  },
  {
   "cell_type": "markdown",
   "metadata": {
    "id": "OnYOuFDmnQle"
   },
   "source": [
    "\n",
    "In conclusion, prepossessing the data along with several machine algorithms were used on the dataset. From the results obtained, we can say that MLPClassfier performs better when compared to other ML algorithms in both the problem statements. The performance of the algorithms can be increased in future by tuning the hyperparameters. Also, the design of the self-training algorithm can be further improved. Apart from that, a different problem statement, for example, to determine which drug contributes the most can be used to derive more insights from the dataset. "
   ]
  }
 ],
 "metadata": {
  "accelerator": "GPU",
  "colab": {
   "collapsed_sections": [
    "2pA3I_8R-ETp",
    "2sfJyOaL-8o8",
    "3o4ivPxO_gis",
    "pmmHVEAZOjDe",
    "CIJwJbOtQ-3w"
   ],
   "machine_shape": "hm",
   "name": "ML pro.ipynb",
   "provenance": []
  },
  "kernelspec": {
   "display_name": "Python 3",
   "language": "python",
   "name": "python3"
  },
  "language_info": {
   "codemirror_mode": {
    "name": "ipython",
    "version": 3
   },
   "file_extension": ".py",
   "mimetype": "text/x-python",
   "name": "python",
   "nbconvert_exporter": "python",
   "pygments_lexer": "ipython3",
   "version": "3.8.3"
  }
 },
 "nbformat": 4,
 "nbformat_minor": 1
}
